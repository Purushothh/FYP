{
 "cells": [
  {
   "cell_type": "code",
   "execution_count": 1,
   "metadata": {},
   "outputs": [],
   "source": [
    "#import libraries and dependencies\n",
    "import pandas as pds\n",
    "import numpy as npy\n",
    "from sklearn.model_selection import train_test_split\n",
    "import pickle"
   ]
  },
  {
   "cell_type": "code",
   "execution_count": 4,
   "metadata": {},
   "outputs": [],
   "source": [
    "#import and read dataset of Dow jones.\n",
    "dataFrame = pds.read_csv(\"C:\\\\Users\\\\Acer\\\\Desktop\\\\Closeing\\\\DJIA\\\\DJIA(ClosingVal-tomorrow).csv\")"
   ]
  },
  {
   "cell_type": "code",
   "execution_count": 5,
   "metadata": {},
   "outputs": [
    {
     "data": {
      "text/html": [
       "<div>\n",
       "<style scoped>\n",
       "    .dataframe tbody tr th:only-of-type {\n",
       "        vertical-align: middle;\n",
       "    }\n",
       "\n",
       "    .dataframe tbody tr th {\n",
       "        vertical-align: top;\n",
       "    }\n",
       "\n",
       "    .dataframe thead th {\n",
       "        text-align: right;\n",
       "    }\n",
       "</style>\n",
       "<table border=\"1\" class=\"dataframe\">\n",
       "  <thead>\n",
       "    <tr style=\"text-align: right;\">\n",
       "      <th></th>\n",
       "      <th>Date</th>\n",
       "      <th>Open</th>\n",
       "      <th>High</th>\n",
       "      <th>Low</th>\n",
       "      <th>Volume</th>\n",
       "      <th>Close</th>\n",
       "    </tr>\n",
       "  </thead>\n",
       "  <tbody>\n",
       "    <tr>\n",
       "      <th>0</th>\n",
       "      <td>8/11/2008</td>\n",
       "      <td>11729.66992</td>\n",
       "      <td>11867.11035</td>\n",
       "      <td>11675.53027</td>\n",
       "      <td>183190000</td>\n",
       "      <td>11782.34961</td>\n",
       "    </tr>\n",
       "    <tr>\n",
       "      <th>1</th>\n",
       "      <td>8/12/2008</td>\n",
       "      <td>11781.70020</td>\n",
       "      <td>11782.34961</td>\n",
       "      <td>11601.51953</td>\n",
       "      <td>173590000</td>\n",
       "      <td>11642.46973</td>\n",
       "    </tr>\n",
       "    <tr>\n",
       "      <th>2</th>\n",
       "      <td>8/13/2008</td>\n",
       "      <td>11632.80957</td>\n",
       "      <td>11633.78027</td>\n",
       "      <td>11453.33984</td>\n",
       "      <td>182550000</td>\n",
       "      <td>11532.95996</td>\n",
       "    </tr>\n",
       "    <tr>\n",
       "      <th>3</th>\n",
       "      <td>8/14/2008</td>\n",
       "      <td>11532.07031</td>\n",
       "      <td>11718.28027</td>\n",
       "      <td>11450.88965</td>\n",
       "      <td>159790000</td>\n",
       "      <td>11615.92969</td>\n",
       "    </tr>\n",
       "    <tr>\n",
       "      <th>4</th>\n",
       "      <td>8/15/2008</td>\n",
       "      <td>11611.20996</td>\n",
       "      <td>11709.88965</td>\n",
       "      <td>11599.73047</td>\n",
       "      <td>215040000</td>\n",
       "      <td>11659.90039</td>\n",
       "    </tr>\n",
       "  </tbody>\n",
       "</table>\n",
       "</div>"
      ],
      "text/plain": [
       "        Date         Open         High          Low     Volume        Close\n",
       "0  8/11/2008  11729.66992  11867.11035  11675.53027  183190000  11782.34961\n",
       "1  8/12/2008  11781.70020  11782.34961  11601.51953  173590000  11642.46973\n",
       "2  8/13/2008  11632.80957  11633.78027  11453.33984  182550000  11532.95996\n",
       "3  8/14/2008  11532.07031  11718.28027  11450.88965  159790000  11615.92969\n",
       "4  8/15/2008  11611.20996  11709.88965  11599.73047  215040000  11659.90039"
      ]
     },
     "execution_count": 5,
     "metadata": {},
     "output_type": "execute_result"
    }
   ],
   "source": [
    "dataFrame.head()"
   ]
  },
  {
   "cell_type": "code",
   "execution_count": 8,
   "metadata": {},
   "outputs": [
    {
     "data": {
      "text/html": [
       "<div>\n",
       "<style scoped>\n",
       "    .dataframe tbody tr th:only-of-type {\n",
       "        vertical-align: middle;\n",
       "    }\n",
       "\n",
       "    .dataframe tbody tr th {\n",
       "        vertical-align: top;\n",
       "    }\n",
       "\n",
       "    .dataframe thead th {\n",
       "        text-align: right;\n",
       "    }\n",
       "</style>\n",
       "<table border=\"1\" class=\"dataframe\">\n",
       "  <thead>\n",
       "    <tr style=\"text-align: right;\">\n",
       "      <th></th>\n",
       "      <th>Date</th>\n",
       "      <th>Open</th>\n",
       "      <th>High</th>\n",
       "      <th>Low</th>\n",
       "      <th>Volume</th>\n",
       "      <th>Close</th>\n",
       "    </tr>\n",
       "  </thead>\n",
       "  <tbody>\n",
       "    <tr>\n",
       "      <th>1982</th>\n",
       "      <td>6/24/2016</td>\n",
       "      <td>17946.63086</td>\n",
       "      <td>17946.63086</td>\n",
       "      <td>17356.33984</td>\n",
       "      <td>239000000</td>\n",
       "      <td>17400.75000</td>\n",
       "    </tr>\n",
       "    <tr>\n",
       "      <th>1983</th>\n",
       "      <td>6/27/2016</td>\n",
       "      <td>17355.21094</td>\n",
       "      <td>17355.21094</td>\n",
       "      <td>17063.08008</td>\n",
       "      <td>138740000</td>\n",
       "      <td>17140.24023</td>\n",
       "    </tr>\n",
       "    <tr>\n",
       "      <th>1984</th>\n",
       "      <td>6/28/2016</td>\n",
       "      <td>17190.50977</td>\n",
       "      <td>17409.72070</td>\n",
       "      <td>17190.50977</td>\n",
       "      <td>112190000</td>\n",
       "      <td>17409.72070</td>\n",
       "    </tr>\n",
       "    <tr>\n",
       "      <th>1985</th>\n",
       "      <td>6/29/2016</td>\n",
       "      <td>17456.01953</td>\n",
       "      <td>17704.50977</td>\n",
       "      <td>17456.01953</td>\n",
       "      <td>106380000</td>\n",
       "      <td>17694.67969</td>\n",
       "    </tr>\n",
       "    <tr>\n",
       "      <th>1986</th>\n",
       "      <td>6/30/2016</td>\n",
       "      <td>17712.75977</td>\n",
       "      <td>17930.60938</td>\n",
       "      <td>17711.80078</td>\n",
       "      <td>133030000</td>\n",
       "      <td>17929.99023</td>\n",
       "    </tr>\n",
       "  </tbody>\n",
       "</table>\n",
       "</div>"
      ],
      "text/plain": [
       "           Date         Open         High          Low     Volume        Close\n",
       "1982  6/24/2016  17946.63086  17946.63086  17356.33984  239000000  17400.75000\n",
       "1983  6/27/2016  17355.21094  17355.21094  17063.08008  138740000  17140.24023\n",
       "1984  6/28/2016  17190.50977  17409.72070  17190.50977  112190000  17409.72070\n",
       "1985  6/29/2016  17456.01953  17704.50977  17456.01953  106380000  17694.67969\n",
       "1986  6/30/2016  17712.75977  17930.60938  17711.80078  133030000  17929.99023"
      ]
     },
     "execution_count": 8,
     "metadata": {},
     "output_type": "execute_result"
    }
   ],
   "source": [
    "dataFrame.tail()"
   ]
  },
  {
   "cell_type": "code",
   "execution_count": 9,
   "metadata": {},
   "outputs": [
    {
     "data": {
      "text/plain": [
       "Date      0\n",
       "Open      0\n",
       "High      0\n",
       "Low       0\n",
       "Volume    0\n",
       "Close     0\n",
       "dtype: int64"
      ]
     },
     "execution_count": 9,
     "metadata": {},
     "output_type": "execute_result"
    }
   ],
   "source": [
    "#checking for null values and the total no.of records.\n",
    "dataFrame.isna().sum()"
   ]
  },
  {
   "cell_type": "code",
   "execution_count": 10,
   "metadata": {},
   "outputs": [
    {
     "data": {
      "text/plain": [
       "(1987, 6)"
      ]
     },
     "execution_count": 10,
     "metadata": {},
     "output_type": "execute_result"
    }
   ],
   "source": [
    "dataFrame.shape"
   ]
  },
  {
   "cell_type": "code",
   "execution_count": 11,
   "metadata": {},
   "outputs": [],
   "source": [
    "#remove date coloumn.\n",
    "del dataFrame['Date']"
   ]
  },
  {
   "cell_type": "code",
   "execution_count": 12,
   "metadata": {},
   "outputs": [],
   "source": [
    "#assign x as dataframe.\n",
    "trainColoumn = dataFrame"
   ]
  },
  {
   "cell_type": "code",
   "execution_count": 13,
   "metadata": {},
   "outputs": [],
   "source": [
    "# assign X and y to the train and test coloumns.\n",
    "trainColoumn = npy.array(trainColoumn.drop(['Close'], 1))\n",
    "testColoumn = npy.array(dataFrame['Close'])"
   ]
  },
  {
   "cell_type": "code",
   "execution_count": 14,
   "metadata": {},
   "outputs": [],
   "source": [
    "#data spliting and defining.\n",
    "x_training, x_testing, y_training, y_testing = train_test_split(trainColoumn, testColoumn, test_size=0.2, random_state=42)"
   ]
  },
  {
   "cell_type": "code",
   "execution_count": 15,
   "metadata": {},
   "outputs": [
    {
     "data": {
      "text/plain": [
       "(1589, 4)"
      ]
     },
     "execution_count": 15,
     "metadata": {},
     "output_type": "execute_result"
    }
   ],
   "source": [
    "#validating the split has correctly divided the dataset.\n",
    "x_training.shape"
   ]
  },
  {
   "cell_type": "code",
   "execution_count": 16,
   "metadata": {},
   "outputs": [
    {
     "data": {
      "text/plain": [
       "(1589,)"
      ]
     },
     "execution_count": 16,
     "metadata": {},
     "output_type": "execute_result"
    }
   ],
   "source": [
    "y_training.shape"
   ]
  },
  {
   "cell_type": "code",
   "execution_count": 17,
   "metadata": {},
   "outputs": [
    {
     "data": {
      "text/plain": [
       "(398, 4)"
      ]
     },
     "execution_count": 17,
     "metadata": {},
     "output_type": "execute_result"
    }
   ],
   "source": [
    "x_testing.shape"
   ]
  },
  {
   "cell_type": "code",
   "execution_count": 18,
   "metadata": {},
   "outputs": [
    {
     "data": {
      "text/plain": [
       "(398,)"
      ]
     },
     "execution_count": 18,
     "metadata": {},
     "output_type": "execute_result"
    }
   ],
   "source": [
    "y_testing.shape"
   ]
  },
  {
   "cell_type": "markdown",
   "metadata": {},
   "source": [
    "### LASSO"
   ]
  },
  {
   "cell_type": "code",
   "execution_count": 19,
   "metadata": {},
   "outputs": [],
   "source": [
    "#import Roandom Forest model\n",
    "from sklearn.linear_model import Lasso"
   ]
  },
  {
   "cell_type": "code",
   "execution_count": 20,
   "metadata": {},
   "outputs": [
    {
     "name": "stderr",
     "output_type": "stream",
     "text": [
      "C:\\Users\\Acer\\anaconda3\\lib\\site-packages\\sklearn\\linear_model\\_coordinate_descent.py:476: ConvergenceWarning: Objective did not converge. You might want to increase the number of iterations. Duality gap: 5416218.491303926, tolerance: 1570869.7193987465\n",
      "  positive)\n"
     ]
    },
    {
     "data": {
      "text/plain": [
       "Lasso(alpha=1.0, copy_X=True, fit_intercept=True, max_iter=1000,\n",
       "      normalize=False, positive=False, precompute=False, random_state=None,\n",
       "      selection='cyclic', tol=0.0001, warm_start=False)"
      ]
     },
     "execution_count": 20,
     "metadata": {},
     "output_type": "execute_result"
    }
   ],
   "source": [
    "#fitting into the lasso model\n",
    "lasso = Lasso()\n",
    "lasso.fit(x_training, y_training)"
   ]
  },
  {
   "cell_type": "code",
   "execution_count": 22,
   "metadata": {},
   "outputs": [
    {
     "data": {
      "text/plain": [
       "array([ 8716.40894564, 16946.24164185, 11327.56594555, 14826.00524681,\n",
       "       17361.94855921, 10315.57137529, 13000.61132379, 17843.25527061,\n",
       "       15653.51047588, 13423.75216266, 15259.0845877 ,  9876.72801394,\n",
       "       15413.23465126, 17673.43568701, 12046.92693382, 17071.18201693,\n",
       "       18022.74636297, 12611.17126246, 10211.87188176,  9158.33024676,\n",
       "       12578.31570872, 15403.31466435, 10954.89723574, 18041.78981438,\n",
       "       16213.99976397, 13054.1561443 , 14801.85157069, 12127.49083186,\n",
       "       12388.70415374,  8300.31911666, 11215.91722321,  8757.53142777,\n",
       "       15889.73960783, 13226.57564722, 15515.99934827,  8131.79692418,\n",
       "       13979.87056184, 15189.49095669, 10947.2549766 , 17272.12343608,\n",
       "       16861.52616144, 10878.36615535,  8148.50814232, 17760.10840349,\n",
       "       11227.66597783, 15467.35809693, 15266.2086827 , 11151.31317521,\n",
       "       10273.83275402, 12419.04219492, 16497.91165909, 10286.31666931,\n",
       "       11264.23947152,  7827.82194154, 17666.56628064, 12562.61436848,\n",
       "       17497.54401368, 12106.87384628, 11102.88356027,  8862.56162365,\n",
       "       17024.53558939, 15925.11437421, 11983.06084066, 12547.6610408 ,\n",
       "       15981.39371622, 10606.16491051, 10951.21509677, 10195.98069071,\n",
       "       17758.20410676, 16504.42213407, 12595.8368024 ,  8443.16630885,\n",
       "       13226.8110132 , 16343.89495565, 15471.77978366, 15964.80452124,\n",
       "       12076.99082581, 10071.39940845, 15282.38795699, 12227.43121148,\n",
       "       12547.90235693, 17794.16596136, 10770.47511277, 11434.44865373,\n",
       "       15948.63598364, 12852.31098165, 13997.87013323,  8748.894165  ,\n",
       "       17007.79887571,  9366.38328851,  9471.18777239, 18087.60337858,\n",
       "       18010.75042609, 17836.48061743, 17639.0630926 , 10555.71556587,\n",
       "       17822.66576347, 12018.23695225, 10289.90752004, 13183.39065248,\n",
       "       18102.89517348, 17752.2700966 , 11463.8705777 , 17038.28388164,\n",
       "       13823.18668034, 12054.93450062, 16526.63639339, 12288.93091447,\n",
       "       12002.9667211 , 16986.44742674, 12568.16216675, 17489.52751544,\n",
       "       18030.36373535, 11103.57995008, 13243.95474238, 16241.37334662,\n",
       "       12902.36961164, 13551.18285171, 11106.56960326, 10182.06415918,\n",
       "       17178.18490498, 16543.51342078, 10936.55088009, 17580.19564036,\n",
       "       11061.47579431, 11977.03506498,  8766.96688079, 17023.537331  ,\n",
       "        9889.8307773 , 10381.78285372, 16452.45732926, 16422.79284616,\n",
       "        9962.90169679, 10988.13275514, 16772.24429512, 17879.04820902,\n",
       "       12790.63059163, 17228.12211591, 12978.72532936, 15190.60763711,\n",
       "       15523.57714004,  8226.15721901,  7926.65956631, 15890.38078611,\n",
       "       12851.91563421, 12286.26498498, 15764.92857428,  7198.48415068,\n",
       "       12690.58580164, 10412.06685625, 11206.92593741, 10909.12718872,\n",
       "        8483.65968478, 15310.12811869,  8126.47885177,  9924.46048527,\n",
       "       10315.85068729,  8791.57048991, 18045.2683101 , 11279.64188642,\n",
       "       16789.80928447, 15869.43353281, 12384.64906032, 17890.13598607,\n",
       "        9580.71688401, 10911.24474684, 17807.7354421 , 12263.89152581,\n",
       "       10518.12128182,  9338.08716922, 17056.4534746 , 17314.43425453,\n",
       "       17471.98461238, 16509.64195206, 13069.65836904, 11404.01220205,\n",
       "       10498.48232727, 17639.80013284,  9391.01816464, 10900.98164228,\n",
       "       12201.44373622, 15085.7211174 , 10560.09142774,  9079.84252918,\n",
       "       11464.76945489,  9277.43990995,  9241.39630615, 17049.46796728,\n",
       "       13015.28690161, 13140.65914652, 10154.94478492, 10216.14114709,\n",
       "       12320.3802735 , 17104.17727288, 14472.16776966, 13484.95557833,\n",
       "       14524.79087046, 15002.43045577, 11373.12734143, 10534.07080122,\n",
       "        8829.83673383, 13338.23437113,  8477.73413759, 12672.33080679,\n",
       "        8972.72156144, 17743.35741433, 16249.27741084, 16375.30890497,\n",
       "       11130.19735694, 17652.02471877,  8323.79511927, 17911.51334916,\n",
       "       13006.91688557, 13092.28043063, 16796.81860494, 17736.23279545,\n",
       "        8928.21237263, 16175.04727561, 17718.2661411 , 17655.23983474,\n",
       "        8384.02323839, 13154.51434885, 13749.33538304, 17594.36592384,\n",
       "       11913.34644401, 11369.92089153, 11377.8437115 , 12133.86605106,\n",
       "       13187.60289297, 16079.31567775, 12945.26745801,  9938.09279477,\n",
       "       13442.8337649 , 17507.39741278,  8113.30994759, 11797.57434706,\n",
       "       15275.38779861, 10219.96963391, 17639.20445071, 15244.2589303 ,\n",
       "        9997.83949647,  9794.53583998, 14517.01703198, 10344.03874158,\n",
       "       12211.69806134, 11351.19175935, 16153.45503592, 12126.49350284,\n",
       "        7977.82916121, 17842.46093215, 18013.74306061, 15029.15328678,\n",
       "       15560.01991672, 15599.47709539, 18086.89351111, 12137.18178731,\n",
       "        8609.96484281, 17830.02105139, 10983.685408  , 12430.79803718,\n",
       "        9825.83590414, 12470.69425409, 10392.55663935,  7939.61239453,\n",
       "        8720.71903599, 12436.85517143, 16543.18204541, 10712.5844415 ,\n",
       "       10169.52640979, 17722.11332473, 11112.42548259, 18044.94247623,\n",
       "       17914.60589527, 16808.21226573,  8317.52094057, 17542.730701  ,\n",
       "       12835.09334369, 11582.83639705, 15768.7913691 ,  9343.50681804,\n",
       "       13546.13597238, 10502.42613901,  7744.62778462,  7881.55532096,\n",
       "       17818.09002357, 13954.14806584, 13169.93477201, 16111.86954159,\n",
       "       11297.48483686, 18011.72216717,  9493.72883362, 12858.14612047,\n",
       "       16484.7370463 , 14706.09641542,  8550.55582476, 16887.31315528,\n",
       "       16406.1934068 , 14851.61532757, 17779.54417822, 10406.54222097,\n",
       "       10029.89433137, 11835.18543413, 11021.9208567 , 13005.99652452,\n",
       "       16917.59843536, 11171.59730882, 15021.35179892, 15265.31983523,\n",
       "       16709.23294446, 17668.46949372, 16166.54829738, 10545.32173669,\n",
       "       16634.00713036,  8997.26988624, 16887.93405859,  7999.12327436,\n",
       "       10005.73505202, 16907.07158397, 14858.51814838, 17193.16300109,\n",
       "       11559.8495039 , 15451.94671062, 13221.59173146, 12910.38532466,\n",
       "       14988.59350731, 16403.09576411, 15390.21814893, 16321.81779101,\n",
       "       13212.06109131, 12664.42121634,  8393.01835173, 12111.13610482,\n",
       "       13175.63985928, 15083.17457744, 12683.71740164, 10510.50875446,\n",
       "       12446.70516378, 10768.12902365, 17915.41798614, 17707.84081352,\n",
       "       17536.51494716, 16498.32542611, 12487.23693692,  7927.01992735,\n",
       "       17680.27072949, 11295.1414926 , 17278.77444628,  7958.67236455,\n",
       "       11658.81943323, 15222.9586884 , 11139.86195616, 13147.72543941,\n",
       "       15562.42130098, 13146.36268197, 10468.79312575, 15592.58776219,\n",
       "        8475.9276854 , 10153.95896805, 10724.18670882, 18226.75363594,\n",
       "       10395.97714852, 14770.92442652,  9493.08935968, 16705.47457788,\n",
       "       16544.75601518,  8489.74169947, 13198.05053472, 10554.85647991,\n",
       "       13995.39316277, 10508.7625458 , 18044.2409039 , 16401.3632424 ,\n",
       "       13167.55179298, 17654.89315894, 17725.65112009, 12819.82694742,\n",
       "       17688.62166927, 17119.83714829, 10300.91337226, 18203.59251949,\n",
       "       10501.70603783, 13008.81876141, 17669.21852006, 17296.41155496,\n",
       "       18194.87137509, 17036.45123573, 12147.35154126, 10536.055422  ,\n",
       "       14467.8218645 , 16475.4044276 , 12437.12259076,  9531.11569436,\n",
       "       11898.85942576, 18010.14653762,  9048.00564361, 17888.9211318 ,\n",
       "       15002.91118534,  9748.1114641 ])"
      ]
     },
     "execution_count": 22,
     "metadata": {},
     "output_type": "execute_result"
    }
   ],
   "source": [
    "#predict target from training data\n",
    "lasso_predictions = lasso.predict(x_testing)\n",
    "# lasso_predictions"
   ]
  },
  {
   "cell_type": "code",
   "execution_count": 25,
   "metadata": {},
   "outputs": [],
   "source": [
    "def mda(y_testing:npy.ndarray,predicted:npy.ndarray):\n",
    "    \"\"\" Mean Directional Accuracy \"\"\"\n",
    "    return npy.mean((npy.sign(y_testing[1:]-y_testing[:-1])== npy.sign(predicted[1:]- predicted[:-1])).astype(int))"
   ]
  },
  {
   "cell_type": "code",
   "execution_count": 26,
   "metadata": {},
   "outputs": [],
   "source": [
    "def MAPE(y_testing:npy.ndarray,predicted:npy.ndarray):\n",
    "    \"\"\" Mean Absolute Percentage Error \"\"\"\n",
    "    mape = npy.mean(npy.abs((y_testing - predicted)/y_testing))*100\n",
    "    return mape"
   ]
  },
  {
   "cell_type": "code",
   "execution_count": 27,
   "metadata": {},
   "outputs": [
    {
     "name": "stdout",
     "output_type": "stream",
     "text": [
      "Mean Absolute Error: 59.98452197794801\n",
      "Mean Squared Error: 7728.202913971015\n",
      "Root Mean Squared Error: 87.91019800893987\n",
      "Mean Directional Accuracy: 0.9899244332493703\n",
      "Mean Absolute Percentage Error: 0.49771416181111594\n",
      "0.50\n"
     ]
    }
   ],
   "source": [
    "from sklearn import metrics\n",
    "print('Mean Absolute Error:', metrics.mean_absolute_error(y_testing, lasso_predictions))\n",
    "print('Mean Squared Error:', metrics.mean_squared_error(y_testing, lasso_predictions))\n",
    "print('Root Mean Squared Error:', npy.sqrt(metrics.mean_squared_error(y_testing, lasso_predictions)))\n",
    "print('Mean Directional Accuracy:', mda(y_testing, lasso_predictions))\n",
    "print('Mean Absolute Percentage Error:', MAPE(y_testing,lasso_predictions))\n",
    "\n",
    "e = MAPE(y_testing,lasso_predictions)\n",
    "print('%.2f'%e)"
   ]
  },
  {
   "cell_type": "code",
   "execution_count": 28,
   "metadata": {},
   "outputs": [
    {
     "name": "stdout",
     "output_type": "stream",
     "text": [
      "model saved...\n"
     ]
    }
   ],
   "source": [
    "#dumping the most efficent model\n",
    "pickle.dump(lasso, open(\"DWJA_tdysPrediction.pkl\", 'wb'))\n",
    "print('model saved...')"
   ]
  },
  {
   "cell_type": "markdown",
   "metadata": {},
   "source": [
    "### Predicting for 26th March using 25th Open, High, Low, Volume"
   ]
  },
  {
   "cell_type": "code",
   "execution_count": 20,
   "metadata": {},
   "outputs": [
    {
     "data": {
      "text/plain": [
       "array([32390.51095208])"
      ]
     },
     "execution_count": 20,
     "metadata": {},
     "output_type": "execute_result"
    }
   ],
   "source": [
    "ls.predict([[32346.81,32672.69,32071.41,411990000]])"
   ]
  },
  {
   "cell_type": "markdown",
   "metadata": {},
   "source": [
    "### Graph"
   ]
  },
  {
   "cell_type": "code",
   "execution_count": 35,
   "metadata": {},
   "outputs": [],
   "source": [
    "import matplotlib.pyplot as plt"
   ]
  },
  {
   "cell_type": "code",
   "execution_count": 29,
   "metadata": {},
   "outputs": [],
   "source": [
    "newDataFrame=pds.read_csv(\"C:\\\\Users\\\\Acer\\\\Desktop\\\\Closeing\\\\DJIA\\\\DJIA(DataFrom25March)-Today.csv\")"
   ]
  },
  {
   "cell_type": "code",
   "execution_count": 30,
   "metadata": {},
   "outputs": [
    {
     "data": {
      "text/html": [
       "<div>\n",
       "<style scoped>\n",
       "    .dataframe tbody tr th:only-of-type {\n",
       "        vertical-align: middle;\n",
       "    }\n",
       "\n",
       "    .dataframe tbody tr th {\n",
       "        vertical-align: top;\n",
       "    }\n",
       "\n",
       "    .dataframe thead th {\n",
       "        text-align: right;\n",
       "    }\n",
       "</style>\n",
       "<table border=\"1\" class=\"dataframe\">\n",
       "  <thead>\n",
       "    <tr style=\"text-align: right;\">\n",
       "      <th></th>\n",
       "      <th>Date</th>\n",
       "      <th>Open</th>\n",
       "      <th>High</th>\n",
       "      <th>Low</th>\n",
       "      <th>Volume</th>\n",
       "      <th>Close</th>\n",
       "    </tr>\n",
       "  </thead>\n",
       "  <tbody>\n",
       "    <tr>\n",
       "      <th>0</th>\n",
       "      <td>3/25/2021</td>\n",
       "      <td>32346.81</td>\n",
       "      <td>32672.69</td>\n",
       "      <td>32071.41</td>\n",
       "      <td>411990000.0</td>\n",
       "      <td>32619.48</td>\n",
       "    </tr>\n",
       "    <tr>\n",
       "      <th>1</th>\n",
       "      <td>3/26/2021</td>\n",
       "      <td>32681.07</td>\n",
       "      <td>33098.83</td>\n",
       "      <td>32681.07</td>\n",
       "      <td>382170000.0</td>\n",
       "      <td>33072.88</td>\n",
       "    </tr>\n",
       "    <tr>\n",
       "      <th>2</th>\n",
       "      <td>3/29/2021</td>\n",
       "      <td>33087.55</td>\n",
       "      <td>33259.00</td>\n",
       "      <td>32905.13</td>\n",
       "      <td>351610000.0</td>\n",
       "      <td>33171.37</td>\n",
       "    </tr>\n",
       "    <tr>\n",
       "      <th>3</th>\n",
       "      <td>3/30/2021</td>\n",
       "      <td>33127.88</td>\n",
       "      <td>33170.93</td>\n",
       "      <td>32988.92</td>\n",
       "      <td>307510000.0</td>\n",
       "      <td>33066.96</td>\n",
       "    </tr>\n",
       "    <tr>\n",
       "      <th>4</th>\n",
       "      <td>3/31/2021</td>\n",
       "      <td>33116.04</td>\n",
       "      <td>33173.77</td>\n",
       "      <td>32980.57</td>\n",
       "      <td>414140000.0</td>\n",
       "      <td>32981.55</td>\n",
       "    </tr>\n",
       "  </tbody>\n",
       "</table>\n",
       "</div>"
      ],
      "text/plain": [
       "        Date      Open      High       Low       Volume     Close\n",
       "0  3/25/2021  32346.81  32672.69  32071.41  411990000.0  32619.48\n",
       "1  3/26/2021  32681.07  33098.83  32681.07  382170000.0  33072.88\n",
       "2  3/29/2021  33087.55  33259.00  32905.13  351610000.0  33171.37\n",
       "3  3/30/2021  33127.88  33170.93  32988.92  307510000.0  33066.96\n",
       "4  3/31/2021  33116.04  33173.77  32980.57  414140000.0  32981.55"
      ]
     },
     "execution_count": 30,
     "metadata": {},
     "output_type": "execute_result"
    }
   ],
   "source": [
    "newDataFrame.head()"
   ]
  },
  {
   "cell_type": "code",
   "execution_count": 31,
   "metadata": {},
   "outputs": [],
   "source": [
    "keep_columns=['Open','High','Low','Volume']\n",
    "new_x_val=newDataFrame[keep_columns]"
   ]
  },
  {
   "cell_type": "code",
   "execution_count": 33,
   "metadata": {},
   "outputs": [],
   "source": [
    "predictions = lasso.predict(new_x_val)"
   ]
  },
  {
   "cell_type": "code",
   "execution_count": 37,
   "metadata": {},
   "outputs": [
    {
     "data": {
      "text/plain": [
       "<matplotlib.legend.Legend at 0x1fff0788d48>"
      ]
     },
     "execution_count": 37,
     "metadata": {},
     "output_type": "execute_result"
    },
    {
     "data": {
      "image/png": "[encoded data removed]",
      "text/plain": [
       "<Figure size 720x360 with 1 Axes>"
      ]
     },
     "metadata": {
      "needs_background": "light"
     },
     "output_type": "display_data"
    }
   ],
   "source": [
    "#defing the graph data\n",
    "plt.figure(figsize=(10,5))\n",
    "plt.plot(newDataFrame['Date'],newDataFrame['Close'], label ='Actual Value')\n",
    "plt.plot(newDataFrame['Date'],predictions, label ='Predicted Value')\n",
    "plt.xlabel('Date')\n",
    "plt.ylabel('Closing value')\n",
    "plt.title(\"Actual Vs Predicted Values for DJIA Today's Closing Value\")\n",
    "plt.legend()"
   ]
  },
  {
   "cell_type": "code",
   "execution_count": null,
   "metadata": {},
   "outputs": [],
   "source": []
  }
 ],
 "metadata": {
  "kernelspec": {
   "display_name": "Python 3",
   "language": "python",
   "name": "python3"
  },
  "language_info": {
   "codemirror_mode": {
    "name": "ipython",
    "version": 3
   },
   "file_extension": ".py",
   "mimetype": "text/x-python",
   "name": "python",
   "nbconvert_exporter": "python",
   "pygments_lexer": "ipython3",
   "version": "3.7.6"
  }
 },
 "nbformat": 4,
 "nbformat_minor": 4
}
