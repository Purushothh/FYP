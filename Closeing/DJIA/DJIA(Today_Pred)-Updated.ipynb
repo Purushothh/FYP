{
 "cells": [
  {
   "cell_type": "code",
   "execution_count": 1,
   "metadata": {},
   "outputs": [],
   "source": [
    "#import libraries and dependencies\n",
    "import pandas as pds\n",
    "import numpy as npy\n",
    "from sklearn.model_selection import train_test_split\n",
    "import pickle"
   ]
  },
  {
   "cell_type": "code",
   "execution_count": 2,
   "metadata": {},
   "outputs": [],
   "source": [
    "#import and read dataset of Dow jones.\n",
    "dataFrame = pds.read_csv(\"C:\\\\Users\\\\Acer\\\\Desktop\\\\Closeing\\\\DJIA\\\\DJIA(ClosingVal-today).csv\")"
   ]
  },
  {
   "cell_type": "code",
   "execution_count": 3,
   "metadata": {},
   "outputs": [
    {
     "data": {
      "text/html": [
       "<div>\n",
       "<style scoped>\n",
       "    .dataframe tbody tr th:only-of-type {\n",
       "        vertical-align: middle;\n",
       "    }\n",
       "\n",
       "    .dataframe tbody tr th {\n",
       "        vertical-align: top;\n",
       "    }\n",
       "\n",
       "    .dataframe thead th {\n",
       "        text-align: right;\n",
       "    }\n",
       "</style>\n",
       "<table border=\"1\" class=\"dataframe\">\n",
       "  <thead>\n",
       "    <tr style=\"text-align: right;\">\n",
       "      <th></th>\n",
       "      <th>Date</th>\n",
       "      <th>Open</th>\n",
       "      <th>High</th>\n",
       "      <th>Low</th>\n",
       "      <th>Volume</th>\n",
       "      <th>Close</th>\n",
       "    </tr>\n",
       "  </thead>\n",
       "  <tbody>\n",
       "    <tr>\n",
       "      <th>0</th>\n",
       "      <td>8/11/2008</td>\n",
       "      <td>11729.66992</td>\n",
       "      <td>11867.11035</td>\n",
       "      <td>11675.53027</td>\n",
       "      <td>183190000</td>\n",
       "      <td>11734.32031</td>\n",
       "    </tr>\n",
       "    <tr>\n",
       "      <th>1</th>\n",
       "      <td>8/12/2008</td>\n",
       "      <td>11781.70020</td>\n",
       "      <td>11782.34961</td>\n",
       "      <td>11601.51953</td>\n",
       "      <td>173590000</td>\n",
       "      <td>11782.34961</td>\n",
       "    </tr>\n",
       "    <tr>\n",
       "      <th>2</th>\n",
       "      <td>8/13/2008</td>\n",
       "      <td>11632.80957</td>\n",
       "      <td>11633.78027</td>\n",
       "      <td>11453.33984</td>\n",
       "      <td>182550000</td>\n",
       "      <td>11642.46973</td>\n",
       "    </tr>\n",
       "    <tr>\n",
       "      <th>3</th>\n",
       "      <td>8/14/2008</td>\n",
       "      <td>11532.07031</td>\n",
       "      <td>11718.28027</td>\n",
       "      <td>11450.88965</td>\n",
       "      <td>159790000</td>\n",
       "      <td>11532.95996</td>\n",
       "    </tr>\n",
       "    <tr>\n",
       "      <th>4</th>\n",
       "      <td>8/15/2008</td>\n",
       "      <td>11611.20996</td>\n",
       "      <td>11709.88965</td>\n",
       "      <td>11599.73047</td>\n",
       "      <td>215040000</td>\n",
       "      <td>11615.92969</td>\n",
       "    </tr>\n",
       "  </tbody>\n",
       "</table>\n",
       "</div>"
      ],
      "text/plain": [
       "        Date         Open         High          Low     Volume        Close\n",
       "0  8/11/2008  11729.66992  11867.11035  11675.53027  183190000  11734.32031\n",
       "1  8/12/2008  11781.70020  11782.34961  11601.51953  173590000  11782.34961\n",
       "2  8/13/2008  11632.80957  11633.78027  11453.33984  182550000  11642.46973\n",
       "3  8/14/2008  11532.07031  11718.28027  11450.88965  159790000  11532.95996\n",
       "4  8/15/2008  11611.20996  11709.88965  11599.73047  215040000  11615.92969"
      ]
     },
     "execution_count": 3,
     "metadata": {},
     "output_type": "execute_result"
    }
   ],
   "source": [
    "dataFrame.head()"
   ]
  },
  {
   "cell_type": "code",
   "execution_count": 4,
   "metadata": {},
   "outputs": [
    {
     "data": {
      "text/html": [
       "<div>\n",
       "<style scoped>\n",
       "    .dataframe tbody tr th:only-of-type {\n",
       "        vertical-align: middle;\n",
       "    }\n",
       "\n",
       "    .dataframe tbody tr th {\n",
       "        vertical-align: top;\n",
       "    }\n",
       "\n",
       "    .dataframe thead th {\n",
       "        text-align: right;\n",
       "    }\n",
       "</style>\n",
       "<table border=\"1\" class=\"dataframe\">\n",
       "  <thead>\n",
       "    <tr style=\"text-align: right;\">\n",
       "      <th></th>\n",
       "      <th>Date</th>\n",
       "      <th>Open</th>\n",
       "      <th>High</th>\n",
       "      <th>Low</th>\n",
       "      <th>Volume</th>\n",
       "      <th>Close</th>\n",
       "    </tr>\n",
       "  </thead>\n",
       "  <tbody>\n",
       "    <tr>\n",
       "      <th>1983</th>\n",
       "      <td>6/27/2016</td>\n",
       "      <td>17355.21094</td>\n",
       "      <td>17355.21094</td>\n",
       "      <td>17063.08008</td>\n",
       "      <td>138740000</td>\n",
       "      <td>17400.75000</td>\n",
       "    </tr>\n",
       "    <tr>\n",
       "      <th>1984</th>\n",
       "      <td>6/28/2016</td>\n",
       "      <td>17190.50977</td>\n",
       "      <td>17409.72070</td>\n",
       "      <td>17190.50977</td>\n",
       "      <td>112190000</td>\n",
       "      <td>17140.24023</td>\n",
       "    </tr>\n",
       "    <tr>\n",
       "      <th>1985</th>\n",
       "      <td>6/29/2016</td>\n",
       "      <td>17456.01953</td>\n",
       "      <td>17704.50977</td>\n",
       "      <td>17456.01953</td>\n",
       "      <td>106380000</td>\n",
       "      <td>17409.72070</td>\n",
       "    </tr>\n",
       "    <tr>\n",
       "      <th>1986</th>\n",
       "      <td>6/30/2016</td>\n",
       "      <td>17712.75977</td>\n",
       "      <td>17930.60938</td>\n",
       "      <td>17711.80078</td>\n",
       "      <td>133030000</td>\n",
       "      <td>17694.67969</td>\n",
       "    </tr>\n",
       "    <tr>\n",
       "      <th>1987</th>\n",
       "      <td>7/1/2016</td>\n",
       "      <td>17924.24023</td>\n",
       "      <td>18002.38086</td>\n",
       "      <td>17916.91016</td>\n",
       "      <td>82160000</td>\n",
       "      <td>17929.99023</td>\n",
       "    </tr>\n",
       "  </tbody>\n",
       "</table>\n",
       "</div>"
      ],
      "text/plain": [
       "           Date         Open         High          Low     Volume        Close\n",
       "1983  6/27/2016  17355.21094  17355.21094  17063.08008  138740000  17400.75000\n",
       "1984  6/28/2016  17190.50977  17409.72070  17190.50977  112190000  17140.24023\n",
       "1985  6/29/2016  17456.01953  17704.50977  17456.01953  106380000  17409.72070\n",
       "1986  6/30/2016  17712.75977  17930.60938  17711.80078  133030000  17694.67969\n",
       "1987   7/1/2016  17924.24023  18002.38086  17916.91016   82160000  17929.99023"
      ]
     },
     "execution_count": 4,
     "metadata": {},
     "output_type": "execute_result"
    }
   ],
   "source": [
    "dataFrame.tail()"
   ]
  },
  {
   "cell_type": "code",
   "execution_count": 5,
   "metadata": {},
   "outputs": [
    {
     "data": {
      "text/plain": [
       "Date      0\n",
       "Open      0\n",
       "High      0\n",
       "Low       0\n",
       "Volume    0\n",
       "Close     0\n",
       "dtype: int64"
      ]
     },
     "execution_count": 5,
     "metadata": {},
     "output_type": "execute_result"
    }
   ],
   "source": [
    "#checking for null values and the total no.of records.\n",
    "dataFrame.isna().sum()"
   ]
  },
  {
   "cell_type": "code",
   "execution_count": 6,
   "metadata": {},
   "outputs": [
    {
     "data": {
      "text/plain": [
       "(1988, 6)"
      ]
     },
     "execution_count": 6,
     "metadata": {},
     "output_type": "execute_result"
    }
   ],
   "source": [
    "dataFrame.shape"
   ]
  },
  {
   "cell_type": "code",
   "execution_count": 7,
   "metadata": {},
   "outputs": [],
   "source": [
    "#remove date coloumn.\n",
    "del dataFrame['Date']"
   ]
  },
  {
   "cell_type": "code",
   "execution_count": 8,
   "metadata": {},
   "outputs": [],
   "source": [
    "#assign x as dataframe.\n",
    "trainColoumn = dataFrame"
   ]
  },
  {
   "cell_type": "code",
   "execution_count": 9,
   "metadata": {},
   "outputs": [],
   "source": [
    "# assign X and y to the train and test coloumns.\n",
    "trainColoumn = npy.array(trainColoumn.drop(['Close'], 1))\n",
    "testColoumn = npy.array(dataFrame['Close'])"
   ]
  },
  {
   "cell_type": "code",
   "execution_count": 10,
   "metadata": {},
   "outputs": [],
   "source": [
    "#data spliting and defining.\n",
    "x_training, x_testing, y_training, y_testing = train_test_split(trainColoumn, testColoumn, test_size=0.2, random_state=42)"
   ]
  },
  {
   "cell_type": "code",
   "execution_count": 11,
   "metadata": {},
   "outputs": [
    {
     "data": {
      "text/plain": [
       "(1590, 4)"
      ]
     },
     "execution_count": 11,
     "metadata": {},
     "output_type": "execute_result"
    }
   ],
   "source": [
    "#validating the split has correctly divided the dataset.\n",
    "x_training.shape"
   ]
  },
  {
   "cell_type": "code",
   "execution_count": 12,
   "metadata": {},
   "outputs": [
    {
     "data": {
      "text/plain": [
       "(1590,)"
      ]
     },
     "execution_count": 12,
     "metadata": {},
     "output_type": "execute_result"
    }
   ],
   "source": [
    "y_training.shape"
   ]
  },
  {
   "cell_type": "code",
   "execution_count": 13,
   "metadata": {},
   "outputs": [
    {
     "data": {
      "text/plain": [
       "(398, 4)"
      ]
     },
     "execution_count": 13,
     "metadata": {},
     "output_type": "execute_result"
    }
   ],
   "source": [
    "x_testing.shape"
   ]
  },
  {
   "cell_type": "code",
   "execution_count": 14,
   "metadata": {},
   "outputs": [
    {
     "data": {
      "text/plain": [
       "(398,)"
      ]
     },
     "execution_count": 14,
     "metadata": {},
     "output_type": "execute_result"
    }
   ],
   "source": [
    "y_testing.shape"
   ]
  },
  {
   "cell_type": "markdown",
   "metadata": {},
   "source": [
    "### LASSO"
   ]
  },
  {
   "cell_type": "code",
   "execution_count": 15,
   "metadata": {},
   "outputs": [],
   "source": [
    "#import Lasso model\n",
    "from sklearn.linear_model import Lasso"
   ]
  },
  {
   "cell_type": "code",
   "execution_count": 16,
   "metadata": {},
   "outputs": [
    {
     "data": {
      "text/plain": [
       "Lasso(alpha=1.0, copy_X=True, fit_intercept=True, max_iter=1000,\n",
       "      normalize=False, positive=False, precompute=False, random_state=42,\n",
       "      selection='cyclic', tol=0.0001, warm_start=False)"
      ]
     },
     "execution_count": 16,
     "metadata": {},
     "output_type": "execute_result"
    }
   ],
   "source": [
    "#fitting into the lasso model\n",
    "lasso = Lasso(random_state=42,alpha=1.0,max_iter=1000, tol=0.0001)\n",
    "lasso.fit(x_training, y_training)"
   ]
  },
  {
   "cell_type": "code",
   "execution_count": 17,
   "metadata": {},
   "outputs": [],
   "source": [
    "#predict target from training data\n",
    "lasso_predictions = lasso.predict(x_testing)\n",
    "# lasso_predictions"
   ]
  },
  {
   "cell_type": "code",
   "execution_count": 18,
   "metadata": {},
   "outputs": [],
   "source": [
    "def mda(y_testing:npy.ndarray,predicted:npy.ndarray):\n",
    "    \"\"\" Mean Directional Accuracy \"\"\"\n",
    "    return npy.mean((npy.sign(y_testing[1:]-y_testing[:-1])== npy.sign(predicted[1:]- predicted[:-1])).astype(int))"
   ]
  },
  {
   "cell_type": "code",
   "execution_count": 19,
   "metadata": {},
   "outputs": [],
   "source": [
    "def MAPE(y_testing:npy.ndarray,predicted:npy.ndarray):\n",
    "    \"\"\" Mean Absolute Percentage Error \"\"\"\n",
    "    mape = npy.mean(npy.abs((y_testing - predicted)/y_testing))*100\n",
    "    return mape"
   ]
  },
  {
   "cell_type": "code",
   "execution_count": 24,
   "metadata": {},
   "outputs": [
    {
     "name": "stdout",
     "output_type": "stream",
     "text": [
      "Mean Absolute Error: 3.819203274737527\n",
      "Mean Squared Error: 48.69402075437215\n",
      "Root Mean Squared Error: 6.978110113373975\n",
      "Mean Directional Accuracy: 1.0\n",
      "Mean Absolute Percentage Error: 0.027141491081410743\n",
      "0.03\n"
     ]
    }
   ],
   "source": [
    "from sklearn import metrics\n",
    "print('Mean Absolute Error:', metrics.mean_absolute_error(y_testing, lasso_predictions))\n",
    "print('Mean Squared Error:', metrics.mean_squared_error(y_testing, lasso_predictions))\n",
    "print('Root Mean Squared Error:', npy.sqrt(metrics.mean_squared_error(y_testing, lasso_predictions)))\n",
    "print('Mean Directional Accuracy:', mda(y_testing, lasso_predictions))\n",
    "print('Mean Absolute Percentage Error:', MAPE(y_testing,lasso_predictions))\n",
    "\n",
    "e = MAPE(y_testing,lasso_predictions)\n",
    "print('%.2f'%e)"
   ]
  },
  {
   "cell_type": "markdown",
   "metadata": {},
   "source": [
    "### Predicting for 25th March"
   ]
  },
  {
   "cell_type": "code",
   "execution_count": 29,
   "metadata": {},
   "outputs": [
    {
     "data": {
      "text/plain": [
       "array([32343.98628365])"
      ]
     },
     "execution_count": 29,
     "metadata": {},
     "output_type": "execute_result"
    }
   ],
   "source": [
    "lasso.predict([[32346.81,32672.69,32071.41,411990000]])"
   ]
  },
  {
   "cell_type": "markdown",
   "metadata": {},
   "source": [
    "### Graph"
   ]
  },
  {
   "cell_type": "code",
   "execution_count": 22,
   "metadata": {},
   "outputs": [],
   "source": [
    "import matplotlib.pyplot as plt"
   ]
  },
  {
   "cell_type": "code",
   "execution_count": 23,
   "metadata": {},
   "outputs": [],
   "source": [
    "newDataFrame=pds.read_csv(\"C:\\\\Users\\\\Acer\\\\Desktop\\\\Closeing\\\\DJIA\\\\DJIA(DataFrom25March)-Today.csv\")"
   ]
  },
  {
   "cell_type": "code",
   "execution_count": 24,
   "metadata": {},
   "outputs": [
    {
     "data": {
      "text/html": [
       "<div>\n",
       "<style scoped>\n",
       "    .dataframe tbody tr th:only-of-type {\n",
       "        vertical-align: middle;\n",
       "    }\n",
       "\n",
       "    .dataframe tbody tr th {\n",
       "        vertical-align: top;\n",
       "    }\n",
       "\n",
       "    .dataframe thead th {\n",
       "        text-align: right;\n",
       "    }\n",
       "</style>\n",
       "<table border=\"1\" class=\"dataframe\">\n",
       "  <thead>\n",
       "    <tr style=\"text-align: right;\">\n",
       "      <th></th>\n",
       "      <th>Date</th>\n",
       "      <th>Open</th>\n",
       "      <th>High</th>\n",
       "      <th>Low</th>\n",
       "      <th>Volume</th>\n",
       "      <th>Close</th>\n",
       "    </tr>\n",
       "  </thead>\n",
       "  <tbody>\n",
       "    <tr>\n",
       "      <th>0</th>\n",
       "      <td>3/25/2021</td>\n",
       "      <td>32346.81</td>\n",
       "      <td>32672.69</td>\n",
       "      <td>32071.41</td>\n",
       "      <td>411990000.0</td>\n",
       "      <td>32619.48</td>\n",
       "    </tr>\n",
       "    <tr>\n",
       "      <th>1</th>\n",
       "      <td>3/26/2021</td>\n",
       "      <td>32681.07</td>\n",
       "      <td>33098.83</td>\n",
       "      <td>32681.07</td>\n",
       "      <td>382170000.0</td>\n",
       "      <td>33072.88</td>\n",
       "    </tr>\n",
       "    <tr>\n",
       "      <th>2</th>\n",
       "      <td>3/29/2021</td>\n",
       "      <td>33087.55</td>\n",
       "      <td>33259.00</td>\n",
       "      <td>32905.13</td>\n",
       "      <td>351610000.0</td>\n",
       "      <td>33171.37</td>\n",
       "    </tr>\n",
       "    <tr>\n",
       "      <th>3</th>\n",
       "      <td>3/30/2021</td>\n",
       "      <td>33127.88</td>\n",
       "      <td>33170.93</td>\n",
       "      <td>32988.92</td>\n",
       "      <td>307510000.0</td>\n",
       "      <td>33066.96</td>\n",
       "    </tr>\n",
       "    <tr>\n",
       "      <th>4</th>\n",
       "      <td>3/31/2021</td>\n",
       "      <td>33116.04</td>\n",
       "      <td>33173.77</td>\n",
       "      <td>32980.57</td>\n",
       "      <td>414140000.0</td>\n",
       "      <td>32981.55</td>\n",
       "    </tr>\n",
       "  </tbody>\n",
       "</table>\n",
       "</div>"
      ],
      "text/plain": [
       "        Date      Open      High       Low       Volume     Close\n",
       "0  3/25/2021  32346.81  32672.69  32071.41  411990000.0  32619.48\n",
       "1  3/26/2021  32681.07  33098.83  32681.07  382170000.0  33072.88\n",
       "2  3/29/2021  33087.55  33259.00  32905.13  351610000.0  33171.37\n",
       "3  3/30/2021  33127.88  33170.93  32988.92  307510000.0  33066.96\n",
       "4  3/31/2021  33116.04  33173.77  32980.57  414140000.0  32981.55"
      ]
     },
     "execution_count": 24,
     "metadata": {},
     "output_type": "execute_result"
    }
   ],
   "source": [
    "newDataFrame.head()"
   ]
  },
  {
   "cell_type": "code",
   "execution_count": 25,
   "metadata": {},
   "outputs": [],
   "source": [
    "keep_columns=['Open','High','Low','Volume']\n",
    "new_x_val=newDataFrame[keep_columns]"
   ]
  },
  {
   "cell_type": "code",
   "execution_count": 26,
   "metadata": {},
   "outputs": [],
   "source": [
    "predictions = lasso.predict(new_x_val)"
   ]
  },
  {
   "cell_type": "code",
   "execution_count": 27,
   "metadata": {},
   "outputs": [
    {
     "data": {
      "text/plain": [
       "<matplotlib.legend.Legend at 0x19078a3e8c8>"
      ]
     },
     "execution_count": 27,
     "metadata": {},
     "output_type": "execute_result"
    },
    {
     "data": {
      "image/png": "[encoded data removed]",
      "text/plain": [
       "<Figure size 720x360 with 1 Axes>"
      ]
     },
     "metadata": {
      "needs_background": "light"
     },
     "output_type": "display_data"
    }
   ],
   "source": [
    "#defing the graph data\n",
    "plt.figure(figsize=(10,5))\n",
    "plt.plot(newDataFrame['Date'],newDataFrame['Close'], label ='Actual Value')\n",
    "plt.plot(newDataFrame['Date'],predictions, label ='Predicted Value')\n",
    "plt.xlabel('Date')\n",
    "plt.ylabel('Closing value')\n",
    "plt.title(\"Actual Vs Predicted Values for DJIA Today's Closing Value\")\n",
    "plt.legend()"
   ]
  },
  {
   "cell_type": "code",
   "execution_count": 30,
   "metadata": {},
   "outputs": [
    {
     "name": "stdout",
     "output_type": "stream",
     "text": [
      "model saved...\n"
     ]
    }
   ],
   "source": [
    "#dumping the most efficent model\n",
    "pickle.dump(lasso, open(\"DWJA_tdysPrediction.pkl\", 'wb'))\n",
    "print('model saved...')"
   ]
  },
  {
   "cell_type": "markdown",
   "metadata": {},
   "source": [
    "# Random Forest"
   ]
  },
  {
   "cell_type": "code",
   "execution_count": 31,
   "metadata": {},
   "outputs": [],
   "source": [
    "#import Roandom Forest model\n",
    "from sklearn.ensemble import RandomForestRegressor"
   ]
  },
  {
   "cell_type": "code",
   "execution_count": 35,
   "metadata": {},
   "outputs": [
    {
     "data": {
      "text/plain": [
       "RandomForestRegressor(bootstrap=True, ccp_alpha=0.0, criterion='mse',\n",
       "                      max_depth=None, max_features='auto', max_leaf_nodes=None,\n",
       "                      max_samples=None, min_impurity_decrease=0.0,\n",
       "                      min_impurity_split=None, min_samples_leaf=1,\n",
       "                      min_samples_split=2, min_weight_fraction_leaf=0.0,\n",
       "                      n_estimators=100, n_jobs=None, oob_score=False,\n",
       "                      random_state=42, verbose=0, warm_start=False)"
      ]
     },
     "execution_count": 35,
     "metadata": {},
     "output_type": "execute_result"
    }
   ],
   "source": [
    "#fitting into the model\n",
    "rfr = RandomForestRegressor(n_estimators=100, random_state=42,verbose=0)\n",
    "rfr.fit(x_training, y_training)"
   ]
  },
  {
   "cell_type": "code",
   "execution_count": 36,
   "metadata": {},
   "outputs": [
    {
     "data": {
      "text/plain": [
       "array([15535.8568659 , 10744.3207528 , 15672.5822277 ,  8273.81896448,\n",
       "       15301.69888   , 17761.3183816 , 17839.5584174 , 18101.3108205 ,\n",
       "       12582.1723453 , 16274.1054699 ,  8818.12290046, 18011.3912132 ,\n",
       "       12792.2839268 , 11471.078565  ,  7917.67344752, 15818.7432791 ,\n",
       "       11436.3457715 , 13165.2611348 , 11868.2012994 , 10403.6252544 ,\n",
       "       17656.2373245 ,  9277.05519546, 17826.8466805 , 17150.3165233 ,\n",
       "       18035.6975405 , 11047.8069329 , 10374.6151483 , 16431.8837893 ,\n",
       "       16288.858369  , 18117.6080071 , 16573.0451362 ,  8793.5258398 ,\n",
       "       15966.9104093 ,  9089.38996116, 14833.6637715 , 12457.3115059 ,\n",
       "       17423.7143336 ,  8692.07571268, 13479.7933204 , 17481.8330856 ,\n",
       "       13241.0974514 , 14711.7449645 , 15183.2489565 , 17078.8655087 ,\n",
       "       17113.1532232 , 11122.9823343 , 16440.6241193 , 16858.5679312 ,\n",
       "       12414.4598434 , 13249.4221968 , 10191.9432521 , 17660.4166224 ,\n",
       "       13578.1549022 , 11986.4077233 , 16805.7901155 ,  9972.49772461,\n",
       "       17826.4329296 , 11399.1257237 , 16646.2887111 , 13559.9353705 ,\n",
       "       16909.2045105 , 15458.9271573 , 17211.0816802 , 17717.0396297 ,\n",
       "       17785.6335936 ,  8758.54508795, 16008.7236712 , 17059.2233403 ,\n",
       "       12375.8050801 , 12925.4990428 , 17762.2441236 , 14801.2057104 ,\n",
       "       10184.8846104 , 10373.9375121 ,  8500.73292007, 11779.9096192 ,\n",
       "       12268.6962417 , 17822.7579694 , 14846.14385   , 12805.9876279 ,\n",
       "        8277.15268536, 17023.9098444 , 12963.9693659 , 12213.7985721 ,\n",
       "       17758.2211146 , 10249.7765036 , 17851.5001194 , 18290.2081249 ,\n",
       "       12754.9803818 , 17753.6374434 , 17062.804415  , 16947.4779311 ,\n",
       "       17874.3735365 , 16946.5108202 , 15537.3043865 , 17692.261683  ,\n",
       "        9346.06959963, 17971.0620879 ,  8767.49081025, 13211.1447479 ,\n",
       "       17065.8524036 , 16418.4344062 , 13095.2836911 ,  8057.49467773,\n",
       "       12635.0640602 , 10216.9752538 , 16616.1122288 , 16979.6569347 ,\n",
       "       11199.6609173 , 11572.5534462 , 11558.2172825 , 13365.2125016 ,\n",
       "       16566.6976564 , 15752.0474788 , 11895.7645017 , 15319.8429222 ,\n",
       "       10308.2715939 , 13268.9096111 , 16253.1341502 , 16488.1065809 ,\n",
       "       16324.7457037 , 11173.3864859 , 13472.8957613 , 10269.5347782 ,\n",
       "        8938.82708979, 12724.577785  , 16118.2088571 , 17626.1767381 ,\n",
       "       11255.4895607 , 14972.6145983 , 17756.3679514 , 11104.8316032 ,\n",
       "       10608.1583586 , 16534.1360742 , 14929.2766783 ,  9885.43576191,\n",
       "       10442.2238209 , 17657.5518175 , 16363.8469337 ,  9353.82864268,\n",
       "       15547.1538085 , 12725.9520998 , 17655.716895  , 15463.9670407 ,\n",
       "        8009.64456551, 15881.9940232 , 17151.7639454 , 11676.3864079 ,\n",
       "       15329.664014  , 16489.8100967 ,  7193.86260265, 11019.6039935 ,\n",
       "       17003.9252144 ,  9877.88625024, 11411.2771083 ,  8845.49999023,\n",
       "       15875.6357541 ,  8179.76706529, 16745.805526  , 15890.3815913 ,\n",
       "       11404.0592785 , 12058.8220992 , 12396.8709164 , 17547.8374991 ,\n",
       "       12106.181501  , 14930.1422667 , 14453.2252712 , 16912.1019923 ,\n",
       "       18036.2709199 , 17613.1707825 , 16332.4261631 , 11440.0786514 ,\n",
       "        9595.3361329 , 12101.581491  , 10298.2669055 , 10021.13623903,\n",
       "       10737.5971292 , 11118.7797263 , 12761.5284868 , 18038.6327156 ,\n",
       "       17720.1071104 , 17235.4072069 ,  8153.73319841, 11007.7054977 ,\n",
       "       16409.5176474 , 12442.2058208 , 12981.2461162 ,  8903.66751953,\n",
       "       16479.5170303 , 10933.479355  , 12880.1724619 , 18043.3241618 ,\n",
       "       17883.0462883 , 13113.794152  , 14813.9701675 , 16316.0670886 ,\n",
       "        9783.64982419, 15064.7182255 , 17966.8805062 ,  9872.79026393,\n",
       "       12151.4799895 , 13073.5824039 , 11436.0032128 , 10570.4080088 ,\n",
       "        8770.76778306, 12655.5865452 ,  8573.50375027, 12020.3082703 ,\n",
       "       11193.6545119 , 13968.2688114 , 10546.4314353 ,  9318.57238298,\n",
       "       13273.237981  , 12905.2847958 ,  8418.69494122, 12777.9208893 ,\n",
       "       10323.6854596 , 12885.3854901 ,  8376.61650369, 15500.4031638 ,\n",
       "        8834.75246076, 18136.4440609 , 17653.9471097 , 17625.2545113 ,\n",
       "        8293.7235058 , 14913.1456179 , 13817.2542288 , 17594.5486313 ,\n",
       "       16261.6852832 , 12193.3805677 , 12504.5216887 , 15533.1725017 ,\n",
       "        9341.15133795, 12450.7352948 , 10018.90796856, 18028.1369351 ,\n",
       "       15374.8797976 , 11997.0938687 ,  8079.29444328, 15896.3366694 ,\n",
       "       13123.4691124 , 14730.432011  , 18027.9460758 , 10538.2249595 ,\n",
       "       16530.6412501 , 15445.3614464 , 17666.7207814 , 16270.4534873 ,\n",
       "       17548.6500198 , 17137.3499436 , 10435.1340525 , 17743.9220537 ,\n",
       "        8120.43922874, 10544.7005371 , 12773.4086406 , 16614.7222293 ,\n",
       "       15845.2944706 ,  8802.19573246, 12224.9002243 , 10833.0146959 ,\n",
       "       10701.7787311 , 10023.68039912, 10673.4333784 , 15010.4422366 ,\n",
       "        7986.19351584,  8726.10408194, 12572.9798465 , 13046.4557035 ,\n",
       "       14539.8013202 , 11827.7516335 , 17716.3346111 , 15564.1294147 ,\n",
       "       10743.0945611 , 12397.4394027 , 16455.086424  ,  8331.24276389,\n",
       "       17483.1264266 , 12104.8154073 , 12810.7916307 , 10328.514232  ,\n",
       "       16008.2255861 ,  9322.30909181, 16055.9107599 ,  9484.94712878,\n",
       "        7602.98262222,  7777.60523941, 13912.5489271 , 16653.0250586 ,\n",
       "       10970.2648864 , 13563.8012988 , 11382.9627545 , 16983.3933192 ,\n",
       "        9416.30944358, 12692.9025583 , 15676.3046399 , 17593.1727348 ,\n",
       "       14000.9605588 ,  8475.01531275, 16947.3248645 , 16366.8625318 ,\n",
       "       11858.2282328 , 13111.9212981 , 11985.3039254 , 10271.0341309 ,\n",
       "       17783.7699815 , 11018.4082814 , 17758.942326  , 10223.4436818 ,\n",
       "       17719.5053323 , 13891.6717304 , 15404.029581  , 11276.772832  ,\n",
       "       17142.8377939 , 16142.2104014 , 10194.9769932 , 16680.7536521 ,\n",
       "        8567.59138695, 11187.581838  ,  8074.50736817,  9942.82426765,\n",
       "       16953.947108  , 10902.4809085 , 17257.5236509 , 16269.1987016 ,\n",
       "       12042.0329393 , 10909.11955   , 10450.0787322 , 11197.0456734 ,\n",
       "       12087.615438  , 17716.456798  , 10855.8804886 , 13028.4065146 ,\n",
       "       13204.3571405 ,  8410.17505856, 13303.191739  , 10171.2225415 ,\n",
       "       16460.9870114 , 17132.8280109 , 10564.6815541 , 16712.515487  ,\n",
       "       17513.6245694 , 17886.2812498 , 10812.477998  , 17511.6304501 ,\n",
       "       16479.0181241 , 12574.2319258 ,  7967.34344266, 15796.5252124 ,\n",
       "       15009.2741299 , 17066.0964073 ,  7946.80310574, 10060.8850693 ,\n",
       "       17143.0851769 , 11480.8710839 , 13167.8924423 , 17720.4978517 ,\n",
       "        9688.35319342, 10466.5539268 , 10460.1892786 ,  8503.40060552,\n",
       "       12225.3507804 , 10195.3398634 , 18292.5748238 , 10426.1290628 ,\n",
       "       14848.0509675 ,  9521.85900385, 15116.151765  , 16568.852618  ,\n",
       "        8276.84187477, 13202.7431278 , 10752.6174313 , 12417.914658  ,\n",
       "       14932.5988676 , 12868.7134084 , 16428.883358  , 18036.3737906 ,\n",
       "       14687.5140149 , 17997.4754876 , 17007.9777927 , 17818.8600992 ,\n",
       "       12876.0128128 , 17423.6277547 , 11117.3794449 , 15621.3287601 ,\n",
       "       11711.4622376 , 17081.6497078 , 17393.5110736 , 18122.6049399 ,\n",
       "       13991.888695  , 18020.6022671 , 10569.1310856 , 18083.8760152 ,\n",
       "       17689.9928347 , 12951.9279095 ,  9503.21828121, 10037.04989256,\n",
       "       15078.5849637 ,  9088.5042093 ])"
      ]
     },
     "execution_count": 36,
     "metadata": {},
     "output_type": "execute_result"
    }
   ],
   "source": [
    "#predict target from training data\n",
    "rfr_predictions = rfr.predict(x_testing)\n",
    "rfr_predictions"
   ]
  },
  {
   "cell_type": "code",
   "execution_count": 37,
   "metadata": {},
   "outputs": [
    {
     "name": "stdout",
     "output_type": "stream",
     "text": [
      "Mean Absolute Error: 9.389957848843556\n",
      "Mean r2 score: 0.9999780356837044\n",
      "Mean Squared Error: 224.55609225354394\n",
      "Root Mean Squared Error: 14.985195769610216\n",
      "Mean Directional Accuracy: 1.0\n",
      "Mean Absolute Percentage Error: 0.07661804434002491\n"
     ]
    }
   ],
   "source": [
    "from sklearn import metrics\n",
    "\n",
    "#Accuracy scores\n",
    "print('Mean Absolute Error:', metrics.mean_absolute_error(y_testing, rfr_predictions))\n",
    "print('Mean r2 score:', metrics.r2_score(y_testing, rfr_predictions))\n",
    "print('Mean Squared Error:', metrics.mean_squared_error(y_testing, rfr_predictions))\n",
    "print('Root Mean Squared Error:', npy.sqrt(metrics.mean_squared_error(y_testing, rfr_predictions)))\n",
    "print('Mean Directional Accuracy:', mda(y_testing, rfr_predictions))\n",
    "print ('Mean Absolute Percentage Error:', MAPE(y_testing,rfr_predictions))"
   ]
  },
  {
   "cell_type": "code",
   "execution_count": 48,
   "metadata": {},
   "outputs": [
    {
     "data": {
      "text/plain": [
       "array([33523.08966862])"
      ]
     },
     "execution_count": 48,
     "metadata": {},
     "output_type": "execute_result"
    }
   ],
   "source": [
    "lasso.predict([[33526.19,33810.87,33526.19,316410000]])"
   ]
  },
  {
   "cell_type": "code",
   "execution_count": 49,
   "metadata": {},
   "outputs": [
    {
     "data": {
      "text/plain": [
       "array([18297.9576384])"
      ]
     },
     "execution_count": 49,
     "metadata": {},
     "output_type": "execute_result"
    }
   ],
   "source": [
    "rfr.predict([[33526.19,33810.87,33526.19,316410000]])"
   ]
  },
  {
   "cell_type": "markdown",
   "metadata": {},
   "source": [
    "# XGBoost"
   ]
  },
  {
   "cell_type": "code",
   "execution_count": 50,
   "metadata": {},
   "outputs": [],
   "source": [
    "#import xgBoost model\n",
    "from xgboost import XGBRegressor"
   ]
  },
  {
   "cell_type": "code",
   "execution_count": 51,
   "metadata": {},
   "outputs": [
    {
     "data": {
      "text/plain": [
       "XGBRegressor(base_score=0.5, booster='gbtree', colsample_bylevel=1,\n",
       "             colsample_bynode=1, colsample_bytree=1, gamma=0, gpu_id=-1,\n",
       "             importance_type='gain', interaction_constraints='',\n",
       "             learning_rate=0.300000012, max_delta_step=0, max_depth=6,\n",
       "             min_child_weight=1, missing=nan, monotone_constraints='()',\n",
       "             n_estimators=100, n_jobs=8, num_parallel_tree=1,\n",
       "             objective='reg:squarederror', random_state=0, reg_alpha=0,\n",
       "             reg_lambda=1, scale_pos_weight=1, subsample=1, tree_method='exact',\n",
       "             validate_parameters=1, verbosity=None)"
      ]
     },
     "execution_count": 51,
     "metadata": {},
     "output_type": "execute_result"
    }
   ],
   "source": [
    "#fitting into the model\n",
    "xgb = XGBRegressor()\n",
    "xgb.fit(x_training,y_training)"
   ]
  },
  {
   "cell_type": "code",
   "execution_count": 52,
   "metadata": {},
   "outputs": [
    {
     "data": {
      "text/plain": [
       "array([15521.184 , 10690.068 , 15658.964 ,  8284.386 , 15295.112 ,\n",
       "       17760.24  , 17840.984 , 18081.078 , 12588.22  , 16273.177 ,\n",
       "        8836.142 , 18015.25  , 12785.94  , 11479.235 ,  7937.702 ,\n",
       "       15824.523 , 11426.723 , 13159.796 , 11864.278 , 10404.159 ,\n",
       "       17676.783 ,  9268.75  , 17851.062 , 17150.852 , 18034.361 ,\n",
       "       11027.116 , 10365.587 , 16451.57  , 16301.943 , 18132.404 ,\n",
       "       16622.309 ,  8838.74  , 15958.331 ,  9027.5625, 14838.644 ,\n",
       "       12452.189 , 17410.623 ,  8644.356 , 13478.448 , 17451.871 ,\n",
       "       13240.544 , 14682.937 , 15186.042 , 17075.738 , 17110.445 ,\n",
       "       11138.531 , 16437.465 , 16749.969 , 12413.91  , 13250.516 ,\n",
       "       10176.436 , 17651.428 , 13622.04  , 11973.95  , 16771.553 ,\n",
       "        9979.043 , 17827.66  , 11396.133 , 16627.764 , 13547.62  ,\n",
       "       16925.65  , 15484.289 , 17213.693 , 17724.727 , 17774.273 ,\n",
       "        8740.13  , 16015.63  , 17065.197 , 12378.361 , 12921.773 ,\n",
       "       17748.54  , 14807.585 , 10178.801 , 10368.127 ,  8485.515 ,\n",
       "       11806.532 , 12257.539 , 17819.734 , 14864.563 , 12802.334 ,\n",
       "        8272.204 , 17037.922 , 12968.369 , 12211.462 , 17757.156 ,\n",
       "       10262.225 , 17869.238 , 18287.285 , 12757.655 , 17759.209 ,\n",
       "       17063.504 , 16965.02  , 17876.248 , 16950.443 , 15519.147 ,\n",
       "       17681.57  ,  9363.588 , 17971.52  ,  8770.755 , 13227.431 ,\n",
       "       17062.06  , 16426.629 , 13085.786 ,  8112.3926, 12655.2   ,\n",
       "       10223.932 , 16667.39  , 17005.936 , 11207.187 , 11586.354 ,\n",
       "       11554.73  , 13371.732 , 16570.037 , 15783.317 , 11882.403 ,\n",
       "       15310.462 , 10299.277 , 13248.094 , 16275.791 , 16478.834 ,\n",
       "       16317.412 , 11172.907 , 13478.448 , 10271.914 ,  8916.41  ,\n",
       "       12725.184 , 16134.852 , 17632.213 , 11248.362 , 14953.789 ,\n",
       "       17761.832 , 11108.219 , 10604.137 , 16516.893 , 14932.145 ,\n",
       "        9826.383 , 10448.155 , 17652.479 , 16358.936 ,  9373.2295,\n",
       "       15537.251 , 12728.264 , 17648.547 , 15476.475 ,  7983.888 ,\n",
       "       15891.027 , 17174.715 , 11649.478 , 15309.275 , 16481.02  ,\n",
       "        7182.2476, 11013.442 , 17000.64  ,  9930.846 , 11416.971 ,\n",
       "        8888.901 , 15891.027 ,  8166.4727, 16750.68  , 15898.175 ,\n",
       "       11387.718 , 12059.842 , 12399.409 , 17551.498 , 12113.277 ,\n",
       "       14913.055 , 14453.399 , 16958.143 , 18031.385 , 17595.418 ,\n",
       "       16337.451 , 11446.08  ,  9636.751 , 12114.287 , 10305.532 ,\n",
       "        9970.557 , 10757.353 , 11133.17  , 12759.134 , 18032.504 ,\n",
       "       17724.664 , 17214.51  ,  8149.066 , 11005.654 , 16428.088 ,\n",
       "       12440.236 , 12975.687 ,  8882.651 , 16490.477 , 10929.151 ,\n",
       "       12887.566 , 18028.133 , 17863.318 , 13119.266 , 14824.85  ,\n",
       "       16326.353 ,  9777.8955, 15058.282 , 17974.121 ,  9833.502 ,\n",
       "       12158.339 , 13063.642 , 11432.903 , 10584.972 ,  8676.421 ,\n",
       "       12656.033 ,  8580.024 , 12027.145 , 11187.38  , 13990.66  ,\n",
       "       10559.471 ,  9259.638 , 13248.094 , 12923.274 ,  8446.013 ,\n",
       "       12772.042 , 10353.687 , 12890.488 ,  8381.217 , 15498.645 ,\n",
       "        8780.635 , 18144.072 , 17646.07  , 17623.049 ,  8301.878 ,\n",
       "       14896.746 , 13699.901 , 17580.729 , 16268.125 , 12190.765 ,\n",
       "       12496.556 , 15518.499 ,  9364.03  , 12444.93  , 10017.598 ,\n",
       "       18035.059 , 15370.634 , 11984.619 ,  8110.4004, 15898.175 ,\n",
       "       13128.789 , 14879.751 , 18025.684 , 10555.054 , 16531.62  ,\n",
       "       15446.338 , 17659.746 , 16278.061 , 17545.904 , 17142.926 ,\n",
       "       10437.933 , 17742.994 ,  8141.9546, 10558.95  , 12771.874 ,\n",
       "       16616.217 , 15824.522 ,  8835.544 , 12231.483 , 10841.135 ,\n",
       "       10670.509 , 10030.389 , 10661.054 , 15009.066 ,  7977.6914,\n",
       "        8722.098 , 12579.558 , 13049.976 , 14534.646 , 11835.096 ,\n",
       "       17724.477 , 15540.153 , 10692.972 , 12393.227 , 16457.666 ,\n",
       "        8332.731 , 17467.473 , 12111.416 , 12800.578 , 10325.698 ,\n",
       "       16004.266 ,  9319.887 , 16052.64  ,  9482.791 ,  7557.656 ,\n",
       "        7782.8486, 13896.704 , 16636.611 , 10974.582 , 13556.494 ,\n",
       "       11387.687 , 16987.215 ,  9335.135 , 12699.558 , 15642.085 ,\n",
       "       17579.355 , 14019.146 ,  8460.92  , 16963.316 , 16352.34  ,\n",
       "       11867.968 , 13117.42  , 11975.521 , 10257.991 , 17728.66  ,\n",
       "       11007.355 , 17737.33  , 10258.889 , 17714.385 , 13885.412 ,\n",
       "       15416.061 , 11263.326 , 17157.723 , 16134.975 , 10189.801 ,\n",
       "       16699.865 ,  8447.06  , 11192.076 ,  8094.3066,  9967.709 ,\n",
       "       16954.027 , 10901.777 , 17207.111 , 16280.86  , 12046.512 ,\n",
       "       10917.794 , 10448.998 , 11207.273 , 12084.423 , 17720.605 ,\n",
       "       10848.794 , 13043.605 , 13242.373 ,  8398.739 , 13313.063 ,\n",
       "       10164.771 , 16455.197 , 17142.672 , 10560.004 , 16704.32  ,\n",
       "       17520.84  , 17860.62  , 10818.586 , 17512.479 , 16470.236 ,\n",
       "       12576.849 ,  7975.9336, 15826.44  , 15009.066 , 17067.52  ,\n",
       "        7953.116 , 10061.63  , 17154.59  , 11487.138 , 13165.891 ,\n",
       "       17721.97  ,  9689.994 , 10470.929 , 10455.49  ,  8482.058 ,\n",
       "       12236.34  , 10199.552 , 18285.062 , 10439.022 , 14839.361 ,\n",
       "        9517.765 , 15124.328 , 16579.219 ,  8295.276 , 13219.968 ,\n",
       "       10761.618 , 12413.521 , 14928.113 , 12878.341 , 16438.799 ,\n",
       "       18029.521 , 14670.367 , 17965.355 , 17012.346 , 17826.232 ,\n",
       "       12880.059 , 17423.297 , 11113.162 , 15627.211 , 11710.208 ,\n",
       "       17071.201 , 17393.459 , 18129.037 , 14023.115 , 18030.76  ,\n",
       "       10591.287 , 18094.703 , 17679.766 , 12964.8125,  9507.205 ,\n",
       "       10028.438 , 15071.671 ,  9082.427 ], dtype=float32)"
      ]
     },
     "execution_count": 52,
     "metadata": {},
     "output_type": "execute_result"
    }
   ],
   "source": [
    "#predict target from training data\n",
    "xgb_predictions = xgb.predict(x_testing)\n",
    "xgb_predictions"
   ]
  },
  {
   "cell_type": "code",
   "execution_count": 53,
   "metadata": {},
   "outputs": [
    {
     "name": "stdout",
     "output_type": "stream",
     "text": [
      "Mean Absolute Error: 14.336502927214159\n",
      "Mean Squared Error: 426.2423953498836\n",
      "Root Mean Squared Error: 20.645638652022456\n",
      "Mean Directional Accuracy: 1.0\n",
      "Mean r2 score: 0.9999583083108718\n"
     ]
    }
   ],
   "source": [
    "#Accuracy scores\n",
    "\n",
    "print('Mean Absolute Error:', metrics.mean_absolute_error(y_testing, xgb_predictions))\n",
    "print('Mean Squared Error:', metrics.mean_squared_error(y_testing, xgb_predictions))\n",
    "print('Root Mean Squared Error:', npy.sqrt(metrics.mean_squared_error(y_testing, xgb_predictions)))\n",
    "print('Mean Directional Accuracy:', mda(y_testing, xgb_predictions))\n",
    "print('Mean r2 score:', metrics.r2_score(y_testing, xgb_predictions))"
   ]
  },
  {
   "cell_type": "markdown",
   "metadata": {},
   "source": [
    "# SVM"
   ]
  },
  {
   "cell_type": "code",
   "execution_count": 54,
   "metadata": {},
   "outputs": [],
   "source": [
    "#import Roandom Forest model\n",
    "from sklearn.svm import SVR"
   ]
  },
  {
   "cell_type": "code",
   "execution_count": 55,
   "metadata": {},
   "outputs": [
    {
     "data": {
      "text/plain": [
       "SVR(C=1.0, cache_size=200, coef0=0.0, degree=3, epsilon=0.1, gamma='scale',\n",
       "    kernel='rbf', max_iter=-1, shrinking=True, tol=0.001, verbose=False)"
      ]
     },
     "execution_count": 55,
     "metadata": {},
     "output_type": "execute_result"
    }
   ],
   "source": [
    "#fitting into the model\n",
    "svr = SVR()\n",
    "svr.fit(x_training,y_training)"
   ]
  },
  {
   "cell_type": "code",
   "execution_count": 56,
   "metadata": {},
   "outputs": [
    {
     "data": {
      "text/plain": [
       "array([12947.9667579 , 12650.51332011, 12928.55357755, 12624.96333098,\n",
       "       12993.46567234, 13082.5862631 , 13113.93205532, 13097.89501299,\n",
       "       12963.35090306, 12974.33437501, 12636.33796724, 13097.3150585 ,\n",
       "       12982.78799331, 12888.64229896, 12601.9637923 , 13084.85100016,\n",
       "       12932.47350249, 13054.75028686, 12819.2290765 , 12879.60898392,\n",
       "       13034.04558782, 12781.29668821, 13035.41035946, 13056.53841939,\n",
       "       13148.83237773, 12786.48905921, 12739.97106341, 12976.46632202,\n",
       "       13149.62531   , 12634.80138333, 13126.89245438, 12688.0755005 ,\n",
       "       13107.01996001, 12597.73024355, 12977.52964647, 12876.63225805,\n",
       "       13067.86819635, 12696.21319224, 13027.01815139, 13059.72607957,\n",
       "       13001.92809939, 13094.64788708, 13071.0687024 , 13125.64946838,\n",
       "       13145.18393707, 12758.02778936, 13106.5617302 , 13072.04579955,\n",
       "       12936.38220804, 12649.93491096, 12629.3169856 , 13102.23965875,\n",
       "       13035.27415976, 12952.66166634, 13036.68755567, 12619.55668701,\n",
       "       13106.03007779, 12731.06827598, 12990.08273216, 12815.47936657,\n",
       "       13118.18837196, 13077.16564535, 13091.32895185, 13089.45994043,\n",
       "       13103.78122447, 12648.27469349, 13118.85196593, 13071.90654293,\n",
       "       12957.68609826, 12940.34413611, 13095.89114698, 12956.33619763,\n",
       "       12725.31746051, 12603.34409525, 12611.40584013, 12758.99871035,\n",
       "       12757.49909025, 13110.51634443, 12893.19148532, 13025.39181869,\n",
       "       12677.41713735, 13121.86589498, 12734.17589507, 12886.70179641,\n",
       "       13061.42498563, 12659.5489734 , 13099.6545145 , 13107.54575744,\n",
       "       12767.05041629, 13116.99489859, 13113.83518764, 13016.33766516,\n",
       "       13097.17929797, 13135.01992242, 12947.02506372, 13042.13955707,\n",
       "       12946.34259713, 13110.02572   , 12885.36345802, 13015.06709799,\n",
       "       13136.81182044, 12967.58060754, 13097.00450309, 12653.76671018,\n",
       "       12983.00480238, 12835.41321273, 13113.28385451, 13033.96350391,\n",
       "       12793.95063849, 13119.58276004, 12689.18492043, 12996.82623397,\n",
       "       13121.3214696 , 13115.85816567, 12598.79810258, 13048.1350274 ,\n",
       "       12814.99556791, 13071.06870114, 13079.22332505, 13111.12127061,\n",
       "       13050.64355521, 12639.63385188, 13012.30955356, 12789.72542814,\n",
       "       12614.61579778, 12884.05857668, 12971.06041479, 13006.11686855,\n",
       "       12858.4425509 , 13032.48220371, 13073.93795578, 12791.81903346,\n",
       "       12625.69348596, 13138.15842368, 13028.66436815, 12606.25701085,\n",
       "       12772.53355278, 13070.99870612, 13110.71849402, 12894.22813147,\n",
       "       13102.20265782, 13039.19835024, 13069.96894552, 13095.73401001,\n",
       "       12601.17088992, 13001.30088179, 13034.1002976 , 12948.48593216,\n",
       "       13076.42112219, 13095.73401054, 12725.03944529, 12700.67199278,\n",
       "       13120.12885086, 12636.18736686, 12708.28392808, 12715.84881464,\n",
       "       13002.91198694, 12695.26179901, 13128.27794553, 13048.65433568,\n",
       "       12892.42227146, 12948.51837197, 13007.38634313, 13114.70238049,\n",
       "       13054.32004755, 13138.467499  , 13021.26334211, 12652.78786939,\n",
       "       13010.61654414, 13038.84870267, 13104.18094558, 12684.33199584,\n",
       "       12779.79078777, 12945.36686935, 12658.17666914, 12752.21831185,\n",
       "       12909.38474332, 12727.01547648, 12848.3802448 , 13108.43239156,\n",
       "       13077.27815718, 13060.07189295, 12642.20536471, 12819.39102704,\n",
       "       13034.37369853, 12744.80626315, 13042.24591744, 12664.07533845,\n",
       "       13147.42450832, 12966.08862951, 13135.74481377, 13143.96933675,\n",
       "       12905.08433709, 13075.51413303, 12937.75889819, 12897.53767381,\n",
       "       12785.52758986, 13042.53820267, 13119.70125522, 12672.96665923,\n",
       "       12876.73258105, 13052.89710479, 12669.15068393, 12804.64187952,\n",
       "       12654.70306279, 13000.2835644 , 12602.24808242, 12931.65088863,\n",
       "       12640.51934778, 13028.88694494, 13051.28592751, 12748.20783204,\n",
       "       13074.12145046, 12966.08863096, 12598.43750335, 12981.88893035,\n",
       "       12687.59212606, 13045.49612879, 12597.93628435, 13065.40747602,\n",
       "       12729.72980075, 13108.58791125, 13064.4192348 , 13077.21066007,\n",
       "       12706.57143835, 13023.16401325, 13011.05507004, 13089.56334058,\n",
       "       13093.91152599, 12903.08218487, 12929.64168503, 13068.31866404,\n",
       "       12924.09419155, 12964.52997266, 12643.90835546, 13116.0619944 ,\n",
       "       12909.95099148, 13003.77483885, 12597.78622011, 13052.74413272,\n",
       "       12976.27848962, 12872.01899311, 13118.14287373, 12891.88712899,\n",
       "       13057.18967774, 13063.83845808, 13068.41336309, 13017.11523165,\n",
       "       13084.33646576, 13062.33032746, 12832.98454252, 13105.20879891,\n",
       "       12711.85972598, 12970.96573528, 13075.53686793, 13060.2199261 ,\n",
       "       13079.77788611, 12598.49452573, 12813.44912667, 12716.8390747 ,\n",
       "       12622.02114714, 12793.04074821, 12834.6578738 , 13070.48455621,\n",
       "       12597.57720255, 12635.90206476, 12822.40806278, 13062.74496016,\n",
       "       12919.75558125, 12974.14592427, 13103.30667122, 13091.47159006,\n",
       "       12705.07030113, 12960.50745306, 13105.9233708 , 12672.77672393,\n",
       "       13107.84231285, 12887.93972046, 12957.39701322, 12883.85782519,\n",
       "       12957.94298269, 12829.08875497, 12984.89071669, 12713.67251313,\n",
       "       12792.58901935, 12701.38462369, 13059.23108331, 12975.90266638,\n",
       "       12958.29606409, 12968.78465021, 13018.40759823, 13134.39284431,\n",
       "       12670.70708111, 12911.94852671, 12744.43647481, 13107.30077654,\n",
       "       12994.25486264, 12606.87947678, 13059.47872537, 13117.96055465,\n",
       "       12641.31803239, 12894.02750311, 12870.98319171, 12598.05791685,\n",
       "       12608.00871735, 12755.79982167, 13036.44341543, 12787.60747011,\n",
       "       12961.43509297, 13056.18694956, 13059.18152182, 12719.14592426,\n",
       "       13119.18114974, 12990.44951307, 12720.06867348, 13096.18519624,\n",
       "       12656.75522065, 13130.77741117, 12682.63511856, 12684.24269258,\n",
       "       13138.85228752, 12935.92297219, 13028.3859328 , 13098.68268791,\n",
       "       13007.03244874, 12716.0569951 , 12818.35499811, 12922.60502653,\n",
       "       12986.49346363, 13088.65060613, 12902.71500309, 13033.52534683,\n",
       "       13131.76330225, 12712.63491718, 12671.25838165, 12806.71522585,\n",
       "       13047.64068762, 13077.59277164, 12812.64473001, 13126.34699113,\n",
       "       13064.82959419, 13098.14538064, 12689.96163066, 13104.18094615,\n",
       "       13143.74277565, 13008.12267546, 12644.31916887, 13107.82489558,\n",
       "       13069.3577022 , 13029.74798576, 12648.27623943, 12597.81553236,\n",
       "       12945.49702287, 13026.40219638, 13103.3066688 , 13069.8750409 ,\n",
       "       12630.89905552, 12900.47780023, 12797.72844504, 12611.85684603,\n",
       "       12889.07721671, 12759.64716131, 13116.14022883, 12877.6020985 ,\n",
       "       13025.08248812, 12764.30156011, 12926.67226311, 13118.98684285,\n",
       "       12732.51378742, 13041.79358684, 12810.39630109, 12903.51607926,\n",
       "       13042.16615027, 13056.66380709, 13113.5762484 , 13075.33214345,\n",
       "       12977.24835152, 13097.95284093, 13015.0092473 , 13082.30341248,\n",
       "       13002.85241646, 12870.18143876, 12803.55950692, 13127.3420778 ,\n",
       "       12790.31845893, 13145.81277477, 13114.63850013, 13120.82992082,\n",
       "       13122.0935595 , 13073.77723444, 12864.37340427, 13122.13614548,\n",
       "       13096.73206322, 12888.34119765, 12798.13891772, 12819.58540261,\n",
       "       12966.81912606, 12728.07129319])"
      ]
     },
     "execution_count": 56,
     "metadata": {},
     "output_type": "execute_result"
    }
   ],
   "source": [
    "#predict target from training data\n",
    "svr_predictions = svm.predict(x_testing)\n",
    "svr_predictions"
   ]
  },
  {
   "cell_type": "code",
   "execution_count": 57,
   "metadata": {},
   "outputs": [
    {
     "name": "stdout",
     "output_type": "stream",
     "text": [
      "Mean Absolute Error: 2725.0284213971186\n",
      "Mean Squared Error: 9799968.602648532\n",
      "Root Mean Squared Error: 3130.490153737675\n",
      "Mean Directional Accuracy: 0.8261964735516373\n",
      "Mean r2 score: 0.04144390866678449\n"
     ]
    }
   ],
   "source": [
    "#Accuracy scores\n",
    "\n",
    "print('Mean Absolute Error:', metrics.mean_absolute_error(y_testing, svm_predictions))\n",
    "print('Mean Squared Error:', metrics.mean_squared_error(y_testing, svm_predictions))\n",
    "print('Root Mean Squared Error:', npy.sqrt(metrics.mean_squared_error(y_testing, svm_predictions)))\n",
    "print('Mean Directional Accuracy:', mda(y_testing, svm_predictions))\n",
    "print('Mean r2 score:', metrics.r2_score(y_testing, svm_predictions))"
   ]
  },
  {
   "cell_type": "code",
   "execution_count": null,
   "metadata": {},
   "outputs": [],
   "source": []
  }
 ],
 "metadata": {
  "kernelspec": {
   "display_name": "Python 3",
   "language": "python",
   "name": "python3"
  },
  "language_info": {
   "codemirror_mode": {
    "name": "ipython",
    "version": 3
   },
   "file_extension": ".py",
   "mimetype": "text/x-python",
   "name": "python",
   "nbconvert_exporter": "python",
   "pygments_lexer": "ipython3",
   "version": "3.7.6"
  }
 },
 "nbformat": 4,
 "nbformat_minor": 4
}
