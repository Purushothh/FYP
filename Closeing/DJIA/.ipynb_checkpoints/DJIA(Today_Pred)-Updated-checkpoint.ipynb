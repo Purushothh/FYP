{
 "cells": [
  {
   "cell_type": "code",
   "execution_count": 106,
   "metadata": {},
   "outputs": [],
   "source": [
    "import pandas as pd\n",
    "import numpy as np\n",
    "from sklearn.model_selection import train_test_split"
   ]
  },
  {
   "cell_type": "code",
   "execution_count": 107,
   "metadata": {},
   "outputs": [],
   "source": [
    "df=pd.read_csv(\"C:\\\\Users\\\\User\\\\Desktop\\\\Stock price movements analysis\\\\DJIA\\\\DJIA(ClosingVal-today).csv\")"
   ]
  },
  {
   "cell_type": "code",
   "execution_count": 108,
   "metadata": {},
   "outputs": [
    {
     "data": {
      "text/html": [
       "<div>\n",
       "<style scoped>\n",
       "    .dataframe tbody tr th:only-of-type {\n",
       "        vertical-align: middle;\n",
       "    }\n",
       "\n",
       "    .dataframe tbody tr th {\n",
       "        vertical-align: top;\n",
       "    }\n",
       "\n",
       "    .dataframe thead th {\n",
       "        text-align: right;\n",
       "    }\n",
       "</style>\n",
       "<table border=\"1\" class=\"dataframe\">\n",
       "  <thead>\n",
       "    <tr style=\"text-align: right;\">\n",
       "      <th></th>\n",
       "      <th>Date</th>\n",
       "      <th>Open</th>\n",
       "      <th>High</th>\n",
       "      <th>Low</th>\n",
       "      <th>Volume</th>\n",
       "      <th>Close</th>\n",
       "    </tr>\n",
       "  </thead>\n",
       "  <tbody>\n",
       "    <tr>\n",
       "      <th>0</th>\n",
       "      <td>8/11/2008</td>\n",
       "      <td>11729.66992</td>\n",
       "      <td>11867.11035</td>\n",
       "      <td>11675.53027</td>\n",
       "      <td>183190000</td>\n",
       "      <td>11734.32031</td>\n",
       "    </tr>\n",
       "    <tr>\n",
       "      <th>1</th>\n",
       "      <td>8/12/2008</td>\n",
       "      <td>11781.70020</td>\n",
       "      <td>11782.34961</td>\n",
       "      <td>11601.51953</td>\n",
       "      <td>173590000</td>\n",
       "      <td>11782.34961</td>\n",
       "    </tr>\n",
       "    <tr>\n",
       "      <th>2</th>\n",
       "      <td>8/13/2008</td>\n",
       "      <td>11632.80957</td>\n",
       "      <td>11633.78027</td>\n",
       "      <td>11453.33984</td>\n",
       "      <td>182550000</td>\n",
       "      <td>11642.46973</td>\n",
       "    </tr>\n",
       "    <tr>\n",
       "      <th>3</th>\n",
       "      <td>8/14/2008</td>\n",
       "      <td>11532.07031</td>\n",
       "      <td>11718.28027</td>\n",
       "      <td>11450.88965</td>\n",
       "      <td>159790000</td>\n",
       "      <td>11532.95996</td>\n",
       "    </tr>\n",
       "    <tr>\n",
       "      <th>4</th>\n",
       "      <td>8/15/2008</td>\n",
       "      <td>11611.20996</td>\n",
       "      <td>11709.88965</td>\n",
       "      <td>11599.73047</td>\n",
       "      <td>215040000</td>\n",
       "      <td>11615.92969</td>\n",
       "    </tr>\n",
       "  </tbody>\n",
       "</table>\n",
       "</div>"
      ],
      "text/plain": [
       "        Date         Open         High          Low     Volume        Close\n",
       "0  8/11/2008  11729.66992  11867.11035  11675.53027  183190000  11734.32031\n",
       "1  8/12/2008  11781.70020  11782.34961  11601.51953  173590000  11782.34961\n",
       "2  8/13/2008  11632.80957  11633.78027  11453.33984  182550000  11642.46973\n",
       "3  8/14/2008  11532.07031  11718.28027  11450.88965  159790000  11532.95996\n",
       "4  8/15/2008  11611.20996  11709.88965  11599.73047  215040000  11615.92969"
      ]
     },
     "execution_count": 108,
     "metadata": {},
     "output_type": "execute_result"
    }
   ],
   "source": [
    "df.head()"
   ]
  },
  {
   "cell_type": "code",
   "execution_count": 109,
   "metadata": {},
   "outputs": [
    {
     "data": {
      "text/html": [
       "<div>\n",
       "<style scoped>\n",
       "    .dataframe tbody tr th:only-of-type {\n",
       "        vertical-align: middle;\n",
       "    }\n",
       "\n",
       "    .dataframe tbody tr th {\n",
       "        vertical-align: top;\n",
       "    }\n",
       "\n",
       "    .dataframe thead th {\n",
       "        text-align: right;\n",
       "    }\n",
       "</style>\n",
       "<table border=\"1\" class=\"dataframe\">\n",
       "  <thead>\n",
       "    <tr style=\"text-align: right;\">\n",
       "      <th></th>\n",
       "      <th>Date</th>\n",
       "      <th>Open</th>\n",
       "      <th>High</th>\n",
       "      <th>Low</th>\n",
       "      <th>Volume</th>\n",
       "      <th>Close</th>\n",
       "    </tr>\n",
       "  </thead>\n",
       "  <tbody>\n",
       "    <tr>\n",
       "      <th>1983</th>\n",
       "      <td>6/27/2016</td>\n",
       "      <td>17355.21094</td>\n",
       "      <td>17355.21094</td>\n",
       "      <td>17063.08008</td>\n",
       "      <td>138740000</td>\n",
       "      <td>17400.75000</td>\n",
       "    </tr>\n",
       "    <tr>\n",
       "      <th>1984</th>\n",
       "      <td>6/28/2016</td>\n",
       "      <td>17190.50977</td>\n",
       "      <td>17409.72070</td>\n",
       "      <td>17190.50977</td>\n",
       "      <td>112190000</td>\n",
       "      <td>17140.24023</td>\n",
       "    </tr>\n",
       "    <tr>\n",
       "      <th>1985</th>\n",
       "      <td>6/29/2016</td>\n",
       "      <td>17456.01953</td>\n",
       "      <td>17704.50977</td>\n",
       "      <td>17456.01953</td>\n",
       "      <td>106380000</td>\n",
       "      <td>17409.72070</td>\n",
       "    </tr>\n",
       "    <tr>\n",
       "      <th>1986</th>\n",
       "      <td>6/30/2016</td>\n",
       "      <td>17712.75977</td>\n",
       "      <td>17930.60938</td>\n",
       "      <td>17711.80078</td>\n",
       "      <td>133030000</td>\n",
       "      <td>17694.67969</td>\n",
       "    </tr>\n",
       "    <tr>\n",
       "      <th>1987</th>\n",
       "      <td>7/1/2016</td>\n",
       "      <td>17924.24023</td>\n",
       "      <td>18002.38086</td>\n",
       "      <td>17916.91016</td>\n",
       "      <td>82160000</td>\n",
       "      <td>17929.99023</td>\n",
       "    </tr>\n",
       "  </tbody>\n",
       "</table>\n",
       "</div>"
      ],
      "text/plain": [
       "           Date         Open         High          Low     Volume        Close\n",
       "1983  6/27/2016  17355.21094  17355.21094  17063.08008  138740000  17400.75000\n",
       "1984  6/28/2016  17190.50977  17409.72070  17190.50977  112190000  17140.24023\n",
       "1985  6/29/2016  17456.01953  17704.50977  17456.01953  106380000  17409.72070\n",
       "1986  6/30/2016  17712.75977  17930.60938  17711.80078  133030000  17694.67969\n",
       "1987   7/1/2016  17924.24023  18002.38086  17916.91016   82160000  17929.99023"
      ]
     },
     "execution_count": 109,
     "metadata": {},
     "output_type": "execute_result"
    }
   ],
   "source": [
    "df.tail()"
   ]
  },
  {
   "cell_type": "code",
   "execution_count": 110,
   "metadata": {},
   "outputs": [
    {
     "data": {
      "text/plain": [
       "Date      0\n",
       "Open      0\n",
       "High      0\n",
       "Low       0\n",
       "Volume    0\n",
       "Close     0\n",
       "dtype: int64"
      ]
     },
     "execution_count": 110,
     "metadata": {},
     "output_type": "execute_result"
    }
   ],
   "source": [
    "df.isna().sum()"
   ]
  },
  {
   "cell_type": "code",
   "execution_count": 111,
   "metadata": {},
   "outputs": [
    {
     "data": {
      "text/plain": [
       "(1988, 6)"
      ]
     },
     "execution_count": 111,
     "metadata": {},
     "output_type": "execute_result"
    }
   ],
   "source": [
    "df.shape"
   ]
  },
  {
   "cell_type": "code",
   "execution_count": 112,
   "metadata": {},
   "outputs": [],
   "source": [
    "del df['Date']"
   ]
  },
  {
   "cell_type": "code",
   "execution_count": 113,
   "metadata": {},
   "outputs": [],
   "source": [
    "X=df\n",
    "X=np.array(X.drop(['Close'],1))\n",
    "y=np.array(df['Close'])"
   ]
  },
  {
   "cell_type": "code",
   "execution_count": 114,
   "metadata": {},
   "outputs": [],
   "source": [
    "xtrain, xtest, ytrain, ytest = train_test_split(X,y,test_size=0.2,random_state=42)"
   ]
  },
  {
   "cell_type": "code",
   "execution_count": 115,
   "metadata": {},
   "outputs": [
    {
     "data": {
      "text/plain": [
       "(1590, 4)"
      ]
     },
     "execution_count": 115,
     "metadata": {},
     "output_type": "execute_result"
    }
   ],
   "source": [
    "xtrain.shape"
   ]
  },
  {
   "cell_type": "code",
   "execution_count": 116,
   "metadata": {},
   "outputs": [
    {
     "data": {
      "text/plain": [
       "(1590,)"
      ]
     },
     "execution_count": 116,
     "metadata": {},
     "output_type": "execute_result"
    }
   ],
   "source": [
    "ytrain.shape"
   ]
  },
  {
   "cell_type": "code",
   "execution_count": 117,
   "metadata": {},
   "outputs": [
    {
     "data": {
      "text/plain": [
       "(398, 4)"
      ]
     },
     "execution_count": 117,
     "metadata": {},
     "output_type": "execute_result"
    }
   ],
   "source": [
    "xtest.shape"
   ]
  },
  {
   "cell_type": "code",
   "execution_count": 118,
   "metadata": {},
   "outputs": [
    {
     "data": {
      "text/plain": [
       "(398,)"
      ]
     },
     "execution_count": 118,
     "metadata": {},
     "output_type": "execute_result"
    }
   ],
   "source": [
    "ytest.shape"
   ]
  },
  {
   "cell_type": "markdown",
   "metadata": {},
   "source": [
    "### LASSO"
   ]
  },
  {
   "cell_type": "code",
   "execution_count": 119,
   "metadata": {},
   "outputs": [],
   "source": [
    "from sklearn.linear_model import Lasso"
   ]
  },
  {
   "cell_type": "code",
   "execution_count": 120,
   "metadata": {},
   "outputs": [
    {
     "data": {
      "text/plain": [
       "Lasso()"
      ]
     },
     "execution_count": 120,
     "metadata": {},
     "output_type": "execute_result"
    }
   ],
   "source": [
    "ls = Lasso()\n",
    "ls.fit(xtrain, ytrain)"
   ]
  },
  {
   "cell_type": "code",
   "execution_count": 121,
   "metadata": {},
   "outputs": [
    {
     "data": {
      "text/plain": [
       "array([15528.80807197, 10731.11687238, 15697.90524421,  8275.07529194,\n",
       "       15307.59729404, 17765.1593379 , 17830.31705234, 18105.98841248,\n",
       "       12584.47866947, 16258.34129884,  8865.89309178, 18011.83528946,\n",
       "       12791.64627894, 11458.95366362,  7933.76053714, 15804.3232945 ,\n",
       "       11430.26106503, 13172.04150256, 11874.38365255, 10397.75747398,\n",
       "       17649.39307407,  9286.50597347, 17821.09304695, 17169.89233655,\n",
       "       18035.43761463, 11046.75494553, 10368.35916358, 16424.20617914,\n",
       "       16295.73267669, 18116.05227618, 16584.81616657,  8800.07014327,\n",
       "       15974.18176672,  9063.8840731 , 14844.46707255, 12454.45661712,\n",
       "       17449.6559074 ,  8668.06503605, 13472.0684964 , 17485.3278624 ,\n",
       "       13228.98002272, 14701.31457964, 15194.40644017, 17082.19354698,\n",
       "       17118.94970782, 11124.07084045, 16449.40988086, 16869.59600703,\n",
       "       12423.94848956, 13254.31819123, 10195.60867737, 17667.91219765,\n",
       "       13566.00730389, 11977.87243721, 16805.3965787 ,  9973.69382213,\n",
       "       17827.10005438, 11395.48813999, 16649.4412579 , 13541.03773157,\n",
       "       16920.04786169, 15459.91849434, 17217.04177033, 17710.56809773,\n",
       "       17787.04137592,  8737.81581824, 15993.15523626, 17054.95477407,\n",
       "       12369.98594017, 12922.54984018, 17766.73378478, 14801.92330286,\n",
       "       10176.39489444, 10357.53157422,  8496.49093246, 11784.80334129,\n",
       "       12267.63583776, 17820.5809791 , 14865.43853567, 12807.18863561,\n",
       "        8281.40210478, 17022.01051453, 12965.24180007, 12208.22212085,\n",
       "       17755.66548714, 10259.29946663, 17853.54874868, 18285.55236598,\n",
       "       12746.67276496, 17754.33124076, 17056.54969471, 16944.81154582,\n",
       "       17867.62565929, 16940.3298326 , 15533.26456931, 17691.74456067,\n",
       "        9363.70384535, 17978.84761349,  8771.54662234, 13214.82560624,\n",
       "       17067.14104423, 16418.02030635, 13101.9644675 ,  8058.16973452,\n",
       "       12640.58648878, 10218.81267335, 16607.41817805, 16969.11912205,\n",
       "       11206.19821437, 11586.3345498 , 11561.51732146, 13378.06316485,\n",
       "       16580.26306866, 15773.30945681, 11894.8821152 , 15315.73487585,\n",
       "       10310.64244405, 13268.2383502 , 16245.2386212 , 16490.37306644,\n",
       "       16321.9668764 , 11169.36180428, 13459.25370475, 10262.74822954,\n",
       "        8883.87776344, 12734.73498938, 16118.50255771, 17599.79401064,\n",
       "       11248.78301172, 14969.21918301, 17755.28708987, 11107.92817491,\n",
       "       10596.84927245, 16544.49033488, 14939.59074065,  9874.93731673,\n",
       "       10441.23040017, 17662.74925749, 16369.71965033,  9369.83322634,\n",
       "       15557.34507398, 12734.62397456, 17664.79804035, 15465.56472504,\n",
       "        8002.37620121, 15886.66465715, 17172.9739528 , 11674.59079795,\n",
       "       15327.39469457, 16503.28768337,  7117.3474542 , 11023.95742753,\n",
       "       17004.9921063 ,  9882.48781552, 11409.64795646,  8849.7004042 ,\n",
       "       15879.21345802,  8198.03368837, 16739.10728506, 15910.65924438,\n",
       "       11404.62560013, 12056.41692961, 12398.88306108, 17555.20583529,\n",
       "       12101.95258938, 14924.03774908, 14456.24950169, 16920.64963072,\n",
       "       18035.6516161 , 17591.7900892 , 16341.60398272, 11434.88012415,\n",
       "        9599.47727409, 12098.64026562, 10298.37250474, 10017.32248632,\n",
       "       10739.63972271, 11120.89831706, 12756.9016353 , 18035.56275369,\n",
       "       17736.65728252, 17228.36729084,  8148.2178235 , 11007.84212703,\n",
       "       16414.20909277, 12444.25824515, 12978.05625049,  8853.84706404,\n",
       "       16486.37385337, 10928.56186403, 12868.76019444, 18046.292278  ,\n",
       "       17891.82365576, 13115.6461845 , 14819.12836099, 16313.40382886,\n",
       "        9780.97035484, 15056.51287243, 17974.344709  ,  9869.70562706,\n",
       "       12152.08711404, 13067.86995253, 11430.39294736, 10585.76614578,\n",
       "        8697.61613988, 12653.82031835,  8570.89968585, 12023.27670819,\n",
       "       11195.82774581, 13987.04114617, 10545.53139529,  9315.30894592,\n",
       "       13278.75678683, 12910.34473226,  8417.75234581, 12780.56300932,\n",
       "       10329.18775611, 12885.53697379,  8365.63131125, 15503.37282662,\n",
       "        8773.80251218, 18140.47179758, 17661.54878567, 17605.26661009,\n",
       "        8300.9017531 , 14911.93836389, 13779.88950799, 17590.48287765,\n",
       "       16256.4367666 , 12188.51085259, 12512.18052334, 15539.386677  ,\n",
       "        9346.77851459, 12448.14854801, 10016.22754326, 18028.40093402,\n",
       "       15371.98664334, 12005.17914469,  8079.78691977, 15927.22827089,\n",
       "       13126.68394341, 14757.18281947, 18027.35421828, 10538.21054936,\n",
       "       16535.45844083, 15443.23561063, 17673.43983754, 16252.65464747,\n",
       "       17542.44143205, 17147.4111837 , 10431.91381661, 17743.63650205,\n",
       "        8130.75980377, 10549.69574963, 12772.76190345, 16613.53510328,\n",
       "       15825.701477  ,  8828.50699988, 12230.11333836, 10828.33369252,\n",
       "       10708.2690834 , 10020.57044661, 10665.56716943, 15012.13471318,\n",
       "        7982.39562947,  8723.1952829 , 12570.23762049, 13058.2617706 ,\n",
       "       14526.59505626, 11826.22606861, 17710.91430392, 15569.39506544,\n",
       "       10733.96383962, 12395.34078967, 16453.65147952,  8342.09911739,\n",
       "       17485.16572446, 12104.48349068, 12809.46439008, 10331.33571544,\n",
       "       16012.53018375,  9327.47843494, 16058.47213869,  9509.0479809 ,\n",
       "        7554.33969396,  7765.85869042, 13900.65241053, 16654.90020815,\n",
       "       10969.51711413, 13560.53099588, 11382.34825688, 16983.79853676,\n",
       "        9390.51074939, 12695.83469213, 15676.48196657, 17589.51388177,\n",
       "       14010.31383718,  8466.14183229, 16944.94704309, 16350.7188067 ,\n",
       "       11855.20245748, 13104.99896802, 11979.77787062, 10274.45047591,\n",
       "       17777.93806486, 11016.81915937, 17756.34121521, 10224.28625741,\n",
       "       17720.83484824, 13882.46109571, 15394.46127866, 11282.37058294,\n",
       "       17165.80398165, 16137.2567312 , 10196.64202454, 16677.02722643,\n",
       "        8464.10449031, 11184.52745525,  8083.83032488,  9947.52451218,\n",
       "       16950.84917946, 10896.14326025, 17249.23489759, 16279.26344463,\n",
       "       12044.30603814, 10919.55907197, 10446.35494981, 11202.73025172,\n",
       "       12093.26485821, 17703.44874848, 10859.118333  , 13026.89100059,\n",
       "       13205.57196326,  8405.24183728, 13310.76173124, 10168.0640627 ,\n",
       "       16459.31450121, 17133.36117395, 10565.92716217, 16716.05694407,\n",
       "       17508.58457401, 17889.9567833 , 10812.18906221, 17512.40750543,\n",
       "       16484.51948527, 12567.17420728,  7966.58991626, 15793.78816743,\n",
       "       15014.89570543, 17069.08098823,  7956.64129845, 10062.80732579,\n",
       "       17141.68242637, 11479.35582048, 13163.80899061, 17715.85203227,\n",
       "        9687.89004364, 10471.65098963, 10459.82637885,  8504.13014509,\n",
       "       12230.16856376, 10193.68013133, 18266.93262967, 10427.49386873,\n",
       "       14831.93342169,  9544.32230885, 15112.89418376, 16572.36467801,\n",
       "        8282.91841234, 13205.28826447, 10754.55961339, 12427.28968997,\n",
       "       14921.61415605, 12861.44940996, 16424.56242729, 18031.63782831,\n",
       "       14670.084813  , 18001.00619102, 17014.92899915, 17812.28221802,\n",
       "       12865.38881181, 17416.74671066, 11118.0140029 , 15621.38283435,\n",
       "       11717.92241245, 17079.4625875 , 17390.75204718, 18121.48748066,\n",
       "       13993.46594265, 18023.62499639, 10572.94764501, 18085.62537928,\n",
       "       17687.08191225, 12953.93241852,  9507.58884979, 10041.45587484,\n",
       "       15079.02664137,  9067.61838072])"
      ]
     },
     "execution_count": 121,
     "metadata": {},
     "output_type": "execute_result"
    }
   ],
   "source": [
    "ls_predictions = ls.predict(xtest)\n",
    "ls_predictions"
   ]
  },
  {
   "cell_type": "code",
   "execution_count": 122,
   "metadata": {},
   "outputs": [],
   "source": [
    "def mda(ytest:np.ndarray,predicted:np.ndarray):\n",
    "    \"\"\" Mean Directional Accuracy \"\"\"\n",
    "    return np.mean((np.sign(ytest[1:]-ytest[:-1])== np.sign(predicted[1:]- predicted[:-1])).astype(int))"
   ]
  },
  {
   "cell_type": "code",
   "execution_count": 123,
   "metadata": {},
   "outputs": [
    {
     "name": "stdout",
     "output_type": "stream",
     "text": [
      "Mean Absolute Error: 3.819203274737527\n",
      "Mean Squared Error: 48.69402075437215\n",
      "Root Mean Squared Error: 6.978110113373975\n",
      "Mean Directional Accuracy: 1.0\n"
     ]
    }
   ],
   "source": [
    "from sklearn import metrics\n",
    "print('Mean Absolute Error:', metrics.mean_absolute_error(ytest, ls_predictions))\n",
    "print('Mean Squared Error:', metrics.mean_squared_error(ytest, ls_predictions))\n",
    "print('Root Mean Squared Error:', np.sqrt(metrics.mean_squared_error(ytest, ls_predictions)))\n",
    "print('Mean Directional Accuracy:', mda(ytest, ls_predictions))"
   ]
  },
  {
   "cell_type": "markdown",
   "metadata": {},
   "source": [
    "### Predicting for 25th March"
   ]
  },
  {
   "cell_type": "code",
   "execution_count": 132,
   "metadata": {},
   "outputs": [
    {
     "data": {
      "text/plain": [
       "array([32343.98628365])"
      ]
     },
     "execution_count": 132,
     "metadata": {},
     "output_type": "execute_result"
    }
   ],
   "source": [
    "ls.predict([[32346.81,32672.69,32071.41,411990000]])"
   ]
  },
  {
   "cell_type": "markdown",
   "metadata": {},
   "source": [
    "### Graph"
   ]
  },
  {
   "cell_type": "code",
   "execution_count": 125,
   "metadata": {},
   "outputs": [],
   "source": [
    "import matplotlib.pyplot as plt"
   ]
  },
  {
   "cell_type": "code",
   "execution_count": 126,
   "metadata": {},
   "outputs": [],
   "source": [
    "newdf=pd.read_csv(\"C:\\\\Users\\\\User\\\\Desktop\\\\Stock price movements analysis\\\\DJIA\\\\DJIA(DataFrom25March)-Today.csv\")"
   ]
  },
  {
   "cell_type": "code",
   "execution_count": 127,
   "metadata": {},
   "outputs": [
    {
     "data": {
      "text/html": [
       "<div>\n",
       "<style scoped>\n",
       "    .dataframe tbody tr th:only-of-type {\n",
       "        vertical-align: middle;\n",
       "    }\n",
       "\n",
       "    .dataframe tbody tr th {\n",
       "        vertical-align: top;\n",
       "    }\n",
       "\n",
       "    .dataframe thead th {\n",
       "        text-align: right;\n",
       "    }\n",
       "</style>\n",
       "<table border=\"1\" class=\"dataframe\">\n",
       "  <thead>\n",
       "    <tr style=\"text-align: right;\">\n",
       "      <th></th>\n",
       "      <th>Date</th>\n",
       "      <th>Open</th>\n",
       "      <th>High</th>\n",
       "      <th>Low</th>\n",
       "      <th>Volume</th>\n",
       "      <th>Close</th>\n",
       "    </tr>\n",
       "  </thead>\n",
       "  <tbody>\n",
       "    <tr>\n",
       "      <th>0</th>\n",
       "      <td>3/25/2021</td>\n",
       "      <td>32346.81</td>\n",
       "      <td>32672.69</td>\n",
       "      <td>32071.41</td>\n",
       "      <td>411990000.0</td>\n",
       "      <td>32619.48</td>\n",
       "    </tr>\n",
       "    <tr>\n",
       "      <th>1</th>\n",
       "      <td>3/26/2021</td>\n",
       "      <td>32681.07</td>\n",
       "      <td>33098.83</td>\n",
       "      <td>32681.07</td>\n",
       "      <td>382170000.0</td>\n",
       "      <td>33072.88</td>\n",
       "    </tr>\n",
       "    <tr>\n",
       "      <th>2</th>\n",
       "      <td>3/29/2021</td>\n",
       "      <td>33087.55</td>\n",
       "      <td>33259.00</td>\n",
       "      <td>32905.13</td>\n",
       "      <td>351610000.0</td>\n",
       "      <td>33171.37</td>\n",
       "    </tr>\n",
       "    <tr>\n",
       "      <th>3</th>\n",
       "      <td>3/30/2021</td>\n",
       "      <td>33127.88</td>\n",
       "      <td>33170.93</td>\n",
       "      <td>32988.92</td>\n",
       "      <td>307510000.0</td>\n",
       "      <td>33066.96</td>\n",
       "    </tr>\n",
       "    <tr>\n",
       "      <th>4</th>\n",
       "      <td>3/31/2021</td>\n",
       "      <td>33116.04</td>\n",
       "      <td>33173.77</td>\n",
       "      <td>32980.57</td>\n",
       "      <td>414140000.0</td>\n",
       "      <td>32981.55</td>\n",
       "    </tr>\n",
       "  </tbody>\n",
       "</table>\n",
       "</div>"
      ],
      "text/plain": [
       "        Date      Open      High       Low       Volume     Close\n",
       "0  3/25/2021  32346.81  32672.69  32071.41  411990000.0  32619.48\n",
       "1  3/26/2021  32681.07  33098.83  32681.07  382170000.0  33072.88\n",
       "2  3/29/2021  33087.55  33259.00  32905.13  351610000.0  33171.37\n",
       "3  3/30/2021  33127.88  33170.93  32988.92  307510000.0  33066.96\n",
       "4  3/31/2021  33116.04  33173.77  32980.57  414140000.0  32981.55"
      ]
     },
     "execution_count": 127,
     "metadata": {},
     "output_type": "execute_result"
    }
   ],
   "source": [
    "newdf.head()"
   ]
  },
  {
   "cell_type": "code",
   "execution_count": 128,
   "metadata": {},
   "outputs": [],
   "source": [
    "keep_columns=['Open','High','Low','Volume']\n",
    "newxval=newdf[keep_columns]"
   ]
  },
  {
   "cell_type": "code",
   "execution_count": 129,
   "metadata": {},
   "outputs": [],
   "source": [
    "predictions = ls.predict(newxval)"
   ]
  },
  {
   "cell_type": "code",
   "execution_count": 131,
   "metadata": {},
   "outputs": [
    {
     "data": {
      "text/plain": [
       "<matplotlib.legend.Legend at 0x2144e6ad088>"
      ]
     },
     "execution_count": 131,
     "metadata": {},
     "output_type": "execute_result"
    },
    {
     "data": {
      "image/png": "[encoded data removed]",
      "text/plain": [
       "<Figure size 720x360 with 1 Axes>"
      ]
     },
     "metadata": {
      "needs_background": "light"
     },
     "output_type": "display_data"
    }
   ],
   "source": [
    "plt.figure(figsize=(10,5))\n",
    "plt.plot(newdf['Date'],newdf['Close'], label ='Actual Value')\n",
    "plt.plot(newdf['Date'],predictions, label ='Predicted Value')\n",
    "plt.xlabel('Date')\n",
    "plt.ylabel('Closing value')\n",
    "plt.title(\"Actual Vs Predicted Values for DJIA Today's Closing Value\")\n",
    "plt.legend()"
   ]
  },
  {
   "cell_type": "code",
   "execution_count": null,
   "metadata": {},
   "outputs": [],
   "source": []
  }
 ],
 "metadata": {
  "kernelspec": {
   "display_name": "Python 3",
   "language": "python",
   "name": "python3"
  },
  "language_info": {
   "codemirror_mode": {
    "name": "ipython",
    "version": 3
   },
   "file_extension": ".py",
   "mimetype": "text/x-python",
   "name": "python",
   "nbconvert_exporter": "python",
   "pygments_lexer": "ipython3",
   "version": "3.7.9"
  }
 },
 "nbformat": 4,
 "nbformat_minor": 4
}
