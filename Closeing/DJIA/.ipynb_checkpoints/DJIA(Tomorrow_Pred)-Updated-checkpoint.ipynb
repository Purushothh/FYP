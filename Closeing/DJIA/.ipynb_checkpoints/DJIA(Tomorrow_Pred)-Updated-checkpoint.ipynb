{
 "cells": [
  {
   "cell_type": "code",
   "execution_count": 2,
   "metadata": {},
   "outputs": [],
   "source": [
    "import pandas as pd\n",
    "import numpy as np\n",
    "from sklearn.model_selection import train_test_split\n",
    "import pickle"
   ]
  },
  {
   "cell_type": "code",
   "execution_count": 4,
   "metadata": {},
   "outputs": [],
   "source": [
    "df=pd.read_csv(\"C:\\\\Users\\\\Purushoth\\\\Desktop\\\\Closeing\\\\DJIA\\\\DJIA(ClosingVal-tomorrow).csv\")"
   ]
  },
  {
   "cell_type": "code",
   "execution_count": 5,
   "metadata": {},
   "outputs": [
    {
     "data": {
      "text/html": [
       "<div>\n",
       "<style scoped>\n",
       "    .dataframe tbody tr th:only-of-type {\n",
       "        vertical-align: middle;\n",
       "    }\n",
       "\n",
       "    .dataframe tbody tr th {\n",
       "        vertical-align: top;\n",
       "    }\n",
       "\n",
       "    .dataframe thead th {\n",
       "        text-align: right;\n",
       "    }\n",
       "</style>\n",
       "<table border=\"1\" class=\"dataframe\">\n",
       "  <thead>\n",
       "    <tr style=\"text-align: right;\">\n",
       "      <th></th>\n",
       "      <th>Date</th>\n",
       "      <th>Open</th>\n",
       "      <th>High</th>\n",
       "      <th>Low</th>\n",
       "      <th>Volume</th>\n",
       "      <th>Close</th>\n",
       "    </tr>\n",
       "  </thead>\n",
       "  <tbody>\n",
       "    <tr>\n",
       "      <th>0</th>\n",
       "      <td>8/11/2008</td>\n",
       "      <td>11729.66992</td>\n",
       "      <td>11867.11035</td>\n",
       "      <td>11675.53027</td>\n",
       "      <td>183190000</td>\n",
       "      <td>11782.34961</td>\n",
       "    </tr>\n",
       "    <tr>\n",
       "      <th>1</th>\n",
       "      <td>8/12/2008</td>\n",
       "      <td>11781.70020</td>\n",
       "      <td>11782.34961</td>\n",
       "      <td>11601.51953</td>\n",
       "      <td>173590000</td>\n",
       "      <td>11642.46973</td>\n",
       "    </tr>\n",
       "    <tr>\n",
       "      <th>2</th>\n",
       "      <td>8/13/2008</td>\n",
       "      <td>11632.80957</td>\n",
       "      <td>11633.78027</td>\n",
       "      <td>11453.33984</td>\n",
       "      <td>182550000</td>\n",
       "      <td>11532.95996</td>\n",
       "    </tr>\n",
       "    <tr>\n",
       "      <th>3</th>\n",
       "      <td>8/14/2008</td>\n",
       "      <td>11532.07031</td>\n",
       "      <td>11718.28027</td>\n",
       "      <td>11450.88965</td>\n",
       "      <td>159790000</td>\n",
       "      <td>11615.92969</td>\n",
       "    </tr>\n",
       "    <tr>\n",
       "      <th>4</th>\n",
       "      <td>8/15/2008</td>\n",
       "      <td>11611.20996</td>\n",
       "      <td>11709.88965</td>\n",
       "      <td>11599.73047</td>\n",
       "      <td>215040000</td>\n",
       "      <td>11659.90039</td>\n",
       "    </tr>\n",
       "  </tbody>\n",
       "</table>\n",
       "</div>"
      ],
      "text/plain": [
       "        Date         Open         High          Low     Volume        Close\n",
       "0  8/11/2008  11729.66992  11867.11035  11675.53027  183190000  11782.34961\n",
       "1  8/12/2008  11781.70020  11782.34961  11601.51953  173590000  11642.46973\n",
       "2  8/13/2008  11632.80957  11633.78027  11453.33984  182550000  11532.95996\n",
       "3  8/14/2008  11532.07031  11718.28027  11450.88965  159790000  11615.92969\n",
       "4  8/15/2008  11611.20996  11709.88965  11599.73047  215040000  11659.90039"
      ]
     },
     "execution_count": 5,
     "metadata": {},
     "output_type": "execute_result"
    }
   ],
   "source": [
    "df.head()"
   ]
  },
  {
   "cell_type": "code",
   "execution_count": 6,
   "metadata": {},
   "outputs": [
    {
     "data": {
      "text/html": [
       "<div>\n",
       "<style scoped>\n",
       "    .dataframe tbody tr th:only-of-type {\n",
       "        vertical-align: middle;\n",
       "    }\n",
       "\n",
       "    .dataframe tbody tr th {\n",
       "        vertical-align: top;\n",
       "    }\n",
       "\n",
       "    .dataframe thead th {\n",
       "        text-align: right;\n",
       "    }\n",
       "</style>\n",
       "<table border=\"1\" class=\"dataframe\">\n",
       "  <thead>\n",
       "    <tr style=\"text-align: right;\">\n",
       "      <th></th>\n",
       "      <th>Date</th>\n",
       "      <th>Open</th>\n",
       "      <th>High</th>\n",
       "      <th>Low</th>\n",
       "      <th>Volume</th>\n",
       "      <th>Close</th>\n",
       "    </tr>\n",
       "  </thead>\n",
       "  <tbody>\n",
       "    <tr>\n",
       "      <th>1982</th>\n",
       "      <td>6/24/2016</td>\n",
       "      <td>17946.63086</td>\n",
       "      <td>17946.63086</td>\n",
       "      <td>17356.33984</td>\n",
       "      <td>239000000</td>\n",
       "      <td>17400.75000</td>\n",
       "    </tr>\n",
       "    <tr>\n",
       "      <th>1983</th>\n",
       "      <td>6/27/2016</td>\n",
       "      <td>17355.21094</td>\n",
       "      <td>17355.21094</td>\n",
       "      <td>17063.08008</td>\n",
       "      <td>138740000</td>\n",
       "      <td>17140.24023</td>\n",
       "    </tr>\n",
       "    <tr>\n",
       "      <th>1984</th>\n",
       "      <td>6/28/2016</td>\n",
       "      <td>17190.50977</td>\n",
       "      <td>17409.72070</td>\n",
       "      <td>17190.50977</td>\n",
       "      <td>112190000</td>\n",
       "      <td>17409.72070</td>\n",
       "    </tr>\n",
       "    <tr>\n",
       "      <th>1985</th>\n",
       "      <td>6/29/2016</td>\n",
       "      <td>17456.01953</td>\n",
       "      <td>17704.50977</td>\n",
       "      <td>17456.01953</td>\n",
       "      <td>106380000</td>\n",
       "      <td>17694.67969</td>\n",
       "    </tr>\n",
       "    <tr>\n",
       "      <th>1986</th>\n",
       "      <td>6/30/2016</td>\n",
       "      <td>17712.75977</td>\n",
       "      <td>17930.60938</td>\n",
       "      <td>17711.80078</td>\n",
       "      <td>133030000</td>\n",
       "      <td>17929.99023</td>\n",
       "    </tr>\n",
       "  </tbody>\n",
       "</table>\n",
       "</div>"
      ],
      "text/plain": [
       "           Date         Open         High          Low     Volume        Close\n",
       "1982  6/24/2016  17946.63086  17946.63086  17356.33984  239000000  17400.75000\n",
       "1983  6/27/2016  17355.21094  17355.21094  17063.08008  138740000  17140.24023\n",
       "1984  6/28/2016  17190.50977  17409.72070  17190.50977  112190000  17409.72070\n",
       "1985  6/29/2016  17456.01953  17704.50977  17456.01953  106380000  17694.67969\n",
       "1986  6/30/2016  17712.75977  17930.60938  17711.80078  133030000  17929.99023"
      ]
     },
     "execution_count": 6,
     "metadata": {},
     "output_type": "execute_result"
    }
   ],
   "source": [
    "df.tail()"
   ]
  },
  {
   "cell_type": "code",
   "execution_count": 7,
   "metadata": {},
   "outputs": [
    {
     "data": {
      "text/plain": [
       "Date      0\n",
       "Open      0\n",
       "High      0\n",
       "Low       0\n",
       "Volume    0\n",
       "Close     0\n",
       "dtype: int64"
      ]
     },
     "execution_count": 7,
     "metadata": {},
     "output_type": "execute_result"
    }
   ],
   "source": [
    "df.isna().sum()"
   ]
  },
  {
   "cell_type": "code",
   "execution_count": 8,
   "metadata": {},
   "outputs": [
    {
     "data": {
      "text/plain": [
       "(1987, 6)"
      ]
     },
     "execution_count": 8,
     "metadata": {},
     "output_type": "execute_result"
    }
   ],
   "source": [
    "df.shape"
   ]
  },
  {
   "cell_type": "code",
   "execution_count": 9,
   "metadata": {},
   "outputs": [],
   "source": [
    "del df['Date']"
   ]
  },
  {
   "cell_type": "code",
   "execution_count": 10,
   "metadata": {},
   "outputs": [],
   "source": [
    "X=df\n",
    "X=np.array(X.drop(['Close'],1))\n",
    "y=np.array(df['Close'])"
   ]
  },
  {
   "cell_type": "code",
   "execution_count": 11,
   "metadata": {},
   "outputs": [],
   "source": [
    "xtrain, xtest, ytrain, ytest = train_test_split(X,y,test_size=0.2,random_state=42)"
   ]
  },
  {
   "cell_type": "code",
   "execution_count": 12,
   "metadata": {},
   "outputs": [
    {
     "data": {
      "text/plain": [
       "(1589, 4)"
      ]
     },
     "execution_count": 12,
     "metadata": {},
     "output_type": "execute_result"
    }
   ],
   "source": [
    "xtrain.shape"
   ]
  },
  {
   "cell_type": "code",
   "execution_count": 13,
   "metadata": {},
   "outputs": [
    {
     "data": {
      "text/plain": [
       "(1589,)"
      ]
     },
     "execution_count": 13,
     "metadata": {},
     "output_type": "execute_result"
    }
   ],
   "source": [
    "ytrain.shape"
   ]
  },
  {
   "cell_type": "code",
   "execution_count": 14,
   "metadata": {},
   "outputs": [
    {
     "data": {
      "text/plain": [
       "(398, 4)"
      ]
     },
     "execution_count": 14,
     "metadata": {},
     "output_type": "execute_result"
    }
   ],
   "source": [
    "xtest.shape"
   ]
  },
  {
   "cell_type": "code",
   "execution_count": 15,
   "metadata": {},
   "outputs": [
    {
     "data": {
      "text/plain": [
       "(398,)"
      ]
     },
     "execution_count": 15,
     "metadata": {},
     "output_type": "execute_result"
    }
   ],
   "source": [
    "ytest.shape"
   ]
  },
  {
   "cell_type": "markdown",
   "metadata": {},
   "source": [
    "### LASSO"
   ]
  },
  {
   "cell_type": "code",
   "execution_count": 32,
   "metadata": {},
   "outputs": [],
   "source": [
    "from sklearn.linear_model import Ridge"
   ]
  },
  {
   "cell_type": "code",
   "execution_count": 33,
   "metadata": {},
   "outputs": [
    {
     "data": {
      "text/plain": [
       "Ridge()"
      ]
     },
     "execution_count": 33,
     "metadata": {},
     "output_type": "execute_result"
    }
   ],
   "source": [
    "ls = Ridge()\n",
    "ls.fit(xtrain, ytrain)"
   ]
  },
  {
   "cell_type": "code",
   "execution_count": 34,
   "metadata": {},
   "outputs": [
    {
     "data": {
      "text/plain": [
       "array([ 8629.18349503, 16974.69009704, 11218.90789594, 14808.48875225,\n",
       "       17312.94504563, 10279.46676131, 13060.8146094 , 17867.48175745,\n",
       "       15653.0078656 , 13458.53792565, 15308.57219824,  9908.97568976,\n",
       "       15453.29889646, 17643.46754029, 12042.04765833, 17046.24848892,\n",
       "       18002.61520999, 12561.93530621, 10239.1193258 ,  9183.53934608,\n",
       "       12503.22997119, 15354.64015877, 10938.02823213, 18051.95838122,\n",
       "       16309.8076601 , 13045.24592113, 14784.55399002, 12103.36698521,\n",
       "       12363.39586706,  8311.83596974, 11175.62012389,  8634.04681617,\n",
       "       15932.01935701, 13225.7034239 , 15570.25911575,  8019.9541859 ,\n",
       "       14012.95044081, 15243.48459655, 11011.54109131, 17256.34045954,\n",
       "       16924.63538629, 10860.73821863,  8260.34768538, 17738.33287627,\n",
       "       11260.68781293, 15526.54497961, 15307.47084517, 11094.58740812,\n",
       "       10309.69941747, 12338.77904823, 16498.38145616, 10259.37957339,\n",
       "       11088.30905353,  7749.63578474, 17659.46684452, 12521.32254739,\n",
       "       17464.22431404, 12128.86336503, 11111.80011651,  8885.53979376,\n",
       "       16961.06069015, 15996.15455512, 11899.25688291, 12490.17774375,\n",
       "       16005.68504783, 10586.58683698, 10977.71852212, 10239.42822201,\n",
       "       17773.42131199, 16550.16369089, 12633.23557644,  8368.12889705,\n",
       "       13249.70277482, 16313.07102292, 15499.84385519, 15963.66681915,\n",
       "       12117.3739656 , 10121.15994914, 15346.98887941, 12263.43379148,\n",
       "       12514.99448849, 17867.00488259, 10793.36687716, 11468.80181017,\n",
       "       15895.36373841, 12853.1069365 , 14032.04015227,  8813.84496874,\n",
       "       16971.34397283,  9358.9007469 ,  9460.66765931, 18142.30474824,\n",
       "       17966.99547829, 17811.13028351, 17658.862619  , 10575.07447456,\n",
       "       17674.36732947, 12041.04384542, 10293.70404954, 13259.75398603,\n",
       "       18160.35735581, 17702.43548813, 11478.28580892, 17106.24211543,\n",
       "       13865.53523612, 12061.16302549, 16608.17071849, 12374.79896258,\n",
       "       11986.09616415, 17019.73281427, 12494.43452769, 17586.24821524,\n",
       "       17900.13708613, 11060.46807317, 13214.23235935, 16240.75472999,\n",
       "       12890.6336176 , 13533.7932251 , 11126.51824056, 10130.76813151,\n",
       "       17169.87171179, 16485.56792928, 10954.42041806, 17578.09929297,\n",
       "       10965.92969461, 12000.09464189,  8761.12461252, 17071.18592305,\n",
       "        9978.88360296, 10338.10741801, 16475.98866238, 16448.44294932,\n",
       "        9959.32708322, 10987.97644367, 16638.80415606, 17741.57771851,\n",
       "       12837.45459731, 17076.22964731, 12995.16292783, 15139.48159708,\n",
       "       15501.79529326,  8289.39085453,  7893.34703667, 15863.14579763,\n",
       "       12763.31540801, 12296.88589087, 15772.99087584,  7324.30649024,\n",
       "       12682.89707697, 10439.73414645, 11234.72843854, 10872.68271907,\n",
       "        8583.76653985, 15310.09762385,  8106.44992173,  9998.59958798,\n",
       "       10380.26849485,  8853.52488565, 18093.97797966, 11226.88591179,\n",
       "       16750.56001023, 15860.43748258, 12378.4232933 , 17959.52619238,\n",
       "        9577.80843122, 10988.21968876, 17884.66673748, 12237.53377285,\n",
       "       10579.42376688,  9313.10790811, 17121.12419181, 17218.80230516,\n",
       "       17442.79437775, 16427.14074896, 13146.93604655, 11481.28446281,\n",
       "       10486.36993825, 17624.56028104,  9414.95385585, 10912.87890566,\n",
       "       12211.67097569, 15089.42494596, 10561.19940591,  9205.23514024,\n",
       "       11501.81412892,  9288.4917844 ,  9163.12172947, 16978.56378501,\n",
       "       12998.91337557, 13126.35803338, 10057.24732296, 10234.21123523,\n",
       "       12363.67031691, 17136.40399418, 14437.56464202, 13494.59730637,\n",
       "       14513.41640984, 14993.30129586, 11337.92465016, 10523.48194994,\n",
       "        8920.43506562, 13313.76009429,  8439.87757784, 12616.82174678,\n",
       "        9048.76129809, 17493.28758443, 16184.37499906, 16406.87835416,\n",
       "       11004.15267261, 17727.11754231,  8261.67406892, 17912.74814625,\n",
       "       13083.96507081, 13099.13494405, 16829.55769187, 17718.07604416,\n",
       "        9013.78294713, 15960.61281067, 17771.18001416, 17611.75811834,\n",
       "        8431.40292382, 13114.57591807, 13782.43732278, 17719.41584821,\n",
       "       11960.96980997, 11342.23460043, 11452.42129851, 12019.83587576,\n",
       "       13250.65335858, 16093.07792466, 12970.03211071,  9836.18905124,\n",
       "       13363.07263947, 17551.72469783,  8160.65061045, 11840.09270682,\n",
       "       15336.02446391, 10166.02097201, 17616.508684  , 15228.93177949,\n",
       "       10022.29710334,  9826.71819208, 14470.67481318, 10380.16969427,\n",
       "       12218.20661927, 11352.51968639, 16159.509201  , 12030.6667565 ,\n",
       "        7894.95416658, 17916.26419685, 17963.78097094, 15051.75686294,\n",
       "       15507.87575722, 15590.12501397, 18067.77156831, 12175.70998946,\n",
       "        8303.02440819, 17849.73299745, 11083.2869682 , 12416.90804053,\n",
       "        9800.9688671 , 12350.84489005, 10439.66965106,  7943.41983929,\n",
       "        8751.77313046, 12472.23850858, 16577.91955278, 10685.11560176,\n",
       "       10172.5266798 , 17721.24360591, 11170.54573241, 17986.46412007,\n",
       "       17934.64142285, 16583.24457564,  8322.27345185, 17511.55117134,\n",
       "       12751.50406305, 11572.16362854, 15756.57394929,  9345.01612643,\n",
       "       13551.66486056, 10550.28668949,  7898.81011203,  8016.41741699,\n",
       "       17767.9898901 , 13901.62978885, 13204.39245391, 16113.05097209,\n",
       "       11353.33872221, 18000.59290756,  9495.2508144 , 12790.49545504,\n",
       "       16498.21910456, 14609.10358493,  8568.65085403, 16880.8084621 ,\n",
       "       16384.85660911, 14895.04658468, 17767.71761674, 10344.68075377,\n",
       "       10011.22723856, 11738.68075202, 10985.72908618, 13021.55162387,\n",
       "       16898.47134367, 11020.13201102, 14959.5259769 , 15319.32598338,\n",
       "       16706.43423338, 17663.09853277, 15965.16092743, 10535.70096159,\n",
       "       16725.91997705,  9281.12128539, 16883.68209303,  8004.7580651 ,\n",
       "       10056.69138476, 16868.16624908, 14884.14775865, 17173.70976922,\n",
       "       11536.46565262, 15500.80534558, 13192.05086279, 12922.48584961,\n",
       "       15082.33994008, 16410.64721467, 15456.72501711, 16295.70053601,\n",
       "       13267.64095133, 12604.89416778,  8484.7077463 , 12181.64802157,\n",
       "       13204.60962527, 15069.11139809, 12654.29223473, 10460.9560322 ,\n",
       "       12375.41094818, 10836.33410719, 18005.54110696, 17559.6295264 ,\n",
       "       17551.69801417, 16507.06219251, 12536.36277887,  7948.07536043,\n",
       "       17648.25239704, 11388.40165611, 17311.30724146,  7991.25788667,\n",
       "       11691.82480686, 15180.31490663, 11132.08073295, 13177.82381606,\n",
       "       15568.67525149, 13068.86379518, 10470.47633546, 15625.70703198,\n",
       "        8497.33450919, 10239.98609585, 10722.94156501, 18239.91950416,\n",
       "       10381.33706996, 14817.45304603,  9460.46330676, 16731.18013571,\n",
       "       16561.70769651,  8538.94707003, 13189.25179357, 10607.88286487,\n",
       "       14027.9453326 , 10490.97333788, 18052.49914796, 16438.91187141,\n",
       "       13210.98138458, 17707.26423992, 17714.73644119, 12896.64470525,\n",
       "       17743.85337251, 17009.80387363, 10375.73785064, 18257.81173016,\n",
       "       10552.55075649, 12973.32473164, 17609.86044468, 17367.50058247,\n",
       "       18186.28232992, 17092.76904827, 12197.87483837, 10546.02945732,\n",
       "       14507.13713961, 16473.58648627, 12487.44468569,  9559.85550639,\n",
       "       11948.38948404, 18054.33398005,  9049.11114353, 17937.3946199 ,\n",
       "       15043.96069146,  9807.67041913])"
      ]
     },
     "execution_count": 34,
     "metadata": {},
     "output_type": "execute_result"
    }
   ],
   "source": [
    "ls_predictions = ls.predict(xtest)\n",
    "ls_predictions"
   ]
  },
  {
   "cell_type": "code",
   "execution_count": 35,
   "metadata": {},
   "outputs": [],
   "source": [
    "def mda(ytest:np.ndarray,predicted:np.ndarray):\n",
    "    \"\"\" Mean Directional Accuracy \"\"\"\n",
    "    return np.mean((np.sign(ytest[1:]-ytest[:-1])== np.sign(predicted[1:]- predicted[:-1])).astype(int))"
   ]
  },
  {
   "cell_type": "code",
   "execution_count": 36,
   "metadata": {},
   "outputs": [
    {
     "name": "stdout",
     "output_type": "stream",
     "text": [
      "Mean Absolute Error: 40.13394991495802\n",
      "Mean Squared Error: 3210.735377380124\n",
      "Root Mean Squared Error: 56.663351272053475\n",
      "Mean Directional Accuracy: 0.9899244332493703\n"
     ]
    }
   ],
   "source": [
    "from sklearn import metrics\n",
    "print('Mean Absolute Error:', metrics.mean_absolute_error(ytest, ls_predictions))\n",
    "print('Mean Squared Error:', metrics.mean_squared_error(ytest, ls_predictions))\n",
    "print('Root Mean Squared Error:', np.sqrt(metrics.mean_squared_error(ytest, ls_predictions)))\n",
    "print('Mean Directional Accuracy:', mda(ytest, ls_predictions))"
   ]
  },
  {
   "cell_type": "markdown",
   "metadata": {},
   "source": [
    "### Predicting for 26th March using 25th Open, High, Low, Volume"
   ]
  },
  {
   "cell_type": "code",
   "execution_count": 37,
   "metadata": {},
   "outputs": [
    {
     "data": {
      "text/plain": [
       "array([32390.51095208])"
      ]
     },
     "execution_count": 37,
     "metadata": {},
     "output_type": "execute_result"
    }
   ],
   "source": [
    "ls.predict([[32346.81,32672.69,32071.41,411990000]])"
   ]
  },
  {
   "cell_type": "markdown",
   "metadata": {},
   "source": [
    "### Graph"
   ]
  },
  {
   "cell_type": "code",
   "execution_count": 38,
   "metadata": {},
   "outputs": [],
   "source": [
    "import matplotlib.pyplot as plt"
   ]
  },
  {
   "cell_type": "code",
   "execution_count": 39,
   "metadata": {},
   "outputs": [],
   "source": [
    "newdf=pd.read_csv(\"C:\\\\Users\\\\User\\\\Desktop\\\\Stock price movements analysis\\\\DJIA\\\\DJIA(DataFrom25March)-Today.csv\")"
   ]
  },
  {
   "cell_type": "code",
   "execution_count": 40,
   "metadata": {},
   "outputs": [
    {
     "data": {
      "text/html": [
       "<div>\n",
       "<style scoped>\n",
       "    .dataframe tbody tr th:only-of-type {\n",
       "        vertical-align: middle;\n",
       "    }\n",
       "\n",
       "    .dataframe tbody tr th {\n",
       "        vertical-align: top;\n",
       "    }\n",
       "\n",
       "    .dataframe thead th {\n",
       "        text-align: right;\n",
       "    }\n",
       "</style>\n",
       "<table border=\"1\" class=\"dataframe\">\n",
       "  <thead>\n",
       "    <tr style=\"text-align: right;\">\n",
       "      <th></th>\n",
       "      <th>Date</th>\n",
       "      <th>Open</th>\n",
       "      <th>High</th>\n",
       "      <th>Low</th>\n",
       "      <th>Volume</th>\n",
       "      <th>Close</th>\n",
       "    </tr>\n",
       "  </thead>\n",
       "  <tbody>\n",
       "    <tr>\n",
       "      <th>0</th>\n",
       "      <td>3/25/2021</td>\n",
       "      <td>32346.81</td>\n",
       "      <td>32672.69</td>\n",
       "      <td>32071.41</td>\n",
       "      <td>411990000.0</td>\n",
       "      <td>32619.48</td>\n",
       "    </tr>\n",
       "    <tr>\n",
       "      <th>1</th>\n",
       "      <td>3/26/2021</td>\n",
       "      <td>32681.07</td>\n",
       "      <td>33098.83</td>\n",
       "      <td>32681.07</td>\n",
       "      <td>382170000.0</td>\n",
       "      <td>33072.88</td>\n",
       "    </tr>\n",
       "    <tr>\n",
       "      <th>2</th>\n",
       "      <td>3/29/2021</td>\n",
       "      <td>33087.55</td>\n",
       "      <td>33259.00</td>\n",
       "      <td>32905.13</td>\n",
       "      <td>351610000.0</td>\n",
       "      <td>33171.37</td>\n",
       "    </tr>\n",
       "    <tr>\n",
       "      <th>3</th>\n",
       "      <td>3/30/2021</td>\n",
       "      <td>33127.88</td>\n",
       "      <td>33170.93</td>\n",
       "      <td>32988.92</td>\n",
       "      <td>307510000.0</td>\n",
       "      <td>33066.96</td>\n",
       "    </tr>\n",
       "    <tr>\n",
       "      <th>4</th>\n",
       "      <td>3/31/2021</td>\n",
       "      <td>33116.04</td>\n",
       "      <td>33173.77</td>\n",
       "      <td>32980.57</td>\n",
       "      <td>414140000.0</td>\n",
       "      <td>32981.55</td>\n",
       "    </tr>\n",
       "  </tbody>\n",
       "</table>\n",
       "</div>"
      ],
      "text/plain": [
       "        Date      Open      High       Low       Volume     Close\n",
       "0  3/25/2021  32346.81  32672.69  32071.41  411990000.0  32619.48\n",
       "1  3/26/2021  32681.07  33098.83  32681.07  382170000.0  33072.88\n",
       "2  3/29/2021  33087.55  33259.00  32905.13  351610000.0  33171.37\n",
       "3  3/30/2021  33127.88  33170.93  32988.92  307510000.0  33066.96\n",
       "4  3/31/2021  33116.04  33173.77  32980.57  414140000.0  32981.55"
      ]
     },
     "execution_count": 40,
     "metadata": {},
     "output_type": "execute_result"
    }
   ],
   "source": [
    "newdf.head()"
   ]
  },
  {
   "cell_type": "code",
   "execution_count": 41,
   "metadata": {},
   "outputs": [],
   "source": [
    "keep_columns=['Open','High','Low','Volume']\n",
    "newxval=newdf[keep_columns]"
   ]
  },
  {
   "cell_type": "code",
   "execution_count": 42,
   "metadata": {},
   "outputs": [],
   "source": [
    "predictions = ls.predict(newxval)"
   ]
  },
  {
   "cell_type": "code",
   "execution_count": 44,
   "metadata": {},
   "outputs": [
    {
     "data": {
      "text/plain": [
       "<matplotlib.legend.Legend at 0x1c95ca0a788>"
      ]
     },
     "execution_count": 44,
     "metadata": {},
     "output_type": "execute_result"
    },
    {
     "data": {
      "image/png": "[encoded data removed]",
      "text/plain": [
       "<Figure size 720x360 with 1 Axes>"
      ]
     },
     "metadata": {
      "needs_background": "light"
     },
     "output_type": "display_data"
    }
   ],
   "source": [
    "plt.figure(figsize=(10,5))\n",
    "plt.plot(newdf['Date'],newdf['Close'], label ='Actual Value')\n",
    "plt.plot(newdf['Date'],predictions, label ='Predicted Value')\n",
    "plt.xlabel('Date')\n",
    "plt.ylabel('Closing value')\n",
    "plt.title(\"Actual Vs Predicted Values for DJIA Tomorrow's Closing Value\")\n",
    "plt.legend()"
   ]
  },
  {
   "cell_type": "code",
   "execution_count": null,
   "metadata": {},
   "outputs": [],
   "source": []
  }
 ],
 "metadata": {
  "kernelspec": {
   "display_name": "Python 3",
   "language": "python",
   "name": "python3"
  },
  "language_info": {
   "codemirror_mode": {
    "name": "ipython",
    "version": 3
   },
   "file_extension": ".py",
   "mimetype": "text/x-python",
   "name": "python",
   "nbconvert_exporter": "python",
   "pygments_lexer": "ipython3",
   "version": "3.7.9"
  }
 },
 "nbformat": 4,
 "nbformat_minor": 4
}
