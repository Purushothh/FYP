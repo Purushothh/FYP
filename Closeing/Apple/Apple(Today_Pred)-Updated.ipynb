{
 "cells": [
  {
   "cell_type": "code",
   "execution_count": 8,
   "metadata": {},
   "outputs": [],
   "source": [
    "#import libraries and dependencies\n",
    "import pandas as pds\n",
    "import numpy as npy\n",
    "from sklearn.model_selection import train_test_split\n",
    "import pickle"
   ]
  },
  {
   "cell_type": "code",
   "execution_count": 9,
   "metadata": {},
   "outputs": [],
   "source": [
    "#import and read dataset of Apple.\n",
    "dataFrame = pds.read_csv(\"C:\\\\Users\\\\Acer\\\\Desktop\\\\Closeing\\\\Apple\\\\AAPL(ClosingVal-today).csv\")"
   ]
  },
  {
   "cell_type": "code",
   "execution_count": 10,
   "metadata": {},
   "outputs": [
    {
     "data": {
      "text/html": [
       "<div>\n",
       "<style scoped>\n",
       "    .dataframe tbody tr th:only-of-type {\n",
       "        vertical-align: middle;\n",
       "    }\n",
       "\n",
       "    .dataframe tbody tr th {\n",
       "        vertical-align: top;\n",
       "    }\n",
       "\n",
       "    .dataframe thead th {\n",
       "        text-align: right;\n",
       "    }\n",
       "</style>\n",
       "<table border=\"1\" class=\"dataframe\">\n",
       "  <thead>\n",
       "    <tr style=\"text-align: right;\">\n",
       "      <th></th>\n",
       "      <th>Date</th>\n",
       "      <th>Open</th>\n",
       "      <th>High</th>\n",
       "      <th>Low</th>\n",
       "      <th>Volume</th>\n",
       "      <th>Close</th>\n",
       "    </tr>\n",
       "  </thead>\n",
       "  <tbody>\n",
       "    <tr>\n",
       "      <th>0</th>\n",
       "      <td>1/2/1998</td>\n",
       "      <td>0.121652</td>\n",
       "      <td>0.145089</td>\n",
       "      <td>0.120536</td>\n",
       "      <td>718110400</td>\n",
       "      <td>0.145089</td>\n",
       "    </tr>\n",
       "    <tr>\n",
       "      <th>1</th>\n",
       "      <td>1/5/1998</td>\n",
       "      <td>0.147321</td>\n",
       "      <td>0.147879</td>\n",
       "      <td>0.135603</td>\n",
       "      <td>651873600</td>\n",
       "      <td>0.141741</td>\n",
       "    </tr>\n",
       "    <tr>\n",
       "      <th>2</th>\n",
       "      <td>1/6/1998</td>\n",
       "      <td>0.142299</td>\n",
       "      <td>0.178571</td>\n",
       "      <td>0.131696</td>\n",
       "      <td>1812473600</td>\n",
       "      <td>0.169085</td>\n",
       "    </tr>\n",
       "    <tr>\n",
       "      <th>3</th>\n",
       "      <td>1/7/1998</td>\n",
       "      <td>0.167969</td>\n",
       "      <td>0.169643</td>\n",
       "      <td>0.154576</td>\n",
       "      <td>1041622400</td>\n",
       "      <td>0.156250</td>\n",
       "    </tr>\n",
       "    <tr>\n",
       "      <th>4</th>\n",
       "      <td>1/8/1998</td>\n",
       "      <td>0.155692</td>\n",
       "      <td>0.166295</td>\n",
       "      <td>0.151228</td>\n",
       "      <td>774020800</td>\n",
       "      <td>0.162388</td>\n",
       "    </tr>\n",
       "  </tbody>\n",
       "</table>\n",
       "</div>"
      ],
      "text/plain": [
       "       Date      Open      High       Low      Volume     Close\n",
       "0  1/2/1998  0.121652  0.145089  0.120536   718110400  0.145089\n",
       "1  1/5/1998  0.147321  0.147879  0.135603   651873600  0.141741\n",
       "2  1/6/1998  0.142299  0.178571  0.131696  1812473600  0.169085\n",
       "3  1/7/1998  0.167969  0.169643  0.154576  1041622400  0.156250\n",
       "4  1/8/1998  0.155692  0.166295  0.151228   774020800  0.162388"
      ]
     },
     "execution_count": 10,
     "metadata": {},
     "output_type": "execute_result"
    }
   ],
   "source": [
    "dataFrame.head()"
   ]
  },
  {
   "cell_type": "code",
   "execution_count": 11,
   "metadata": {},
   "outputs": [
    {
     "data": {
      "text/html": [
       "<div>\n",
       "<style scoped>\n",
       "    .dataframe tbody tr th:only-of-type {\n",
       "        vertical-align: middle;\n",
       "    }\n",
       "\n",
       "    .dataframe tbody tr th {\n",
       "        vertical-align: top;\n",
       "    }\n",
       "\n",
       "    .dataframe thead th {\n",
       "        text-align: right;\n",
       "    }\n",
       "</style>\n",
       "<table border=\"1\" class=\"dataframe\">\n",
       "  <thead>\n",
       "    <tr style=\"text-align: right;\">\n",
       "      <th></th>\n",
       "      <th>Date</th>\n",
       "      <th>Open</th>\n",
       "      <th>High</th>\n",
       "      <th>Low</th>\n",
       "      <th>Volume</th>\n",
       "      <th>Close</th>\n",
       "    </tr>\n",
       "  </thead>\n",
       "  <tbody>\n",
       "    <tr>\n",
       "      <th>5840</th>\n",
       "      <td>3/19/2021</td>\n",
       "      <td>119.900002</td>\n",
       "      <td>121.430000</td>\n",
       "      <td>119.680000</td>\n",
       "      <td>185023200</td>\n",
       "      <td>119.989998</td>\n",
       "    </tr>\n",
       "    <tr>\n",
       "      <th>5841</th>\n",
       "      <td>3/22/2021</td>\n",
       "      <td>120.330002</td>\n",
       "      <td>123.870003</td>\n",
       "      <td>120.260002</td>\n",
       "      <td>111912300</td>\n",
       "      <td>123.389999</td>\n",
       "    </tr>\n",
       "    <tr>\n",
       "      <th>5842</th>\n",
       "      <td>3/23/2021</td>\n",
       "      <td>123.330002</td>\n",
       "      <td>124.239998</td>\n",
       "      <td>122.139999</td>\n",
       "      <td>95467100</td>\n",
       "      <td>122.540001</td>\n",
       "    </tr>\n",
       "    <tr>\n",
       "      <th>5843</th>\n",
       "      <td>3/24/2021</td>\n",
       "      <td>122.820000</td>\n",
       "      <td>122.900002</td>\n",
       "      <td>120.070000</td>\n",
       "      <td>88530500</td>\n",
       "      <td>120.089996</td>\n",
       "    </tr>\n",
       "    <tr>\n",
       "      <th>5844</th>\n",
       "      <td>3/25/2021</td>\n",
       "      <td>119.540001</td>\n",
       "      <td>121.660004</td>\n",
       "      <td>119.000000</td>\n",
       "      <td>98696600</td>\n",
       "      <td>120.589996</td>\n",
       "    </tr>\n",
       "  </tbody>\n",
       "</table>\n",
       "</div>"
      ],
      "text/plain": [
       "           Date        Open        High         Low     Volume       Close\n",
       "5840  3/19/2021  119.900002  121.430000  119.680000  185023200  119.989998\n",
       "5841  3/22/2021  120.330002  123.870003  120.260002  111912300  123.389999\n",
       "5842  3/23/2021  123.330002  124.239998  122.139999   95467100  122.540001\n",
       "5843  3/24/2021  122.820000  122.900002  120.070000   88530500  120.089996\n",
       "5844  3/25/2021  119.540001  121.660004  119.000000   98696600  120.589996"
      ]
     },
     "execution_count": 11,
     "metadata": {},
     "output_type": "execute_result"
    }
   ],
   "source": [
    "dataFrame.tail()"
   ]
  },
  {
   "cell_type": "code",
   "execution_count": 12,
   "metadata": {},
   "outputs": [
    {
     "data": {
      "text/plain": [
       "Date      0\n",
       "Open      0\n",
       "High      0\n",
       "Low       0\n",
       "Volume    0\n",
       "Close     0\n",
       "dtype: int64"
      ]
     },
     "execution_count": 12,
     "metadata": {},
     "output_type": "execute_result"
    }
   ],
   "source": [
    "#checking for null values and the total no.of records.\n",
    "dataFrame.isna().sum()"
   ]
  },
  {
   "cell_type": "code",
   "execution_count": 13,
   "metadata": {},
   "outputs": [
    {
     "data": {
      "text/plain": [
       "(5845, 6)"
      ]
     },
     "execution_count": 13,
     "metadata": {},
     "output_type": "execute_result"
    }
   ],
   "source": [
    "dataFrame.shape"
   ]
  },
  {
   "cell_type": "code",
   "execution_count": 14,
   "metadata": {},
   "outputs": [],
   "source": [
    "#remove date coloumn.\n",
    "del dataFrame['Date']"
   ]
  },
  {
   "cell_type": "code",
   "execution_count": 15,
   "metadata": {},
   "outputs": [],
   "source": [
    "#assign x as dataframe.\n",
    "trainColoumn = dataFrame"
   ]
  },
  {
   "cell_type": "code",
   "execution_count": 16,
   "metadata": {},
   "outputs": [],
   "source": [
    "# assign X and y to the train and test coloumns.\n",
    "trainColoumn = npy.array(trainColoumn.drop(['Close'], 1))\n",
    "testColoumn = npy.array(dataFrame['Close'])"
   ]
  },
  {
   "cell_type": "code",
   "execution_count": 17,
   "metadata": {},
   "outputs": [],
   "source": [
    "#data spliting and defining.\n",
    "x_training, x_testing, y_training, y_testing = train_test_split(trainColoumn, testColoumn, test_size=0.2, random_state=42)\n"
   ]
  },
  {
   "cell_type": "code",
   "execution_count": 18,
   "metadata": {},
   "outputs": [
    {
     "data": {
      "text/plain": [
       "(4676, 4)"
      ]
     },
     "execution_count": 18,
     "metadata": {},
     "output_type": "execute_result"
    }
   ],
   "source": [
    "#validating the split has correctly divided the dataset.\n",
    "x_training.shape"
   ]
  },
  {
   "cell_type": "code",
   "execution_count": 19,
   "metadata": {},
   "outputs": [
    {
     "data": {
      "text/plain": [
       "(4676,)"
      ]
     },
     "execution_count": 19,
     "metadata": {},
     "output_type": "execute_result"
    }
   ],
   "source": [
    "y_training.shape"
   ]
  },
  {
   "cell_type": "code",
   "execution_count": 20,
   "metadata": {},
   "outputs": [
    {
     "data": {
      "text/plain": [
       "(1169, 4)"
      ]
     },
     "execution_count": 20,
     "metadata": {},
     "output_type": "execute_result"
    }
   ],
   "source": [
    "x_testing.shape"
   ]
  },
  {
   "cell_type": "code",
   "execution_count": 21,
   "metadata": {},
   "outputs": [
    {
     "data": {
      "text/plain": [
       "(1169,)"
      ]
     },
     "execution_count": 21,
     "metadata": {},
     "output_type": "execute_result"
    }
   ],
   "source": [
    "y_testing.shape"
   ]
  },
  {
   "cell_type": "markdown",
   "metadata": {},
   "source": [
    "# Random Forest"
   ]
  },
  {
   "cell_type": "code",
   "execution_count": 22,
   "metadata": {},
   "outputs": [],
   "source": [
    "#import Roandom Forest model\n",
    "from sklearn.ensemble import RandomForestRegressor"
   ]
  },
  {
   "cell_type": "code",
   "execution_count": 23,
   "metadata": {},
   "outputs": [
    {
     "name": "stdout",
     "output_type": "stream",
     "text": [
      "time consuemd:  0:00:01.330973\n"
     ]
    }
   ],
   "source": [
    "from datetime import datetime\n",
    "start_time = datetime.now()\n",
    "\n",
    "#fitting into the model\n",
    "rfr = RandomForestRegressor(n_estimators=100, random_state=42,verbose=0)\n",
    "rfr.fit(x_training, y_training)\n",
    "\n",
    "end_time = datetime.now()\n",
    "print('time consuemd: ',end_time-start_time)"
   ]
  },
  {
   "cell_type": "code",
   "execution_count": 24,
   "metadata": {},
   "outputs": [
    {
     "data": {
      "text/plain": [
       "array([112.59874897,  90.82562399,   3.33983218, ..., 114.61442395,\n",
       "        24.95193648,   0.24726457])"
      ]
     },
     "execution_count": 24,
     "metadata": {},
     "output_type": "execute_result"
    }
   ],
   "source": [
    "#predict target from training data\n",
    "rfr_predictions = rfr.predict(x_testing)\n",
    "rfr_predictions"
   ]
  },
  {
   "cell_type": "markdown",
   "metadata": {},
   "source": [
    "K fold validation"
   ]
  },
  {
   "cell_type": "code",
   "execution_count": 25,
   "metadata": {},
   "outputs": [
    {
     "data": {
      "text/plain": [
       "KFold(n_splits=3, random_state=None, shuffle=False)"
      ]
     },
     "execution_count": 25,
     "metadata": {},
     "output_type": "execute_result"
    }
   ],
   "source": [
    "from sklearn.model_selection import KFold\n",
    "kf = KFold(n_splits=3)\n",
    "kf"
   ]
  },
  {
   "cell_type": "code",
   "execution_count": 26,
   "metadata": {},
   "outputs": [
    {
     "name": "stdout",
     "output_type": "stream",
     "text": [
      "[1949 1950 1951 ... 5842 5843 5844] [   0    1    2 ... 1946 1947 1948]\n",
      "[   0    1    2 ... 5842 5843 5844] [1949 1950 1951 ... 3894 3895 3896]\n",
      "[   0    1    2 ... 3894 3895 3896] [3897 3898 3899 ... 5842 5843 5844]\n"
     ]
    }
   ],
   "source": [
    "for train_index, test_index in kf.split(dataFrame):\n",
    "    print(train_index, test_index)"
   ]
  },
  {
   "cell_type": "code",
   "execution_count": 27,
   "metadata": {},
   "outputs": [],
   "source": [
    "def get_score(model,x_training, x_testing, y_training, y_testing):\n",
    "    model.fit(x_training,y_training)\n",
    "    return model.score(x_testing,y_testing)"
   ]
  },
  {
   "cell_type": "code",
   "execution_count": 28,
   "metadata": {},
   "outputs": [
    {
     "data": {
      "text/plain": [
       "0.9998190590167427"
      ]
     },
     "execution_count": 28,
     "metadata": {},
     "output_type": "execute_result"
    }
   ],
   "source": [
    "get_score(rfr,x_training, x_testing, y_training, y_testing)"
   ]
  },
  {
   "cell_type": "code",
   "execution_count": 29,
   "metadata": {},
   "outputs": [],
   "source": [
    "def mda(ytesting:npy.ndarray,predicted:npy.ndarray):\n",
    "    \"\"\" Mean Directional Accuracy \"\"\"\n",
    "    return npy.mean((npy.sign(y_testing[1:]-y_testing[:-1])== npy.sign(predicted[1:]- predicted[:-1])).astype(int))"
   ]
  },
  {
   "cell_type": "code",
   "execution_count": 30,
   "metadata": {},
   "outputs": [],
   "source": [
    "def MAPE(ytesting:npy.ndarray,predicted:npy.ndarray):\n",
    "    \"\"\" Mean Absolute Percentage Error \"\"\"\n",
    "    mape = npy.mean(npy.abs((ytesting - predicted)/ytesting))*100\n",
    "    return mape\n"
   ]
  },
  {
   "cell_type": "code",
   "execution_count": 44,
   "metadata": {},
   "outputs": [],
   "source": [
    "def MBE(y_training, y_testing):\n",
    "    '''\n",
    "    Parameters:\n",
    "        y_true (array): Array of observed values\n",
    "        y_pred (array): Array of prediction values\n",
    "\n",
    "    Returns:\n",
    "        mbe (float): Biais score\n",
    "    '''\n",
    "    y_training = npy.array(y_training)\n",
    "    y_testing = npy.array(y_testing)\n",
    "    y_training = y_training.reshape(len(y_training),1)\n",
    "    y_testing = y_testing.reshape(len(y_testing),1)   \n",
    "    diff = (y_training-y_testing)\n",
    "    mbe = diff.mean()\n",
    "    print('MBE = ', mbe)"
   ]
  },
  {
   "cell_type": "code",
   "execution_count": 45,
   "metadata": {},
   "outputs": [
    {
     "name": "stdout",
     "output_type": "stream",
     "text": [
      "Mean Absolute Error: 0.1339989271475818\n",
      "Mean Squared Error: 0.13294049357550008\n",
      "Root Mean Squared Error: 0.36461005687652126\n",
      "Mean Directional Accuracy: 0.997431506849315\n",
      "Mean Absolute Percentage Error: 0.9702059055285508\n"
     ]
    }
   ],
   "source": [
    "from sklearn import metrics\n",
    "\n",
    "#Accuracy scores\n",
    "print('Mean Absolute Error:', metrics.mean_absolute_error(y_testing, rfr_predictions))\n",
    "print('Mean Squared Error:', metrics.mean_squared_error(y_testing, rfr_predictions))\n",
    "print('Root Mean Squared Error:', npy.sqrt(metrics.mean_squared_error(y_testing, rfr_predictions)))\n",
    "print('Mean Directional Accuracy:', mda(y_testing, rfr_predictions))\n",
    "print ('Mean Absolute Percentage Error:', MAPE(y_testing,rfr_predictions))\n",
    "# print('Mean r2 score:', metrics.r2_score(y_testing, rfr_predictions))"
   ]
  },
  {
   "cell_type": "code",
   "execution_count": 46,
   "metadata": {},
   "outputs": [
    {
     "name": "stdout",
     "output_type": "stream",
     "text": [
      "MBE =  0.00528104095018879\n",
      "Mean Bias Error: None\n"
     ]
    }
   ],
   "source": [
    "print ('Mean Bias Error:', MBE(y_testing,rfr_predictions))"
   ]
  },
  {
   "cell_type": "markdown",
   "metadata": {},
   "source": [
    "### Predicting for 6th April"
   ]
  },
  {
   "cell_type": "code",
   "execution_count": 25,
   "metadata": {},
   "outputs": [
    {
     "data": {
      "text/plain": [
       "array([126.40607453])"
      ]
     },
     "execution_count": 25,
     "metadata": {},
     "output_type": "execute_result"
    }
   ],
   "source": [
    "rfr.predict([[126.5,127.13,125.65,79463200]])"
   ]
  },
  {
   "cell_type": "code",
   "execution_count": 51,
   "metadata": {},
   "outputs": [
    {
     "name": "stdout",
     "output_type": "stream",
     "text": [
      "model saved...\n"
     ]
    }
   ],
   "source": [
    "pickle.dump(rfr, open(\"aapl_tdyPrediction.pkl\", 'wb'))\n",
    "print('model saved...')"
   ]
  },
  {
   "cell_type": "markdown",
   "metadata": {},
   "source": [
    "# Lasso"
   ]
  },
  {
   "cell_type": "code",
   "execution_count": 30,
   "metadata": {},
   "outputs": [],
   "source": [
    "#import Lasso model\n",
    "from sklearn.linear_model import Lasso"
   ]
  },
  {
   "cell_type": "code",
   "execution_count": 31,
   "metadata": {},
   "outputs": [
    {
     "name": "stderr",
     "output_type": "stream",
     "text": [
      "C:\\Users\\Acer\\anaconda3\\lib\\site-packages\\sklearn\\linear_model\\_coordinate_descent.py:476: ConvergenceWarning: Objective did not converge. You might want to increase the number of iterations. Duality gap: 474.25550777799685, tolerance: 300.280104083877\n",
      "  positive)\n"
     ]
    },
    {
     "data": {
      "text/plain": [
       "Lasso(alpha=1.0, copy_X=True, fit_intercept=True, max_iter=1000,\n",
       "      normalize=False, positive=False, precompute=False, random_state=42,\n",
       "      selection='cyclic', tol=0.0001, warm_start=False)"
      ]
     },
     "execution_count": 31,
     "metadata": {},
     "output_type": "execute_result"
    }
   ],
   "source": [
    "#fitting into the lasso model\n",
    "lasso = Lasso(random_state=42,alpha=1.0,max_iter=1000, tol=0.0001)\n",
    "lasso.fit(x_training, y_training)"
   ]
  },
  {
   "cell_type": "code",
   "execution_count": 32,
   "metadata": {},
   "outputs": [],
   "source": [
    "#predict target from training data\n",
    "lasso_predictions = lasso.predict(x_testing)\n",
    "# lasso_predictions"
   ]
  },
  {
   "cell_type": "code",
   "execution_count": 33,
   "metadata": {},
   "outputs": [
    {
     "name": "stdout",
     "output_type": "stream",
     "text": [
      "Mean Absolute Error: 0.18675781885437812\n",
      "Mean r2 score: 0.9997817830058067\n",
      "Mean Squared Error: 0.1603278284023268\n",
      "Root Mean Squared Error: 0.40040957581247577\n",
      "Mean Directional Accuracy: 0.9931506849315068\n",
      "Mean Absolute Percentage Error: 5.868356753584421\n"
     ]
    }
   ],
   "source": [
    "from sklearn import metrics\n",
    "\n",
    "#Accuracy scores\n",
    "print('Mean Absolute Error:', metrics.mean_absolute_error(y_testing, lasso_predictions))\n",
    "print('Mean r2 score:', metrics.r2_score(y_testing, lasso_predictions))\n",
    "print('Mean Squared Error:', metrics.mean_squared_error(y_testing, lasso_predictions))\n",
    "print('Root Mean Squared Error:', npy.sqrt(metrics.mean_squared_error(y_testing, lasso_predictions)))\n",
    "print('Mean Directional Accuracy:', mda(y_testing, lasso_predictions))\n",
    "print ('Mean Absolute Percentage Error:', MAPE(y_testing,lasso_predictions))"
   ]
  },
  {
   "cell_type": "markdown",
   "metadata": {},
   "source": [
    "### Graph"
   ]
  },
  {
   "cell_type": "code",
   "execution_count": 71,
   "metadata": {},
   "outputs": [],
   "source": [
    "import matplotlib.pyplot as plt"
   ]
  },
  {
   "cell_type": "code",
   "execution_count": 72,
   "metadata": {},
   "outputs": [],
   "source": [
    "newDataFrame=pds.read_csv(\"C:\\\\Users\\\\Acer\\\\Desktop\\\\Closeing\\\\Apple\\\\Apple(DataFrom26March)-Today.csv\")"
   ]
  },
  {
   "cell_type": "code",
   "execution_count": 73,
   "metadata": {},
   "outputs": [
    {
     "data": {
      "text/html": [
       "<div>\n",
       "<style scoped>\n",
       "    .dataframe tbody tr th:only-of-type {\n",
       "        vertical-align: middle;\n",
       "    }\n",
       "\n",
       "    .dataframe tbody tr th {\n",
       "        vertical-align: top;\n",
       "    }\n",
       "\n",
       "    .dataframe thead th {\n",
       "        text-align: right;\n",
       "    }\n",
       "</style>\n",
       "<table border=\"1\" class=\"dataframe\">\n",
       "  <thead>\n",
       "    <tr style=\"text-align: right;\">\n",
       "      <th></th>\n",
       "      <th>Date</th>\n",
       "      <th>Open</th>\n",
       "      <th>High</th>\n",
       "      <th>Low</th>\n",
       "      <th>Volume</th>\n",
       "      <th>Close</th>\n",
       "    </tr>\n",
       "  </thead>\n",
       "  <tbody>\n",
       "    <tr>\n",
       "      <th>0</th>\n",
       "      <td>26-Mar-21</td>\n",
       "      <td>120.349998</td>\n",
       "      <td>121.480003</td>\n",
       "      <td>118.919998</td>\n",
       "      <td>93958900</td>\n",
       "      <td>121.209999</td>\n",
       "    </tr>\n",
       "    <tr>\n",
       "      <th>1</th>\n",
       "      <td>29-Mar-21</td>\n",
       "      <td>121.650002</td>\n",
       "      <td>122.580002</td>\n",
       "      <td>120.730003</td>\n",
       "      <td>80819200</td>\n",
       "      <td>121.389999</td>\n",
       "    </tr>\n",
       "    <tr>\n",
       "      <th>2</th>\n",
       "      <td>30-Mar-21</td>\n",
       "      <td>120.110001</td>\n",
       "      <td>120.400002</td>\n",
       "      <td>118.860001</td>\n",
       "      <td>85671900</td>\n",
       "      <td>119.900002</td>\n",
       "    </tr>\n",
       "    <tr>\n",
       "      <th>3</th>\n",
       "      <td>31-Mar-21</td>\n",
       "      <td>121.650002</td>\n",
       "      <td>123.519997</td>\n",
       "      <td>121.150002</td>\n",
       "      <td>118323800</td>\n",
       "      <td>122.150002</td>\n",
       "    </tr>\n",
       "    <tr>\n",
       "      <th>4</th>\n",
       "      <td>1-Apr-21</td>\n",
       "      <td>123.660004</td>\n",
       "      <td>124.180000</td>\n",
       "      <td>122.489998</td>\n",
       "      <td>74957400</td>\n",
       "      <td>123.000000</td>\n",
       "    </tr>\n",
       "  </tbody>\n",
       "</table>\n",
       "</div>"
      ],
      "text/plain": [
       "        Date        Open        High         Low     Volume       Close\n",
       "0  26-Mar-21  120.349998  121.480003  118.919998   93958900  121.209999\n",
       "1  29-Mar-21  121.650002  122.580002  120.730003   80819200  121.389999\n",
       "2  30-Mar-21  120.110001  120.400002  118.860001   85671900  119.900002\n",
       "3  31-Mar-21  121.650002  123.519997  121.150002  118323800  122.150002\n",
       "4   1-Apr-21  123.660004  124.180000  122.489998   74957400  123.000000"
      ]
     },
     "execution_count": 73,
     "metadata": {},
     "output_type": "execute_result"
    }
   ],
   "source": [
    "newDataFrame.head()"
   ]
  },
  {
   "cell_type": "code",
   "execution_count": 74,
   "metadata": {},
   "outputs": [],
   "source": [
    "keep_columns=['Open','High','Low','Volume']\n",
    "new_x_val=newDataFrame[keep_columns]"
   ]
  },
  {
   "cell_type": "code",
   "execution_count": 75,
   "metadata": {},
   "outputs": [
    {
     "data": {
      "text/plain": [
       "array([120.36069884, 122.2760013 , 118.95429913, 122.58340059,\n",
       "       124.20009962, 124.76924924, 126.46539931, 127.21832393,\n",
       "       128.83669888])"
      ]
     },
     "execution_count": 75,
     "metadata": {},
     "output_type": "execute_result"
    }
   ],
   "source": [
    "predictions = rfr.predict(new_x_val)\n",
    "predictions"
   ]
  },
  {
   "cell_type": "code",
   "execution_count": 76,
   "metadata": {},
   "outputs": [
    {
     "data": {
      "text/plain": [
       "<matplotlib.legend.Legend at 0x1e249cbb9c8>"
      ]
     },
     "execution_count": 76,
     "metadata": {},
     "output_type": "execute_result"
    },
    {
     "data": {
      "image/png": "[encoded data removed]",
      "text/plain": [
       "<Figure size 720x360 with 1 Axes>"
      ]
     },
     "metadata": {
      "needs_background": "light"
     },
     "output_type": "display_data"
    }
   ],
   "source": [
    "plt.figure(figsize=(10,5))\n",
    "plt.plot(newDataFrame['Date'],newDataFrame['Close'], label ='Actual Value')\n",
    "plt.plot(newDataFrame['Date'],predictions, label ='Predicted Value')\n",
    "plt.xlabel('Date')\n",
    "plt.ylabel('Closing value')\n",
    "plt.title(\"Actual Vs Predicted Values for Apple Today's Closing Value\")\n",
    "plt.legend()"
   ]
  },
  {
   "cell_type": "code",
   "execution_count": 47,
   "metadata": {},
   "outputs": [
    {
     "name": "stdout",
     "output_type": "stream",
     "text": [
      "image saved.\n"
     ]
    },
    {
     "data": {
      "text/plain": [
       "<Figure size 432x288 with 0 Axes>"
      ]
     },
     "metadata": {},
     "output_type": "display_data"
    }
   ],
   "source": [
    "# save_results_to = 'C:/Users/Purushoth/Desktop/Results/'\n",
    "plt.savefig('image.png', dpi = 300, bbox_inches='tight')\n",
    "print('image saved.')"
   ]
  },
  {
   "cell_type": "markdown",
   "metadata": {},
   "source": [
    "# XGBoost"
   ]
  },
  {
   "cell_type": "code",
   "execution_count": 49,
   "metadata": {},
   "outputs": [],
   "source": [
    "#import xgBoost model\n",
    "from xgboost import XGBRegressor"
   ]
  },
  {
   "cell_type": "code",
   "execution_count": 50,
   "metadata": {},
   "outputs": [
    {
     "name": "stdout",
     "output_type": "stream",
     "text": [
      "[17:56:02] WARNING: C:/Users/Administrator/workspace/xgboost-win64_release_1.4.0/src/learner.cc:573: \n",
      "Parameters: { \"verbose\" } might not be used.\n",
      "\n",
      "  This may not be accurate due to some parameters are only used in language bindings but\n",
      "  passed down to XGBoost core.  Or some parameters are not used but slip through this\n",
      "  verification. Please open an issue if you find above cases.\n",
      "\n",
      "\n",
      "time consuemd:  0:00:01.726037\n"
     ]
    }
   ],
   "source": [
    "from datetime import datetime\n",
    "start_time = datetime.now()\n",
    "\n",
    "#fitting into the model\n",
    "xgb = XGBRegressor(n_estimators=100, random_state=42,verbose=0)\n",
    "xgb.fit(x_training,y_training)\n",
    "\n",
    "end_time = datetime.now()\n",
    "print('time consuemd: ',end_time-start_time)"
   ]
  },
  {
   "cell_type": "code",
   "execution_count": 51,
   "metadata": {},
   "outputs": [
    {
     "data": {
      "text/plain": [
       "array([113.28482  ,  91.41878  ,   3.3423882, ..., 114.86843  ,\n",
       "        24.927343 ,   0.2599721], dtype=float32)"
      ]
     },
     "execution_count": 51,
     "metadata": {},
     "output_type": "execute_result"
    }
   ],
   "source": [
    "#predict target from training data\n",
    "xgb_predictions = xgb.predict(x_testing)\n",
    "xgb_predictions"
   ]
  },
  {
   "cell_type": "code",
   "execution_count": 52,
   "metadata": {},
   "outputs": [
    {
     "name": "stdout",
     "output_type": "stream",
     "text": [
      "Mean Absolute Error: 0.1633006374531706\n",
      "Mean Squared Error: 0.14849120178489508\n",
      "Root Mean Squared Error: 0.385345561522246\n",
      "Mean Directional Accuracy: 0.9948630136986302\n",
      "Mean r2 score: 0.9997978934534287\n",
      "Mean Absolute Percentage Error: 1.5644861312472096\n"
     ]
    }
   ],
   "source": [
    "#Accuracy scores\n",
    "\n",
    "print('Mean Absolute Error:', metrics.mean_absolute_error(y_testing, xgb_predictions))\n",
    "print('Mean Squared Error:', metrics.mean_squared_error(y_testing, xgb_predictions))\n",
    "print('Root Mean Squared Error:', npy.sqrt(metrics.mean_squared_error(y_testing, xgb_predictions)))\n",
    "print('Mean Directional Accuracy:', mda(y_testing, xgb_predictions))\n",
    "print('Mean r2 score:', metrics.r2_score(y_testing, xgb_predictions))\n",
    "print ('Mean Absolute Percentage Error:', MAPE(y_testing,xgb_predictions))"
   ]
  },
  {
   "cell_type": "markdown",
   "metadata": {},
   "source": [
    "# SVM\n"
   ]
  },
  {
   "cell_type": "code",
   "execution_count": 53,
   "metadata": {},
   "outputs": [],
   "source": [
    "#import SVR regression model\n",
    "from sklearn.svm import SVR"
   ]
  },
  {
   "cell_type": "code",
   "execution_count": 54,
   "metadata": {},
   "outputs": [
    {
     "name": "stdout",
     "output_type": "stream",
     "text": [
      "time consuemd:  0:00:02.312896\n"
     ]
    }
   ],
   "source": [
    "from datetime import datetime\n",
    "start_time = datetime.now()\n",
    "\n",
    "#fitting into the model\n",
    "svm = SVR(kernel='rbf', C=100, gamma='auto', degree=3, epsilon=.1,coef0=1)\n",
    "svm.fit(x_training,y_training)\n",
    "\n",
    "end_time = datetime.now()\n",
    "print('time consuemd: ',end_time-start_time)"
   ]
  },
  {
   "cell_type": "code",
   "execution_count": 55,
   "metadata": {},
   "outputs": [
    {
     "data": {
      "text/plain": [
       "array([18.18556208, 18.18556208, 18.18556208, ..., 18.18556208,\n",
       "       18.18556208, 18.18556208])"
      ]
     },
     "execution_count": 55,
     "metadata": {},
     "output_type": "execute_result"
    }
   ],
   "source": [
    "#predict target from training data\n",
    "svm_predictions = svm.predict(x_testing)\n",
    "svm_predictions"
   ]
  },
  {
   "cell_type": "code",
   "execution_count": 57,
   "metadata": {},
   "outputs": [
    {
     "name": "stdout",
     "output_type": "stream",
     "text": [
      "Mean Absolute Error: 18.784186803052656\n",
      "Mean Squared Error: 733.4230660937308\n",
      "Root Mean Squared Error: 27.08178476566363\n",
      "Mean Directional Accuracy: 0.010273972602739725\n",
      "Mean r2 score: 0.0017617119255177727\n",
      "Mean Absolute Percentage Error: 1652.8219422583725\n"
     ]
    }
   ],
   "source": [
    "#Accuracy scores\n",
    "\n",
    "print('Mean Absolute Error:', metrics.mean_absolute_error(y_testing, svm_predictions))\n",
    "print('Mean Squared Error:', metrics.mean_squared_error(y_testing, svm_predictions))\n",
    "print('Root Mean Squared Error:', npy.sqrt(metrics.mean_squared_error(y_testing, svm_predictions)))\n",
    "print('Mean Directional Accuracy:', mda(y_testing, svm_predictions))\n",
    "print('Mean r2 score:', metrics.r2_score(y_testing, svm_predictions))\n",
    "print ('Mean Absolute Percentage Error:', MAPE(y_testing,svm_predictions))"
   ]
  },
  {
   "cell_type": "markdown",
   "metadata": {},
   "source": [
    "# DecisionTreeRegressor"
   ]
  },
  {
   "cell_type": "code",
   "execution_count": 58,
   "metadata": {},
   "outputs": [],
   "source": [
    "from sklearn.tree import DecisionTreeRegressor"
   ]
  },
  {
   "cell_type": "code",
   "execution_count": 59,
   "metadata": {},
   "outputs": [
    {
     "data": {
      "text/plain": [
       "DecisionTreeRegressor(ccp_alpha=0.0, criterion='mse', max_depth=None,\n",
       "                      max_features=None, max_leaf_nodes=None,\n",
       "                      min_impurity_decrease=0.0, min_impurity_split=None,\n",
       "                      min_samples_leaf=1, min_samples_split=2,\n",
       "                      min_weight_fraction_leaf=0.0, presort='deprecated',\n",
       "                      random_state=42, splitter='best')"
      ]
     },
     "execution_count": 59,
     "metadata": {},
     "output_type": "execute_result"
    }
   ],
   "source": [
    "dtr = DecisionTreeRegressor(random_state=42,splitter='best')\n",
    "dtr.fit(x_training,y_training)"
   ]
  },
  {
   "cell_type": "code",
   "execution_count": 60,
   "metadata": {},
   "outputs": [],
   "source": [
    "dtr_predictions = dtr.predict(x_testing)"
   ]
  },
  {
   "cell_type": "code",
   "execution_count": 63,
   "metadata": {},
   "outputs": [
    {
     "name": "stdout",
     "output_type": "stream",
     "text": [
      "Mean Absolute Error: 0.18606315985172514\n",
      "Mean Squared Error: 0.28180798373211496\n",
      "Root Mean Squared Error: 0.5308558973319548\n",
      "Mean Directional Accuracy: 0.997431506849315\n",
      "Mean r2 score: 0.9996164403163037\n",
      "Mean Absolute Percentage Error: 1.2382924998785616\n"
     ]
    }
   ],
   "source": [
    "print('Mean Absolute Error:', metrics.mean_absolute_error(y_testing, dtr_predictions))\n",
    "print('Mean Squared Error:', metrics.mean_squared_error(y_testing, dtr_predictions))\n",
    "print('Root Mean Squared Error:', npy.sqrt(metrics.mean_squared_error(y_testing, dtr_predictions)))\n",
    "print('Mean Directional Accuracy:', mda(y_testing, dtr_predictions))\n",
    "print('Mean r2 score:', metrics.r2_score(y_testing, dtr_predictions))\n",
    "print ('Mean Absolute Percentage Error:', MAPE(y_testing,dtr_predictions))"
   ]
  },
  {
   "cell_type": "code",
   "execution_count": null,
   "metadata": {},
   "outputs": [],
   "source": []
  }
 ],
 "metadata": {
  "kernelspec": {
   "display_name": "Python 3",
   "language": "python",
   "name": "python3"
  },
  "language_info": {
   "codemirror_mode": {
    "name": "ipython",
    "version": 3
   },
   "file_extension": ".py",
   "mimetype": "text/x-python",
   "name": "python",
   "nbconvert_exporter": "python",
   "pygments_lexer": "ipython3",
   "version": "3.7.6"
  }
 },
 "nbformat": 4,
 "nbformat_minor": 4
}
