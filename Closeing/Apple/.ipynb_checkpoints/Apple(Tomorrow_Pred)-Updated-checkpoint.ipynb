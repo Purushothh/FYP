{
 "cells": [
  {
   "cell_type": "code",
   "execution_count": 1,
   "metadata": {},
   "outputs": [],
   "source": [
    "import pandas as pd\n",
    "import numpy as np\n",
    "from sklearn.model_selection import train_test_split\n",
    "import pickle\n"
   ]
  },
  {
   "cell_type": "code",
   "execution_count": 3,
   "metadata": {},
   "outputs": [],
   "source": [
    "df=pd.read_csv(\"C:\\\\Users\\\\Purushoth\\\\Desktop\\\\Closeing\\\\Apple\\\\AAPL(ClosingVal-tomorrow).csv\")"
   ]
  },
  {
   "cell_type": "code",
   "execution_count": 4,
   "metadata": {},
   "outputs": [
    {
     "data": {
      "text/html": [
       "<div>\n",
       "<style scoped>\n",
       "    .dataframe tbody tr th:only-of-type {\n",
       "        vertical-align: middle;\n",
       "    }\n",
       "\n",
       "    .dataframe tbody tr th {\n",
       "        vertical-align: top;\n",
       "    }\n",
       "\n",
       "    .dataframe thead th {\n",
       "        text-align: right;\n",
       "    }\n",
       "</style>\n",
       "<table border=\"1\" class=\"dataframe\">\n",
       "  <thead>\n",
       "    <tr style=\"text-align: right;\">\n",
       "      <th></th>\n",
       "      <th>Date</th>\n",
       "      <th>Open</th>\n",
       "      <th>High</th>\n",
       "      <th>Low</th>\n",
       "      <th>Volume</th>\n",
       "      <th>Close</th>\n",
       "    </tr>\n",
       "  </thead>\n",
       "  <tbody>\n",
       "    <tr>\n",
       "      <th>0</th>\n",
       "      <td>1/2/1998</td>\n",
       "      <td>0.121652</td>\n",
       "      <td>0.145089</td>\n",
       "      <td>0.120536</td>\n",
       "      <td>718110400</td>\n",
       "      <td>0.141741</td>\n",
       "    </tr>\n",
       "    <tr>\n",
       "      <th>1</th>\n",
       "      <td>1/5/1998</td>\n",
       "      <td>0.147321</td>\n",
       "      <td>0.147879</td>\n",
       "      <td>0.135603</td>\n",
       "      <td>651873600</td>\n",
       "      <td>0.169085</td>\n",
       "    </tr>\n",
       "    <tr>\n",
       "      <th>2</th>\n",
       "      <td>1/6/1998</td>\n",
       "      <td>0.142299</td>\n",
       "      <td>0.178571</td>\n",
       "      <td>0.131696</td>\n",
       "      <td>1812473600</td>\n",
       "      <td>0.156250</td>\n",
       "    </tr>\n",
       "    <tr>\n",
       "      <th>3</th>\n",
       "      <td>1/7/1998</td>\n",
       "      <td>0.167969</td>\n",
       "      <td>0.169643</td>\n",
       "      <td>0.154576</td>\n",
       "      <td>1041622400</td>\n",
       "      <td>0.162388</td>\n",
       "    </tr>\n",
       "    <tr>\n",
       "      <th>4</th>\n",
       "      <td>1/8/1998</td>\n",
       "      <td>0.155692</td>\n",
       "      <td>0.166295</td>\n",
       "      <td>0.151228</td>\n",
       "      <td>774020800</td>\n",
       "      <td>0.162388</td>\n",
       "    </tr>\n",
       "  </tbody>\n",
       "</table>\n",
       "</div>"
      ],
      "text/plain": [
       "       Date      Open      High       Low      Volume     Close\n",
       "0  1/2/1998  0.121652  0.145089  0.120536   718110400  0.141741\n",
       "1  1/5/1998  0.147321  0.147879  0.135603   651873600  0.169085\n",
       "2  1/6/1998  0.142299  0.178571  0.131696  1812473600  0.156250\n",
       "3  1/7/1998  0.167969  0.169643  0.154576  1041622400  0.162388\n",
       "4  1/8/1998  0.155692  0.166295  0.151228   774020800  0.162388"
      ]
     },
     "execution_count": 4,
     "metadata": {},
     "output_type": "execute_result"
    }
   ],
   "source": [
    "df.head()"
   ]
  },
  {
   "cell_type": "code",
   "execution_count": 5,
   "metadata": {},
   "outputs": [
    {
     "data": {
      "text/html": [
       "<div>\n",
       "<style scoped>\n",
       "    .dataframe tbody tr th:only-of-type {\n",
       "        vertical-align: middle;\n",
       "    }\n",
       "\n",
       "    .dataframe tbody tr th {\n",
       "        vertical-align: top;\n",
       "    }\n",
       "\n",
       "    .dataframe thead th {\n",
       "        text-align: right;\n",
       "    }\n",
       "</style>\n",
       "<table border=\"1\" class=\"dataframe\">\n",
       "  <thead>\n",
       "    <tr style=\"text-align: right;\">\n",
       "      <th></th>\n",
       "      <th>Date</th>\n",
       "      <th>Open</th>\n",
       "      <th>High</th>\n",
       "      <th>Low</th>\n",
       "      <th>Volume</th>\n",
       "      <th>Close</th>\n",
       "    </tr>\n",
       "  </thead>\n",
       "  <tbody>\n",
       "    <tr>\n",
       "      <th>5839</th>\n",
       "      <td>3/18/2021</td>\n",
       "      <td>122.879997</td>\n",
       "      <td>123.180000</td>\n",
       "      <td>120.320000</td>\n",
       "      <td>121229700</td>\n",
       "      <td>119.989998</td>\n",
       "    </tr>\n",
       "    <tr>\n",
       "      <th>5840</th>\n",
       "      <td>3/19/2021</td>\n",
       "      <td>119.900002</td>\n",
       "      <td>121.430000</td>\n",
       "      <td>119.680000</td>\n",
       "      <td>185023200</td>\n",
       "      <td>123.389999</td>\n",
       "    </tr>\n",
       "    <tr>\n",
       "      <th>5841</th>\n",
       "      <td>3/22/2021</td>\n",
       "      <td>120.330002</td>\n",
       "      <td>123.870003</td>\n",
       "      <td>120.260002</td>\n",
       "      <td>111912300</td>\n",
       "      <td>122.540001</td>\n",
       "    </tr>\n",
       "    <tr>\n",
       "      <th>5842</th>\n",
       "      <td>3/23/2021</td>\n",
       "      <td>123.330002</td>\n",
       "      <td>124.239998</td>\n",
       "      <td>122.139999</td>\n",
       "      <td>95467100</td>\n",
       "      <td>120.089996</td>\n",
       "    </tr>\n",
       "    <tr>\n",
       "      <th>5843</th>\n",
       "      <td>3/24/2021</td>\n",
       "      <td>122.820000</td>\n",
       "      <td>122.900002</td>\n",
       "      <td>120.070000</td>\n",
       "      <td>88530500</td>\n",
       "      <td>120.589996</td>\n",
       "    </tr>\n",
       "  </tbody>\n",
       "</table>\n",
       "</div>"
      ],
      "text/plain": [
       "           Date        Open        High         Low     Volume       Close\n",
       "5839  3/18/2021  122.879997  123.180000  120.320000  121229700  119.989998\n",
       "5840  3/19/2021  119.900002  121.430000  119.680000  185023200  123.389999\n",
       "5841  3/22/2021  120.330002  123.870003  120.260002  111912300  122.540001\n",
       "5842  3/23/2021  123.330002  124.239998  122.139999   95467100  120.089996\n",
       "5843  3/24/2021  122.820000  122.900002  120.070000   88530500  120.589996"
      ]
     },
     "execution_count": 5,
     "metadata": {},
     "output_type": "execute_result"
    }
   ],
   "source": [
    "df.tail()"
   ]
  },
  {
   "cell_type": "code",
   "execution_count": 6,
   "metadata": {},
   "outputs": [
    {
     "data": {
      "text/plain": [
       "Date      0\n",
       "Open      0\n",
       "High      0\n",
       "Low       0\n",
       "Volume    0\n",
       "Close     0\n",
       "dtype: int64"
      ]
     },
     "execution_count": 6,
     "metadata": {},
     "output_type": "execute_result"
    }
   ],
   "source": [
    "df.isna().sum()"
   ]
  },
  {
   "cell_type": "code",
   "execution_count": 7,
   "metadata": {},
   "outputs": [
    {
     "data": {
      "text/plain": [
       "(5844, 6)"
      ]
     },
     "execution_count": 7,
     "metadata": {},
     "output_type": "execute_result"
    }
   ],
   "source": [
    "df.shape"
   ]
  },
  {
   "cell_type": "code",
   "execution_count": 8,
   "metadata": {},
   "outputs": [],
   "source": [
    "del df['Date']"
   ]
  },
  {
   "cell_type": "code",
   "execution_count": 9,
   "metadata": {},
   "outputs": [],
   "source": [
    "X=df\n",
    "X=np.array(X.drop(['Close'],1))\n",
    "y=np.array(df['Close'])"
   ]
  },
  {
   "cell_type": "code",
   "execution_count": 10,
   "metadata": {},
   "outputs": [],
   "source": [
    "xtrain, xtest, ytrain, ytest = train_test_split(X,y,test_size=0.2,random_state=42)"
   ]
  },
  {
   "cell_type": "code",
   "execution_count": 11,
   "metadata": {},
   "outputs": [
    {
     "data": {
      "text/plain": [
       "(4675, 4)"
      ]
     },
     "execution_count": 11,
     "metadata": {},
     "output_type": "execute_result"
    }
   ],
   "source": [
    "xtrain.shape"
   ]
  },
  {
   "cell_type": "code",
   "execution_count": 12,
   "metadata": {},
   "outputs": [
    {
     "data": {
      "text/plain": [
       "(4675,)"
      ]
     },
     "execution_count": 12,
     "metadata": {},
     "output_type": "execute_result"
    }
   ],
   "source": [
    "ytrain.shape"
   ]
  },
  {
   "cell_type": "code",
   "execution_count": 13,
   "metadata": {},
   "outputs": [
    {
     "data": {
      "text/plain": [
       "(1169, 4)"
      ]
     },
     "execution_count": 13,
     "metadata": {},
     "output_type": "execute_result"
    }
   ],
   "source": [
    "xtest.shape"
   ]
  },
  {
   "cell_type": "code",
   "execution_count": 14,
   "metadata": {},
   "outputs": [
    {
     "data": {
      "text/plain": [
       "(1169,)"
      ]
     },
     "execution_count": 14,
     "metadata": {},
     "output_type": "execute_result"
    }
   ],
   "source": [
    "ytest.shape"
   ]
  },
  {
   "cell_type": "markdown",
   "metadata": {},
   "source": [
    "### Random Forest"
   ]
  },
  {
   "cell_type": "code",
   "execution_count": null,
   "metadata": {},
   "outputs": [],
   "source": [
    "from sklearn.ensemble import RandomForestRegressor"
   ]
  },
  {
   "cell_type": "code",
   "execution_count": 42,
   "metadata": {},
   "outputs": [
    {
     "data": {
      "text/plain": [
       "RandomForestRegressor()"
      ]
     },
     "execution_count": 42,
     "metadata": {},
     "output_type": "execute_result"
    }
   ],
   "source": [
    "rf = RandomForestRegressor()\n",
    "rf.fit(xtrain, ytrain)"
   ]
  },
  {
   "cell_type": "code",
   "execution_count": 43,
   "metadata": {},
   "outputs": [
    {
     "data": {
      "text/plain": [
       "array([ 5.19399285,  0.38468511,  0.36752031, ..., 47.67379963,\n",
       "       42.83352431, 51.69815003])"
      ]
     },
     "execution_count": 43,
     "metadata": {},
     "output_type": "execute_result"
    }
   ],
   "source": [
    "rf_predictions = rf.predict(xtest)\n",
    "rf_predictions"
   ]
  },
  {
   "cell_type": "code",
   "execution_count": 44,
   "metadata": {},
   "outputs": [],
   "source": [
    "def mda(ytest:np.ndarray,predicted:np.ndarray):\n",
    "    \"\"\" Mean Directional Accuracy \"\"\"\n",
    "    return np.mean((np.sign(ytest[1:]-ytest[:-1])== np.sign(predicted[1:]- predicted[:-1])).astype(int))"
   ]
  },
  {
   "cell_type": "code",
   "execution_count": 45,
   "metadata": {},
   "outputs": [
    {
     "name": "stdout",
     "output_type": "stream",
     "text": [
      "Mean Absolute Error: 0.28909170241231785\n",
      "Mean Squared Error: 0.4972986463356127\n",
      "Root Mean Squared Error: 0.7051940487097241\n",
      "Mean Directional Accuracy: 0.9914383561643836\n"
     ]
    }
   ],
   "source": [
    "from sklearn import metrics\n",
    "print('Mean Absolute Error:', metrics.mean_absolute_error(ytest, rf_predictions))\n",
    "print('Mean Squared Error:', metrics.mean_squared_error(ytest, rf_predictions))\n",
    "print('Root Mean Squared Error:', np.sqrt(metrics.mean_squared_error(ytest, rf_predictions)))\n",
    "print('Mean Directional Accuracy:', mda(ytest, rf_predictions))"
   ]
  },
  {
   "cell_type": "markdown",
   "metadata": {},
   "source": [
    "### Predicting for 7th April using 6th Open, High, Low, Volume "
   ]
  },
  {
   "cell_type": "code",
   "execution_count": 46,
   "metadata": {},
   "outputs": [
    {
     "data": {
      "text/plain": [
       "array([125.43910012])"
      ]
     },
     "execution_count": 46,
     "metadata": {},
     "output_type": "execute_result"
    }
   ],
   "source": [
    "rf.predict([[126.5,127.13,125.65,79463200]])"
   ]
  },
  {
   "cell_type": "markdown",
   "metadata": {},
   "source": [
    "### Graph"
   ]
  },
  {
   "cell_type": "code",
   "execution_count": 47,
   "metadata": {},
   "outputs": [],
   "source": [
    "import matplotlib.pyplot as plt"
   ]
  },
  {
   "cell_type": "code",
   "execution_count": 48,
   "metadata": {},
   "outputs": [],
   "source": [
    "newdf=pd.read_csv(\"C:\\\\Users\\\\User\\\\Desktop\\\\Stock price movements analysis\\\\Apple\\\\Apple(DataFrom26March)-Tomorrow.csv\")"
   ]
  },
  {
   "cell_type": "code",
   "execution_count": 49,
   "metadata": {},
   "outputs": [
    {
     "data": {
      "text/html": [
       "<div>\n",
       "<style scoped>\n",
       "    .dataframe tbody tr th:only-of-type {\n",
       "        vertical-align: middle;\n",
       "    }\n",
       "\n",
       "    .dataframe tbody tr th {\n",
       "        vertical-align: top;\n",
       "    }\n",
       "\n",
       "    .dataframe thead th {\n",
       "        text-align: right;\n",
       "    }\n",
       "</style>\n",
       "<table border=\"1\" class=\"dataframe\">\n",
       "  <thead>\n",
       "    <tr style=\"text-align: right;\">\n",
       "      <th></th>\n",
       "      <th>Date</th>\n",
       "      <th>Open</th>\n",
       "      <th>High</th>\n",
       "      <th>Low</th>\n",
       "      <th>Volume</th>\n",
       "      <th>Close</th>\n",
       "    </tr>\n",
       "  </thead>\n",
       "  <tbody>\n",
       "    <tr>\n",
       "      <th>0</th>\n",
       "      <td>26-Mar-21</td>\n",
       "      <td>120.349998</td>\n",
       "      <td>121.480003</td>\n",
       "      <td>118.919998</td>\n",
       "      <td>93958900</td>\n",
       "      <td>121.389999</td>\n",
       "    </tr>\n",
       "    <tr>\n",
       "      <th>1</th>\n",
       "      <td>29-Mar-21</td>\n",
       "      <td>121.650002</td>\n",
       "      <td>122.580002</td>\n",
       "      <td>120.730003</td>\n",
       "      <td>80819200</td>\n",
       "      <td>119.900002</td>\n",
       "    </tr>\n",
       "    <tr>\n",
       "      <th>2</th>\n",
       "      <td>30-Mar-21</td>\n",
       "      <td>120.110001</td>\n",
       "      <td>120.400002</td>\n",
       "      <td>118.860001</td>\n",
       "      <td>85671900</td>\n",
       "      <td>122.150002</td>\n",
       "    </tr>\n",
       "    <tr>\n",
       "      <th>3</th>\n",
       "      <td>31-Mar-21</td>\n",
       "      <td>121.650002</td>\n",
       "      <td>123.519997</td>\n",
       "      <td>121.150002</td>\n",
       "      <td>118323800</td>\n",
       "      <td>123.000000</td>\n",
       "    </tr>\n",
       "    <tr>\n",
       "      <th>4</th>\n",
       "      <td>1-Apr-21</td>\n",
       "      <td>123.660004</td>\n",
       "      <td>124.180000</td>\n",
       "      <td>122.489998</td>\n",
       "      <td>74957400</td>\n",
       "      <td>125.900002</td>\n",
       "    </tr>\n",
       "  </tbody>\n",
       "</table>\n",
       "</div>"
      ],
      "text/plain": [
       "        Date        Open        High         Low     Volume       Close\n",
       "0  26-Mar-21  120.349998  121.480003  118.919998   93958900  121.389999\n",
       "1  29-Mar-21  121.650002  122.580002  120.730003   80819200  119.900002\n",
       "2  30-Mar-21  120.110001  120.400002  118.860001   85671900  122.150002\n",
       "3  31-Mar-21  121.650002  123.519997  121.150002  118323800  123.000000\n",
       "4   1-Apr-21  123.660004  124.180000  122.489998   74957400  125.900002"
      ]
     },
     "execution_count": 49,
     "metadata": {},
     "output_type": "execute_result"
    }
   ],
   "source": [
    "newdf.head()"
   ]
  },
  {
   "cell_type": "code",
   "execution_count": 50,
   "metadata": {},
   "outputs": [],
   "source": [
    "keep_columns=['Open','High','Low','Volume']\n",
    "newxval=newdf[keep_columns]"
   ]
  },
  {
   "cell_type": "code",
   "execution_count": 51,
   "metadata": {},
   "outputs": [],
   "source": [
    "predictions = rf.predict(newxval)"
   ]
  },
  {
   "cell_type": "code",
   "execution_count": 52,
   "metadata": {},
   "outputs": [
    {
     "data": {
      "text/plain": [
       "<matplotlib.legend.Legend at 0x278a4a95908>"
      ]
     },
     "execution_count": 52,
     "metadata": {},
     "output_type": "execute_result"
    },
    {
     "data": {
      "image/png": "[encoded data removed]",
      "text/plain": [
       "<Figure size 720x360 with 1 Axes>"
      ]
     },
     "metadata": {
      "needs_background": "light"
     },
     "output_type": "display_data"
    }
   ],
   "source": [
    "plt.figure(figsize=(10,5))\n",
    "plt.plot(newdf['Date'],newdf['Close'], label ='Actual Value')\n",
    "plt.plot(newdf['Date'],predictions, label ='Predicted Value')\n",
    "plt.xlabel('Date')\n",
    "plt.ylabel('Closing value')\n",
    "plt.title(\"Actual Vs Predicted Values for Apple Tomorrow's Closing Value\")\n",
    "plt.legend()"
   ]
  },
  {
   "cell_type": "code",
   "execution_count": null,
   "metadata": {},
   "outputs": [],
   "source": [
    "pickle.dump(rf, open(\"aapl_tommorrowPrediction.pkl\", 'wb'))\n",
    "print('model saved...')"
   ]
  }
 ],
 "metadata": {
  "kernelspec": {
   "display_name": "Python 3",
   "language": "python",
   "name": "python3"
  },
  "language_info": {
   "codemirror_mode": {
    "name": "ipython",
    "version": 3
   },
   "file_extension": ".py",
   "mimetype": "text/x-python",
   "name": "python",
   "nbconvert_exporter": "python",
   "pygments_lexer": "ipython3",
   "version": "3.7.9"
  }
 },
 "nbformat": 4,
 "nbformat_minor": 4
}
