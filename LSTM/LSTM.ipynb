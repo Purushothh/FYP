{
  "nbformat": 4,
  "nbformat_minor": 0,
  "metadata": {
    "colab": {
      "name": "LSTM.ipynb",
      "provenance": []
    },
    "kernelspec": {
      "name": "python3",
      "display_name": "Python 3"
    }
  },
  "cells": [
    {
      "cell_type": "code",
      "metadata": {
        "id": "oVeQWtzv-pj8"
      },
      "source": [
        "### Data Collection\r\n",
        "import pandas_datareader as pdr\r\n",
        "key=\"612b8922bcf15cc8ef0f6328185d4835fa7d5b96\""
      ],
      "execution_count": null,
      "outputs": []
    },
    {
      "cell_type": "code",
      "metadata": {
        "id": "SgxKyT2MK_aW"
      },
      "source": [
        "df = pdr.get_data_tiingo('AAPL',api_key=key)"
      ],
      "execution_count": null,
      "outputs": []
    },
    {
      "cell_type": "code",
      "metadata": {
        "id": "_nQ2VEAeK_hL"
      },
      "source": [
        "df.to_csv('AAPL.csv')"
      ],
      "execution_count": null,
      "outputs": []
    },
    {
      "cell_type": "code",
      "metadata": {
        "id": "5z0EWYTqLTbw"
      },
      "source": [
        "import pandas as pd"
      ],
      "execution_count": null,
      "outputs": []
    },
    {
      "cell_type": "code",
      "metadata": {
        "id": "xGCHD3E2LTe7"
      },
      "source": [
        "df=pd.read_csv('AAPL.csv')"
      ],
      "execution_count": null,
      "outputs": []
    },
    {
      "cell_type": "code",
      "metadata": {
        "id": "_bQz6MzUK_lk"
      },
      "source": [
        "df1=df.reset_index()['close']"
      ],
      "execution_count": null,
      "outputs": []
    },
    {
      "cell_type": "code",
      "metadata": {
        "colab": {
          "base_uri": "https://localhost:8080/"
        },
        "id": "Y9RJZleyPwyF",
        "outputId": "f68d8f6d-8751-4d96-947b-4ecda219cfd1"
      },
      "source": [
        "df1"
      ],
      "execution_count": null,
      "outputs": [
        {
          "output_type": "execute_result",
          "data": {
            "text/plain": [
              "0       105.970\n",
              "1       105.800\n",
              "2       105.920\n",
              "3       105.910\n",
              "4       106.720\n",
              "         ...   \n",
              "1252    116.360\n",
              "1253    121.085\n",
              "1254    119.980\n",
              "1255    121.960\n",
              "1256    121.030\n",
              "Name: close, Length: 1257, dtype: float64"
            ]
          },
          "metadata": {
            "tags": []
          },
          "execution_count": 7
        }
      ]
    },
    {
      "cell_type": "code",
      "metadata": {
        "colab": {
          "base_uri": "https://localhost:8080/",
          "height": 282
        },
        "id": "OTXpCiieP169",
        "outputId": "97f6bdb4-f380-4396-9d24-46b89cc4ec1e"
      },
      "source": [
        "import matplotlib.pyplot as plt\r\n",
        "plt.plot(df1)\r\n"
      ],
      "execution_count": null,
      "outputs": [
        {
          "output_type": "execute_result",
          "data": {
            "text/plain": [
              "[<matplotlib.lines.Line2D at 0x7fe48698ce10>]"
            ]
          },
          "metadata": {
            "tags": []
          },
          "execution_count": 8
        },
        {
          "output_type": "display_data",
          "data": {
            "image/png": "[encoded data removed]",
            "text/plain": [
              "<Figure size 432x288 with 1 Axes>"
            ]
          },
          "metadata": {
            "tags": [],
            "needs_background": "light"
          }
        }
      ]
    },
    {
      "cell_type": "code",
      "metadata": {
        "id": "TTgHKAaSP19W"
      },
      "source": [
        "import numpy as np"
      ],
      "execution_count": null,
      "outputs": []
    },
    {
      "cell_type": "code",
      "metadata": {
        "colab": {
          "base_uri": "https://localhost:8080/"
        },
        "id": "ac8-5k3xP2AF",
        "outputId": "bfc1ee17-38dc-4162-843e-bf6e823e44db"
      },
      "source": [
        "df1"
      ],
      "execution_count": null,
      "outputs": [
        {
          "output_type": "execute_result",
          "data": {
            "text/plain": [
              "0       105.970\n",
              "1       105.800\n",
              "2       105.920\n",
              "3       105.910\n",
              "4       106.720\n",
              "         ...   \n",
              "1252    116.360\n",
              "1253    121.085\n",
              "1254    119.980\n",
              "1255    121.960\n",
              "1256    121.030\n",
              "Name: close, Length: 1257, dtype: float64"
            ]
          },
          "metadata": {
            "tags": []
          },
          "execution_count": 10
        }
      ]
    },
    {
      "cell_type": "code",
      "metadata": {
        "id": "rI2QW4ohP2CW"
      },
      "source": [
        "from sklearn.preprocessing import MinMaxScaler\r\n",
        "scaler=MinMaxScaler(feature_range=(0,1))\r\n",
        "df1=scaler.fit_transform(np.array(df1).reshape(-1,1))"
      ],
      "execution_count": null,
      "outputs": []
    },
    {
      "cell_type": "code",
      "metadata": {
        "colab": {
          "base_uri": "https://localhost:8080/"
        },
        "id": "i4_TacR1Pw0d",
        "outputId": "a5a87cca-3f2e-4478-a133-7585cddc7f78"
      },
      "source": [
        "print(df1)"
      ],
      "execution_count": null,
      "outputs": [
        {
          "output_type": "stream",
          "text": [
            "[[0.03759471]\n",
            " [0.03718581]\n",
            " [0.03747444]\n",
            " ...\n",
            " [0.07129284]\n",
            " [0.07605532]\n",
            " [0.0738184 ]]\n"
          ],
          "name": "stdout"
        }
      ]
    },
    {
      "cell_type": "code",
      "metadata": {
        "id": "uxxKRKxgP_ul"
      },
      "source": [
        "##splitting dataset into train and test split\r\n",
        "training_size=int(len(df1)*0.65)\r\n",
        "test_size=len(df1)-training_size\r\n",
        "train_data,test_data=df1[0:training_size,:],df1[training_size:len(df1),:1]"
      ],
      "execution_count": null,
      "outputs": []
    },
    {
      "cell_type": "code",
      "metadata": {
        "colab": {
          "base_uri": "https://localhost:8080/"
        },
        "id": "nSO80tr5P_y9",
        "outputId": "0061aea3-af7a-4e94-d51e-b264d17d9e35"
      },
      "source": [
        "training_size,test_size"
      ],
      "execution_count": null,
      "outputs": [
        {
          "output_type": "execute_result",
          "data": {
            "text/plain": [
              "(817, 440)"
            ]
          },
          "metadata": {
            "tags": []
          },
          "execution_count": 14
        }
      ]
    },
    {
      "cell_type": "code",
      "metadata": {
        "id": "DA4Ki9OtP_1n"
      },
      "source": [
        "#train_data\r\n"
      ],
      "execution_count": null,
      "outputs": []
    },
    {
      "cell_type": "code",
      "metadata": {
        "id": "3Z69QipgP_3-"
      },
      "source": [
        "import numpy\r\n",
        "# convert an array of values into a dataset matrix\r\n",
        "def create_dataset(dataset, time_step=1):\r\n",
        "\tdataX, dataY = [], []\r\n",
        "\tfor i in range(len(dataset)-time_step-1):\r\n",
        "\t\ta = dataset[i:(i+time_step), 0]   ###i=0, 0,1,2,3-----99   100 \r\n",
        "\t\tdataX.append(a)\r\n",
        "\t\tdataY.append(dataset[i + time_step, 0])\r\n",
        "\treturn numpy.array(dataX), numpy.array(dataY)"
      ],
      "execution_count": null,
      "outputs": []
    },
    {
      "cell_type": "code",
      "metadata": {
        "id": "zpOGyLH_P_6j"
      },
      "source": [
        "# reshape into X=t,t+1,t+2,t+3 and Y=t+4\r\n",
        "time_step = 100\r\n",
        "X_train, y_train = create_dataset(train_data, time_step)\r\n",
        "X_test, ytest = create_dataset(test_data, time_step)"
      ],
      "execution_count": null,
      "outputs": []
    },
    {
      "cell_type": "code",
      "metadata": {
        "colab": {
          "base_uri": "https://localhost:8080/"
        },
        "id": "51kqitH2P_8o",
        "outputId": "680ce356-85f4-4c6d-fda8-7431b6810ecd"
      },
      "source": [
        "print(X_train.shape), print(y_train.shape)"
      ],
      "execution_count": null,
      "outputs": [
        {
          "output_type": "stream",
          "text": [
            "(716, 100)\n",
            "(716,)\n"
          ],
          "name": "stdout"
        },
        {
          "output_type": "execute_result",
          "data": {
            "text/plain": [
              "(None, None)"
            ]
          },
          "metadata": {
            "tags": []
          },
          "execution_count": 18
        }
      ]
    },
    {
      "cell_type": "code",
      "metadata": {
        "colab": {
          "base_uri": "https://localhost:8080/"
        },
        "id": "gUvU_XrnP_-2",
        "outputId": "2974e120-4c62-482a-bb14-dbd01077fd75"
      },
      "source": [
        "print(X_test.shape), print(ytest.shape)"
      ],
      "execution_count": null,
      "outputs": [
        {
          "output_type": "stream",
          "text": [
            "(339, 100)\n",
            "(339,)\n"
          ],
          "name": "stdout"
        },
        {
          "output_type": "execute_result",
          "data": {
            "text/plain": [
              "(None, None)"
            ]
          },
          "metadata": {
            "tags": []
          },
          "execution_count": 19
        }
      ]
    },
    {
      "cell_type": "code",
      "metadata": {
        "id": "q3cwxbQYPw3k"
      },
      "source": [
        "# reshape input to be [samples, time steps, features] which is required for LSTM\r\n",
        "X_train =X_train.reshape(X_train.shape[0],X_train.shape[1] , 1)\r\n",
        "X_test = X_test.reshape(X_test.shape[0],X_test.shape[1] , 1)"
      ],
      "execution_count": null,
      "outputs": []
    },
    {
      "cell_type": "code",
      "metadata": {
        "id": "X0aPYim5QVse"
      },
      "source": [
        "### Create the Stacked LSTM model\r\n",
        "from tensorflow.keras.models import Sequential\r\n",
        "from tensorflow.keras.layers import Dense\r\n",
        "from tensorflow.keras.layers import LSTM"
      ],
      "execution_count": null,
      "outputs": []
    },
    {
      "cell_type": "code",
      "metadata": {
        "id": "ZXCOJUk1QVvX"
      },
      "source": [
        "model=Sequential()\r\n",
        "model.add(LSTM(50,return_sequences=True,input_shape=(100,1)))\r\n",
        "model.add(LSTM(50,return_sequences=True))\r\n",
        "model.add(LSTM(50))\r\n",
        "model.add(Dense(1))\r\n",
        "model.compile(loss='mean_squared_error',optimizer='adam')"
      ],
      "execution_count": null,
      "outputs": []
    },
    {
      "cell_type": "code",
      "metadata": {
        "colab": {
          "base_uri": "https://localhost:8080/"
        },
        "id": "x6aUrg_MQVx-",
        "outputId": "6da222cc-40c9-434a-eca2-e495756cf658"
      },
      "source": [
        "model.summary()"
      ],
      "execution_count": null,
      "outputs": [
        {
          "output_type": "stream",
          "text": [
            "Model: \"sequential\"\n",
            "_________________________________________________________________\n",
            "Layer (type)                 Output Shape              Param #   \n",
            "=================================================================\n",
            "lstm (LSTM)                  (None, 100, 50)           10400     \n",
            "_________________________________________________________________\n",
            "lstm_1 (LSTM)                (None, 100, 50)           20200     \n",
            "_________________________________________________________________\n",
            "lstm_2 (LSTM)                (None, 50)                20200     \n",
            "_________________________________________________________________\n",
            "dense (Dense)                (None, 1)                 51        \n",
            "=================================================================\n",
            "Total params: 50,851\n",
            "Trainable params: 50,851\n",
            "Non-trainable params: 0\n",
            "_________________________________________________________________\n"
          ],
          "name": "stdout"
        }
      ]
    },
    {
      "cell_type": "code",
      "metadata": {
        "colab": {
          "base_uri": "https://localhost:8080/"
        },
        "id": "2UqCNFFpQV0P",
        "outputId": "53f2829f-b3cb-4e8a-d347-bc551661937e"
      },
      "source": [
        "model.summary()"
      ],
      "execution_count": null,
      "outputs": [
        {
          "output_type": "stream",
          "text": [
            "Model: \"sequential\"\n",
            "_________________________________________________________________\n",
            "Layer (type)                 Output Shape              Param #   \n",
            "=================================================================\n",
            "lstm (LSTM)                  (None, 100, 50)           10400     \n",
            "_________________________________________________________________\n",
            "lstm_1 (LSTM)                (None, 100, 50)           20200     \n",
            "_________________________________________________________________\n",
            "lstm_2 (LSTM)                (None, 50)                20200     \n",
            "_________________________________________________________________\n",
            "dense (Dense)                (None, 1)                 51        \n",
            "=================================================================\n",
            "Total params: 50,851\n",
            "Trainable params: 50,851\n",
            "Non-trainable params: 0\n",
            "_________________________________________________________________\n"
          ],
          "name": "stdout"
        }
      ]
    },
    {
      "cell_type": "code",
      "metadata": {
        "colab": {
          "base_uri": "https://localhost:8080/"
        },
        "id": "cORNopjtQV2M",
        "outputId": "4aeae074-4462-45cc-b06b-7c2ae0629ce8"
      },
      "source": [
        "model.fit(X_train,y_train,validation_data=(X_test,ytest),epochs=100,batch_size=64,verbose=1)"
      ],
      "execution_count": null,
      "outputs": [
        {
          "output_type": "stream",
          "text": [
            "Epoch 1/100\n",
            "12/12 [==============================] - 8s 303ms/step - loss: 0.0127 - val_loss: 0.0539\n",
            "Epoch 2/100\n",
            "12/12 [==============================] - 2s 195ms/step - loss: 0.0026 - val_loss: 0.0254\n",
            "Epoch 3/100\n",
            "12/12 [==============================] - 2s 197ms/step - loss: 0.0011 - val_loss: 0.0213\n",
            "Epoch 4/100\n",
            "12/12 [==============================] - 2s 193ms/step - loss: 5.2326e-04 - val_loss: 0.0199\n",
            "Epoch 5/100\n",
            "12/12 [==============================] - 2s 203ms/step - loss: 4.7489e-04 - val_loss: 0.0194\n",
            "Epoch 6/100\n",
            "12/12 [==============================] - 2s 196ms/step - loss: 3.7021e-04 - val_loss: 0.0188\n",
            "Epoch 7/100\n",
            "12/12 [==============================] - 2s 202ms/step - loss: 3.7822e-04 - val_loss: 0.0184\n",
            "Epoch 8/100\n",
            "12/12 [==============================] - 2s 205ms/step - loss: 3.5229e-04 - val_loss: 0.0180\n",
            "Epoch 9/100\n",
            "12/12 [==============================] - 2s 204ms/step - loss: 3.8466e-04 - val_loss: 0.0175\n",
            "Epoch 10/100\n",
            "12/12 [==============================] - 2s 204ms/step - loss: 3.3320e-04 - val_loss: 0.0170\n",
            "Epoch 11/100\n",
            "12/12 [==============================] - 2s 198ms/step - loss: 3.2556e-04 - val_loss: 0.0166\n",
            "Epoch 12/100\n",
            "12/12 [==============================] - 2s 204ms/step - loss: 3.4058e-04 - val_loss: 0.0160\n",
            "Epoch 13/100\n",
            "12/12 [==============================] - 2s 204ms/step - loss: 3.1280e-04 - val_loss: 0.0155\n",
            "Epoch 14/100\n",
            "12/12 [==============================] - 2s 203ms/step - loss: 2.6208e-04 - val_loss: 0.0149\n",
            "Epoch 15/100\n",
            "12/12 [==============================] - 2s 202ms/step - loss: 2.7393e-04 - val_loss: 0.0146\n",
            "Epoch 16/100\n",
            "12/12 [==============================] - 2s 204ms/step - loss: 2.4393e-04 - val_loss: 0.0139\n",
            "Epoch 17/100\n",
            "12/12 [==============================] - 3s 212ms/step - loss: 2.7695e-04 - val_loss: 0.0144\n",
            "Epoch 18/100\n",
            "12/12 [==============================] - 2s 204ms/step - loss: 3.7357e-04 - val_loss: 0.0130\n",
            "Epoch 19/100\n",
            "12/12 [==============================] - 2s 207ms/step - loss: 2.4692e-04 - val_loss: 0.0131\n",
            "Epoch 20/100\n",
            "12/12 [==============================] - 2s 209ms/step - loss: 2.2368e-04 - val_loss: 0.0128\n",
            "Epoch 21/100\n",
            "12/12 [==============================] - 2s 207ms/step - loss: 2.3582e-04 - val_loss: 0.0137\n",
            "Epoch 22/100\n",
            "12/12 [==============================] - 3s 212ms/step - loss: 2.2696e-04 - val_loss: 0.0131\n",
            "Epoch 23/100\n",
            "12/12 [==============================] - 3s 212ms/step - loss: 1.9764e-04 - val_loss: 0.0141\n",
            "Epoch 24/100\n",
            "12/12 [==============================] - 3s 211ms/step - loss: 2.0425e-04 - val_loss: 0.0138\n",
            "Epoch 25/100\n",
            "12/12 [==============================] - 3s 210ms/step - loss: 2.1406e-04 - val_loss: 0.0133\n",
            "Epoch 26/100\n",
            "12/12 [==============================] - 3s 211ms/step - loss: 2.0270e-04 - val_loss: 0.0139\n",
            "Epoch 27/100\n",
            "12/12 [==============================] - 2s 208ms/step - loss: 1.9702e-04 - val_loss: 0.0123\n",
            "Epoch 28/100\n",
            "12/12 [==============================] - 2s 208ms/step - loss: 2.3693e-04 - val_loss: 0.0123\n",
            "Epoch 29/100\n",
            "12/12 [==============================] - 2s 207ms/step - loss: 2.6245e-04 - val_loss: 0.0130\n",
            "Epoch 30/100\n",
            "12/12 [==============================] - 2s 206ms/step - loss: 1.9535e-04 - val_loss: 0.0124\n",
            "Epoch 31/100\n",
            "12/12 [==============================] - 2s 209ms/step - loss: 1.9344e-04 - val_loss: 0.0128\n",
            "Epoch 32/100\n",
            "12/12 [==============================] - 2s 208ms/step - loss: 1.8883e-04 - val_loss: 0.0141\n",
            "Epoch 33/100\n",
            "12/12 [==============================] - 2s 206ms/step - loss: 1.7057e-04 - val_loss: 0.0124\n",
            "Epoch 34/100\n",
            "12/12 [==============================] - 2s 211ms/step - loss: 1.8964e-04 - val_loss: 0.0145\n",
            "Epoch 35/100\n",
            "12/12 [==============================] - 2s 206ms/step - loss: 2.2249e-04 - val_loss: 0.0117\n",
            "Epoch 36/100\n",
            "12/12 [==============================] - 2s 208ms/step - loss: 1.7642e-04 - val_loss: 0.0127\n",
            "Epoch 37/100\n",
            "12/12 [==============================] - 2s 204ms/step - loss: 1.8014e-04 - val_loss: 0.0116\n",
            "Epoch 38/100\n",
            "12/12 [==============================] - 2s 203ms/step - loss: 1.7659e-04 - val_loss: 0.0114\n",
            "Epoch 39/100\n",
            "12/12 [==============================] - 2s 202ms/step - loss: 2.1821e-04 - val_loss: 0.0120\n",
            "Epoch 40/100\n",
            "12/12 [==============================] - 2s 203ms/step - loss: 1.6248e-04 - val_loss: 0.0116\n",
            "Epoch 41/100\n",
            "12/12 [==============================] - 2s 208ms/step - loss: 1.9424e-04 - val_loss: 0.0127\n",
            "Epoch 42/100\n",
            "12/12 [==============================] - 2s 205ms/step - loss: 1.8383e-04 - val_loss: 0.0115\n",
            "Epoch 43/100\n",
            "12/12 [==============================] - 2s 204ms/step - loss: 1.7144e-04 - val_loss: 0.0110\n",
            "Epoch 44/100\n",
            "12/12 [==============================] - 2s 202ms/step - loss: 1.6020e-04 - val_loss: 0.0115\n",
            "Epoch 45/100\n",
            "12/12 [==============================] - 2s 210ms/step - loss: 1.5348e-04 - val_loss: 0.0112\n",
            "Epoch 46/100\n",
            "12/12 [==============================] - 2s 202ms/step - loss: 1.7972e-04 - val_loss: 0.0102\n",
            "Epoch 47/100\n",
            "12/12 [==============================] - 2s 207ms/step - loss: 1.5530e-04 - val_loss: 0.0123\n",
            "Epoch 48/100\n",
            "12/12 [==============================] - 2s 208ms/step - loss: 1.9113e-04 - val_loss: 0.0093\n",
            "Epoch 49/100\n",
            "12/12 [==============================] - 2s 209ms/step - loss: 2.0818e-04 - val_loss: 0.0107\n",
            "Epoch 50/100\n",
            "12/12 [==============================] - 2s 207ms/step - loss: 1.4824e-04 - val_loss: 0.0098\n",
            "Epoch 51/100\n",
            "12/12 [==============================] - 2s 205ms/step - loss: 1.5457e-04 - val_loss: 0.0102\n",
            "Epoch 52/100\n",
            "12/12 [==============================] - 2s 206ms/step - loss: 1.5873e-04 - val_loss: 0.0093\n",
            "Epoch 53/100\n",
            "12/12 [==============================] - 2s 202ms/step - loss: 1.4066e-04 - val_loss: 0.0100\n",
            "Epoch 54/100\n",
            "12/12 [==============================] - 2s 207ms/step - loss: 1.4506e-04 - val_loss: 0.0089\n",
            "Epoch 55/100\n",
            "12/12 [==============================] - 2s 204ms/step - loss: 1.5281e-04 - val_loss: 0.0085\n",
            "Epoch 56/100\n",
            "12/12 [==============================] - 2s 204ms/step - loss: 1.7935e-04 - val_loss: 0.0086\n",
            "Epoch 57/100\n",
            "12/12 [==============================] - 2s 207ms/step - loss: 1.4940e-04 - val_loss: 0.0086\n",
            "Epoch 58/100\n",
            "12/12 [==============================] - 2s 211ms/step - loss: 1.4435e-04 - val_loss: 0.0084\n",
            "Epoch 59/100\n",
            "12/12 [==============================] - 2s 205ms/step - loss: 1.3427e-04 - val_loss: 0.0091\n",
            "Epoch 60/100\n",
            "12/12 [==============================] - 2s 204ms/step - loss: 1.4928e-04 - val_loss: 0.0086\n",
            "Epoch 61/100\n",
            "12/12 [==============================] - 2s 205ms/step - loss: 1.2967e-04 - val_loss: 0.0084\n",
            "Epoch 62/100\n",
            "12/12 [==============================] - 2s 207ms/step - loss: 1.3061e-04 - val_loss: 0.0075\n",
            "Epoch 63/100\n",
            "12/12 [==============================] - 2s 207ms/step - loss: 1.4509e-04 - val_loss: 0.0076\n",
            "Epoch 64/100\n",
            "12/12 [==============================] - 2s 202ms/step - loss: 1.3411e-04 - val_loss: 0.0073\n",
            "Epoch 65/100\n",
            "12/12 [==============================] - 2s 207ms/step - loss: 1.4356e-04 - val_loss: 0.0077\n",
            "Epoch 66/100\n",
            "12/12 [==============================] - 2s 208ms/step - loss: 1.1863e-04 - val_loss: 0.0074\n",
            "Epoch 67/100\n",
            "12/12 [==============================] - 2s 206ms/step - loss: 1.1654e-04 - val_loss: 0.0067\n",
            "Epoch 68/100\n",
            "12/12 [==============================] - 2s 206ms/step - loss: 1.4484e-04 - val_loss: 0.0089\n",
            "Epoch 69/100\n",
            "12/12 [==============================] - 2s 205ms/step - loss: 1.2839e-04 - val_loss: 0.0086\n",
            "Epoch 70/100\n",
            "12/12 [==============================] - 2s 204ms/step - loss: 1.4954e-04 - val_loss: 0.0074\n",
            "Epoch 71/100\n",
            "12/12 [==============================] - 2s 208ms/step - loss: 1.2657e-04 - val_loss: 0.0066\n",
            "Epoch 72/100\n",
            "12/12 [==============================] - 2s 208ms/step - loss: 1.3399e-04 - val_loss: 0.0079\n",
            "Epoch 73/100\n",
            "12/12 [==============================] - 2s 202ms/step - loss: 1.1828e-04 - val_loss: 0.0070\n",
            "Epoch 74/100\n",
            "12/12 [==============================] - 2s 209ms/step - loss: 1.2095e-04 - val_loss: 0.0072\n",
            "Epoch 75/100\n",
            "12/12 [==============================] - 2s 207ms/step - loss: 1.3818e-04 - val_loss: 0.0073\n",
            "Epoch 76/100\n",
            "12/12 [==============================] - 2s 201ms/step - loss: 1.2202e-04 - val_loss: 0.0072\n",
            "Epoch 77/100\n",
            "12/12 [==============================] - 2s 206ms/step - loss: 1.1520e-04 - val_loss: 0.0059\n",
            "Epoch 78/100\n",
            "12/12 [==============================] - 2s 207ms/step - loss: 1.3022e-04 - val_loss: 0.0061\n",
            "Epoch 79/100\n",
            "12/12 [==============================] - 2s 206ms/step - loss: 1.3117e-04 - val_loss: 0.0067\n",
            "Epoch 80/100\n",
            "12/12 [==============================] - 2s 209ms/step - loss: 1.2374e-04 - val_loss: 0.0071\n",
            "Epoch 81/100\n",
            "12/12 [==============================] - 2s 210ms/step - loss: 1.2728e-04 - val_loss: 0.0055\n",
            "Epoch 82/100\n",
            "12/12 [==============================] - 3s 211ms/step - loss: 1.1863e-04 - val_loss: 0.0069\n",
            "Epoch 83/100\n",
            "12/12 [==============================] - 2s 209ms/step - loss: 1.0350e-04 - val_loss: 0.0054\n",
            "Epoch 84/100\n",
            "12/12 [==============================] - 2s 207ms/step - loss: 1.3341e-04 - val_loss: 0.0059\n",
            "Epoch 85/100\n",
            "12/12 [==============================] - 2s 207ms/step - loss: 1.1166e-04 - val_loss: 0.0058\n",
            "Epoch 86/100\n",
            "12/12 [==============================] - 2s 205ms/step - loss: 1.0420e-04 - val_loss: 0.0059\n",
            "Epoch 87/100\n",
            "12/12 [==============================] - 3s 210ms/step - loss: 1.0611e-04 - val_loss: 0.0054\n",
            "Epoch 88/100\n",
            "12/12 [==============================] - 2s 207ms/step - loss: 1.2267e-04 - val_loss: 0.0057\n",
            "Epoch 89/100\n",
            "12/12 [==============================] - 2s 209ms/step - loss: 1.0922e-04 - val_loss: 0.0057\n",
            "Epoch 90/100\n",
            "12/12 [==============================] - 2s 207ms/step - loss: 9.2726e-05 - val_loss: 0.0056\n",
            "Epoch 91/100\n",
            "12/12 [==============================] - 2s 209ms/step - loss: 9.6254e-05 - val_loss: 0.0050\n",
            "Epoch 92/100\n",
            "12/12 [==============================] - 3s 216ms/step - loss: 1.1507e-04 - val_loss: 0.0051\n",
            "Epoch 93/100\n",
            "12/12 [==============================] - 2s 205ms/step - loss: 1.3067e-04 - val_loss: 0.0064\n",
            "Epoch 94/100\n",
            "12/12 [==============================] - 2s 205ms/step - loss: 1.0113e-04 - val_loss: 0.0047\n",
            "Epoch 95/100\n",
            "12/12 [==============================] - 2s 206ms/step - loss: 9.9953e-05 - val_loss: 0.0058\n",
            "Epoch 96/100\n",
            "12/12 [==============================] - 2s 203ms/step - loss: 1.0045e-04 - val_loss: 0.0048\n",
            "Epoch 97/100\n",
            "12/12 [==============================] - 2s 207ms/step - loss: 9.8794e-05 - val_loss: 0.0047\n",
            "Epoch 98/100\n",
            "12/12 [==============================] - 3s 213ms/step - loss: 9.6791e-05 - val_loss: 0.0047\n",
            "Epoch 99/100\n",
            "12/12 [==============================] - 2s 204ms/step - loss: 9.8025e-05 - val_loss: 0.0053\n",
            "Epoch 100/100\n",
            "12/12 [==============================] - 2s 203ms/step - loss: 9.3830e-05 - val_loss: 0.0045\n"
          ],
          "name": "stdout"
        },
        {
          "output_type": "execute_result",
          "data": {
            "text/plain": [
              "<tensorflow.python.keras.callbacks.History at 0x7fe43f329c10>"
            ]
          },
          "metadata": {
            "tags": []
          },
          "execution_count": 27
        }
      ]
    },
    {
      "cell_type": "code",
      "metadata": {
        "id": "ScPlAZRVQV4s"
      },
      "source": [
        "import tensorflow as tf"
      ],
      "execution_count": null,
      "outputs": []
    },
    {
      "cell_type": "code",
      "metadata": {
        "colab": {
          "base_uri": "https://localhost:8080/",
          "height": 35
        },
        "id": "lU305DeGQV7R",
        "outputId": "410609e2-aca2-4d0d-c128-2c420e17dc14"
      },
      "source": [
        "tf.__version__"
      ],
      "execution_count": null,
      "outputs": [
        {
          "output_type": "execute_result",
          "data": {
            "application/vnd.google.colaboratory.intrinsic+json": {
              "type": "string"
            },
            "text/plain": [
              "'2.4.1'"
            ]
          },
          "metadata": {
            "tags": []
          },
          "execution_count": 31
        }
      ]
    },
    {
      "cell_type": "code",
      "metadata": {
        "id": "q_ot3Jd-QV9s"
      },
      "source": [
        "### Lets Do the prediction and check performance metrics\r\n",
        "train_predict=model.predict(X_train)\r\n",
        "test_predict=model.predict(X_test)"
      ],
      "execution_count": null,
      "outputs": []
    },
    {
      "cell_type": "code",
      "metadata": {
        "id": "sEwLGT6cQWE5"
      },
      "source": [
        "\r\n",
        "##Transformback to original form\r\n",
        "train_predict=scaler.inverse_transform(train_predict)\r\n",
        "test_predict=scaler.inverse_transform(test_predict)"
      ],
      "execution_count": null,
      "outputs": []
    },
    {
      "cell_type": "code",
      "metadata": {
        "colab": {
          "base_uri": "https://localhost:8080/"
        },
        "id": "48FL983AT6pI",
        "outputId": "eec85393-0fed-4b59-fe78-f05062b1a2e0"
      },
      "source": [
        "### Calculate RMSE performance metrics\r\n",
        "import math\r\n",
        "from sklearn.metrics import mean_squared_error\r\n",
        "math.sqrt(mean_squared_error(y_train,train_predict))"
      ],
      "execution_count": null,
      "outputs": [
        {
          "output_type": "execute_result",
          "data": {
            "text/plain": [
              "167.29849623180488"
            ]
          },
          "metadata": {
            "tags": []
          },
          "execution_count": 52
        }
      ]
    },
    {
      "cell_type": "code",
      "metadata": {
        "colab": {
          "base_uri": "https://localhost:8080/"
        },
        "id": "F16OvxjET6sG",
        "outputId": "98233ffe-7760-4ec6-b817-0a3b7d7d6448"
      },
      "source": [
        "### Test Data RMSE\r\n",
        "math.sqrt(mean_squared_error(ytest,test_predict))"
      ],
      "execution_count": null,
      "outputs": [
        {
          "output_type": "execute_result",
          "data": {
            "text/plain": [
              "259.41009623024985"
            ]
          },
          "metadata": {
            "tags": []
          },
          "execution_count": 53
        }
      ]
    },
    {
      "cell_type": "code",
      "metadata": {
        "colab": {
          "base_uri": "https://localhost:8080/",
          "height": 265
        },
        "id": "_pPQKMIBT6vq",
        "outputId": "57321948-e206-4bba-dde7-57a35796b799"
      },
      "source": [
        "### Plotting \r\n",
        "# shift train predictions for plotting\r\n",
        "look_back=100\r\n",
        "trainPredictPlot = numpy.empty_like(df1)\r\n",
        "trainPredictPlot[:, :] = np.nan\r\n",
        "trainPredictPlot[look_back:len(train_predict)+look_back, :] = train_predict\r\n",
        "# shift test predictions for plotting\r\n",
        "testPredictPlot = numpy.empty_like(df1)\r\n",
        "testPredictPlot[:, :] = numpy.nan\r\n",
        "testPredictPlot[len(train_predict)+(look_back*2)+1:len(df1)-1, :] = test_predict\r\n",
        "# plot baseline and predictions\r\n",
        "plt.plot(scaler.inverse_transform(df1))\r\n",
        "plt.plot(trainPredictPlot)\r\n",
        "plt.plot(testPredictPlot)\r\n",
        "plt.show()"
      ],
      "execution_count": null,
      "outputs": [
        {
          "output_type": "display_data",
          "data": {
            "image/png": "[encoded data removed]",
            "text/plain": [
              "<Figure size 432x288 with 1 Axes>"
            ]
          },
          "metadata": {
            "tags": [],
            "needs_background": "light"
          }
        }
      ]
    },
    {
      "cell_type": "code",
      "metadata": {
        "colab": {
          "base_uri": "https://localhost:8080/"
        },
        "id": "XkNKV97FT6yY",
        "outputId": "982f5faa-d58d-45d9-af07-694a84201b2b"
      },
      "source": [
        "len(test_data)"
      ],
      "execution_count": null,
      "outputs": [
        {
          "output_type": "execute_result",
          "data": {
            "text/plain": [
              "440"
            ]
          },
          "metadata": {
            "tags": []
          },
          "execution_count": 55
        }
      ]
    },
    {
      "cell_type": "code",
      "metadata": {
        "colab": {
          "base_uri": "https://localhost:8080/"
        },
        "id": "P3vnf4BkT63D",
        "outputId": "6b757a89-14f6-44a1-b05e-277dfa82aeba"
      },
      "source": [
        "x_input=test_data[341:].reshape(1,-1)\r\n",
        "x_input.shape"
      ],
      "execution_count": null,
      "outputs": [
        {
          "output_type": "execute_result",
          "data": {
            "text/plain": [
              "(1, 99)"
            ]
          },
          "metadata": {
            "tags": []
          },
          "execution_count": 56
        }
      ]
    },
    {
      "cell_type": "code",
      "metadata": {
        "id": "WpZdArB2T66G"
      },
      "source": [
        "temp_input=list(x_input)\r\n",
        "temp_input=temp_input[0].tolist()"
      ],
      "execution_count": null,
      "outputs": []
    },
    {
      "cell_type": "code",
      "metadata": {
        "colab": {
          "base_uri": "https://localhost:8080/"
        },
        "id": "ECLl6cV-UfJx",
        "outputId": "82ee34f6-5ea6-44d2-8c92-085487bbbece"
      },
      "source": [
        "temp_input"
      ],
      "execution_count": null,
      "outputs": [
        {
          "output_type": "execute_result",
          "data": {
            "text/plain": [
              "[0.06535177390258567,\n",
              " 0.06381238725195432,\n",
              " 0.06111846061334936,\n",
              " 0.059410703547805144,\n",
              " 0.05943475646422125,\n",
              " 0.06316295850871917,\n",
              " 0.05017438364401683,\n",
              " 0.06008418520745634,\n",
              " 0.04454600120264579,\n",
              " 0.04432952495490078,\n",
              " 0.04834636199639203,\n",
              " 0.05919422730006013,\n",
              " 0.06900781719783522,\n",
              " 0.06819001803968727,\n",
              " 0.062489476849067915,\n",
              " 0.06164762477450386,\n",
              " 0.0701142513529765,\n",
              " 0.0694407696933253,\n",
              " 0.06956103427540589,\n",
              " 0.07206253758268188,\n",
              " 0.06987372218881538,\n",
              " 0.0666025255562237,\n",
              " 0.06806975345760674,\n",
              " 0.0649428743235117,\n",
              " 0.056548406494287384,\n",
              " 0.05972339146121464,\n",
              " 0.06179194227300061,\n",
              " 0.06313890559230306,\n",
              " 0.06905592303066743,\n",
              " 0.07788334335538183,\n",
              " 0.07874924834636199,\n",
              " 0.07841250751653633,\n",
              " 0.07675285628382439,\n",
              " 0.08036079374624172,\n",
              " 0.08187612748045697,\n",
              " 0.07562236921226695,\n",
              " 0.0791340950090198,\n",
              " 0.07713770294648226,\n",
              " 0.07562236921226695,\n",
              " 0.0902946482260974,\n",
              " 0.0901262778111846,\n",
              " 0.09226698737221883,\n",
              " 0.08734816596512324,\n",
              " 0.0911365003006614,\n",
              " 0.09991581479254358,\n",
              " 0.09770294648226097,\n",
              " 0.10013229104028859,\n",
              " 0.11148526758869509,\n",
              " 0.10710763680096214,\n",
              " 0.1043415514131088,\n",
              " 0.10186410102224891,\n",
              " 0.09397474443776305,\n",
              " 0.0978232110643415,\n",
              " 0.08721587492483462,\n",
              " 0.09760673481659649,\n",
              " 0.10032471437161755,\n",
              " 0.09294046903187009,\n",
              " 0.09250751653638006,\n",
              " 0.09753457606734811,\n",
              " 0.09277209861695729,\n",
              " 0.08851473241130486,\n",
              " 0.09017438364401681,\n",
              " 0.10027660853878534,\n",
              " 0.11191822008418523,\n",
              " 0.11720986169573056,\n",
              " 0.12647023451593503,\n",
              " 0.1270475045099218,\n",
              " 0.12440168370414911,\n",
              " 0.11244738424533973,\n",
              " 0.10010823812387254,\n",
              " 0.10535177390258565,\n",
              " 0.10739627179795552,\n",
              " 0.10487071557426336,\n",
              " 0.11316897173782314,\n",
              " 0.11165363800360789,\n",
              " 0.11201443174984965,\n",
              " 0.10984966927239925,\n",
              " 0.10835838845460005,\n",
              " 0.10773301262778107,\n",
              " 0.1083102826217679,\n",
              " 0.10306674684305472,\n",
              " 0.09741431148526758,\n",
              " 0.09469633193024657,\n",
              " 0.09508117859290438,\n",
              " 0.08577269993986769,\n",
              " 0.08543595911004209,\n",
              " 0.08420926037282017,\n",
              " 0.07372218881539383,\n",
              " 0.07437161755862898,\n",
              " 0.09007817197835238,\n",
              " 0.08365604329524956,\n",
              " 0.0762958508719182,\n",
              " 0.07165363800360791,\n",
              " 0.07475646422128684,\n",
              " 0.0625856885147324,\n",
              " 0.07395069152134692,\n",
              " 0.0712928442573662,\n",
              " 0.07605532170775703,\n",
              " 0.07381840048105831]"
            ]
          },
          "metadata": {
            "tags": []
          },
          "execution_count": 58
        }
      ]
    },
    {
      "cell_type": "code",
      "metadata": {
        "colab": {
          "base_uri": "https://localhost:8080/",
          "height": 232
        },
        "id": "mSr-xR8NUfMT",
        "outputId": "338b33a9-081c-4f2c-d568-1a16bb430807"
      },
      "source": [
        "# demonstrate prediction for next 10 days\r\n",
        "from numpy import array\r\n",
        "\r\n",
        "lst_output=[]\r\n",
        "n_steps=100\r\n",
        "i=0\r\n",
        "while(i<30):\r\n",
        "    \r\n",
        "    if(len(temp_input)>100):\r\n",
        "        #print(temp_input)\r\n",
        "        x_input=np.array(temp_input[1:])\r\n",
        "        print(\"{} day input {}\".format(i,x_input))\r\n",
        "        x_input=x_input.reshape(1,-1)\r\n",
        "        x_input = x_input.reshape((1, n_steps, 1))\r\n",
        "        #print(x_input)\r\n",
        "        yhat = model.predict(x_input, verbose=0)\r\n",
        "        print(\"{} day output {}\".format(i,yhat))\r\n",
        "        temp_input.extend(yhat[0].tolist())\r\n",
        "        temp_input=temp_input[1:]\r\n",
        "        #print(temp_input)\r\n",
        "        lst_output.extend(yhat.tolist())\r\n",
        "        i=i+1\r\n",
        "    else:\r\n",
        "        x_input = x_input.reshape((1, n_steps,1))\r\n",
        "        yhat = model.predict(x_input, verbose=0)\r\n",
        "        print(yhat[0])\r\n",
        "        temp_input.extend(yhat[0].tolist())\r\n",
        "        print(len(temp_input))\r\n",
        "        lst_output.extend(yhat.tolist())\r\n",
        "        i=i+1\r\n",
        "    \r\n",
        "\r\n",
        "print(lst_output)"
      ],
      "execution_count": null,
      "outputs": [
        {
          "output_type": "error",
          "ename": "ValueError",
          "evalue": "ignored",
          "traceback": [
            "\u001b[0;31m---------------------------------------------------------------------------\u001b[0m",
            "\u001b[0;31mValueError\u001b[0m                                Traceback (most recent call last)",
            "\u001b[0;32m<ipython-input-59-b8544ff16353>\u001b[0m in \u001b[0;36m<module>\u001b[0;34m()\u001b[0m\n\u001b[1;32m     22\u001b[0m         \u001b[0mi\u001b[0m\u001b[0;34m=\u001b[0m\u001b[0mi\u001b[0m\u001b[0;34m+\u001b[0m\u001b[0;36m1\u001b[0m\u001b[0;34m\u001b[0m\u001b[0;34m\u001b[0m\u001b[0m\n\u001b[1;32m     23\u001b[0m     \u001b[0;32melse\u001b[0m\u001b[0;34m:\u001b[0m\u001b[0;34m\u001b[0m\u001b[0;34m\u001b[0m\u001b[0m\n\u001b[0;32m---> 24\u001b[0;31m         \u001b[0mx_input\u001b[0m \u001b[0;34m=\u001b[0m \u001b[0mx_input\u001b[0m\u001b[0;34m.\u001b[0m\u001b[0mreshape\u001b[0m\u001b[0;34m(\u001b[0m\u001b[0;34m(\u001b[0m\u001b[0;36m1\u001b[0m\u001b[0;34m,\u001b[0m \u001b[0mn_steps\u001b[0m\u001b[0;34m,\u001b[0m\u001b[0;36m1\u001b[0m\u001b[0;34m)\u001b[0m\u001b[0;34m)\u001b[0m\u001b[0;34m\u001b[0m\u001b[0;34m\u001b[0m\u001b[0m\n\u001b[0m\u001b[1;32m     25\u001b[0m         \u001b[0myhat\u001b[0m \u001b[0;34m=\u001b[0m \u001b[0mmodel\u001b[0m\u001b[0;34m.\u001b[0m\u001b[0mpredict\u001b[0m\u001b[0;34m(\u001b[0m\u001b[0mx_input\u001b[0m\u001b[0;34m,\u001b[0m \u001b[0mverbose\u001b[0m\u001b[0;34m=\u001b[0m\u001b[0;36m0\u001b[0m\u001b[0;34m)\u001b[0m\u001b[0;34m\u001b[0m\u001b[0;34m\u001b[0m\u001b[0m\n\u001b[1;32m     26\u001b[0m         \u001b[0mprint\u001b[0m\u001b[0;34m(\u001b[0m\u001b[0myhat\u001b[0m\u001b[0;34m[\u001b[0m\u001b[0;36m0\u001b[0m\u001b[0;34m]\u001b[0m\u001b[0;34m)\u001b[0m\u001b[0;34m\u001b[0m\u001b[0;34m\u001b[0m\u001b[0m\n",
            "\u001b[0;31mValueError\u001b[0m: cannot reshape array of size 99 into shape (1,100,1)"
          ]
        }
      ]
    },
    {
      "cell_type": "code",
      "metadata": {
        "id": "K4kOdWZVUfOz"
      },
      "source": [
        "\r\n",
        "day_new=np.arange(1,101)\r\n",
        "day_pred=np.arange(101,131)"
      ],
      "execution_count": null,
      "outputs": []
    },
    {
      "cell_type": "code",
      "metadata": {
        "id": "vsl_3PsOUfRI"
      },
      "source": [
        "import matplotlib.pyplot as plt"
      ],
      "execution_count": null,
      "outputs": []
    },
    {
      "cell_type": "code",
      "metadata": {
        "colab": {
          "base_uri": "https://localhost:8080/"
        },
        "id": "DTYuqKTmUfTO",
        "outputId": "f85666ba-5507-4994-f464-c48397b11e74"
      },
      "source": [
        "len(df1)"
      ],
      "execution_count": null,
      "outputs": [
        {
          "output_type": "execute_result",
          "data": {
            "text/plain": [
              "1257"
            ]
          },
          "metadata": {
            "tags": []
          },
          "execution_count": 46
        }
      ]
    },
    {
      "cell_type": "code",
      "metadata": {
        "colab": {
          "base_uri": "https://localhost:8080/",
          "height": 576
        },
        "id": "3vWm6uXBUwBa",
        "outputId": "30f118cc-6029-4db1-bbd3-f40145b6dcad"
      },
      "source": [
        "plt.plot(day_new,scaler.inverse_transform(df1[1158:]))\r\n",
        "plt.plot(day_pred,scaler.inverse_transform(lst_output))"
      ],
      "execution_count": null,
      "outputs": [
        {
          "output_type": "error",
          "ename": "ValueError",
          "evalue": "ignored",
          "traceback": [
            "\u001b[0;31m---------------------------------------------------------------------------\u001b[0m",
            "\u001b[0;31mValueError\u001b[0m                                Traceback (most recent call last)",
            "\u001b[0;32m<ipython-input-47-f7a6cd20cb29>\u001b[0m in \u001b[0;36m<module>\u001b[0;34m()\u001b[0m\n\u001b[0;32m----> 1\u001b[0;31m \u001b[0mplt\u001b[0m\u001b[0;34m.\u001b[0m\u001b[0mplot\u001b[0m\u001b[0;34m(\u001b[0m\u001b[0mday_new\u001b[0m\u001b[0;34m,\u001b[0m\u001b[0mscaler\u001b[0m\u001b[0;34m.\u001b[0m\u001b[0minverse_transform\u001b[0m\u001b[0;34m(\u001b[0m\u001b[0mdf1\u001b[0m\u001b[0;34m[\u001b[0m\u001b[0;36m1158\u001b[0m\u001b[0;34m:\u001b[0m\u001b[0;34m]\u001b[0m\u001b[0;34m)\u001b[0m\u001b[0;34m)\u001b[0m\u001b[0;34m\u001b[0m\u001b[0;34m\u001b[0m\u001b[0m\n\u001b[0m\u001b[1;32m      2\u001b[0m \u001b[0mplt\u001b[0m\u001b[0;34m.\u001b[0m\u001b[0mplot\u001b[0m\u001b[0;34m(\u001b[0m\u001b[0mday_pred\u001b[0m\u001b[0;34m,\u001b[0m\u001b[0mscaler\u001b[0m\u001b[0;34m.\u001b[0m\u001b[0minverse_transform\u001b[0m\u001b[0;34m(\u001b[0m\u001b[0mlst_output\u001b[0m\u001b[0;34m)\u001b[0m\u001b[0;34m)\u001b[0m\u001b[0;34m\u001b[0m\u001b[0;34m\u001b[0m\u001b[0m\n",
            "\u001b[0;32m/usr/local/lib/python3.7/dist-packages/matplotlib/pyplot.py\u001b[0m in \u001b[0;36mplot\u001b[0;34m(scalex, scaley, data, *args, **kwargs)\u001b[0m\n\u001b[1;32m   2761\u001b[0m     return gca().plot(\n\u001b[1;32m   2762\u001b[0m         *args, scalex=scalex, scaley=scaley, **({\"data\": data} if data\n\u001b[0;32m-> 2763\u001b[0;31m         is not None else {}), **kwargs)\n\u001b[0m\u001b[1;32m   2764\u001b[0m \u001b[0;34m\u001b[0m\u001b[0m\n\u001b[1;32m   2765\u001b[0m \u001b[0;34m\u001b[0m\u001b[0m\n",
            "\u001b[0;32m/usr/local/lib/python3.7/dist-packages/matplotlib/axes/_axes.py\u001b[0m in \u001b[0;36mplot\u001b[0;34m(self, scalex, scaley, data, *args, **kwargs)\u001b[0m\n\u001b[1;32m   1645\u001b[0m         \"\"\"\n\u001b[1;32m   1646\u001b[0m         \u001b[0mkwargs\u001b[0m \u001b[0;34m=\u001b[0m \u001b[0mcbook\u001b[0m\u001b[0;34m.\u001b[0m\u001b[0mnormalize_kwargs\u001b[0m\u001b[0;34m(\u001b[0m\u001b[0mkwargs\u001b[0m\u001b[0;34m,\u001b[0m \u001b[0mmlines\u001b[0m\u001b[0;34m.\u001b[0m\u001b[0mLine2D\u001b[0m\u001b[0;34m)\u001b[0m\u001b[0;34m\u001b[0m\u001b[0;34m\u001b[0m\u001b[0m\n\u001b[0;32m-> 1647\u001b[0;31m         \u001b[0mlines\u001b[0m \u001b[0;34m=\u001b[0m \u001b[0;34m[\u001b[0m\u001b[0;34m*\u001b[0m\u001b[0mself\u001b[0m\u001b[0;34m.\u001b[0m\u001b[0m_get_lines\u001b[0m\u001b[0;34m(\u001b[0m\u001b[0;34m*\u001b[0m\u001b[0margs\u001b[0m\u001b[0;34m,\u001b[0m \u001b[0mdata\u001b[0m\u001b[0;34m=\u001b[0m\u001b[0mdata\u001b[0m\u001b[0;34m,\u001b[0m \u001b[0;34m**\u001b[0m\u001b[0mkwargs\u001b[0m\u001b[0;34m)\u001b[0m\u001b[0;34m]\u001b[0m\u001b[0;34m\u001b[0m\u001b[0;34m\u001b[0m\u001b[0m\n\u001b[0m\u001b[1;32m   1648\u001b[0m         \u001b[0;32mfor\u001b[0m \u001b[0mline\u001b[0m \u001b[0;32min\u001b[0m \u001b[0mlines\u001b[0m\u001b[0;34m:\u001b[0m\u001b[0;34m\u001b[0m\u001b[0;34m\u001b[0m\u001b[0m\n\u001b[1;32m   1649\u001b[0m             \u001b[0mself\u001b[0m\u001b[0;34m.\u001b[0m\u001b[0madd_line\u001b[0m\u001b[0;34m(\u001b[0m\u001b[0mline\u001b[0m\u001b[0;34m)\u001b[0m\u001b[0;34m\u001b[0m\u001b[0;34m\u001b[0m\u001b[0m\n",
            "\u001b[0;32m/usr/local/lib/python3.7/dist-packages/matplotlib/axes/_base.py\u001b[0m in \u001b[0;36m__call__\u001b[0;34m(self, *args, **kwargs)\u001b[0m\n\u001b[1;32m    214\u001b[0m                 \u001b[0mthis\u001b[0m \u001b[0;34m+=\u001b[0m \u001b[0margs\u001b[0m\u001b[0;34m[\u001b[0m\u001b[0;36m0\u001b[0m\u001b[0;34m]\u001b[0m\u001b[0;34m,\u001b[0m\u001b[0;34m\u001b[0m\u001b[0;34m\u001b[0m\u001b[0m\n\u001b[1;32m    215\u001b[0m                 \u001b[0margs\u001b[0m \u001b[0;34m=\u001b[0m \u001b[0margs\u001b[0m\u001b[0;34m[\u001b[0m\u001b[0;36m1\u001b[0m\u001b[0;34m:\u001b[0m\u001b[0;34m]\u001b[0m\u001b[0;34m\u001b[0m\u001b[0;34m\u001b[0m\u001b[0m\n\u001b[0;32m--> 216\u001b[0;31m             \u001b[0;32myield\u001b[0m \u001b[0;32mfrom\u001b[0m \u001b[0mself\u001b[0m\u001b[0;34m.\u001b[0m\u001b[0m_plot_args\u001b[0m\u001b[0;34m(\u001b[0m\u001b[0mthis\u001b[0m\u001b[0;34m,\u001b[0m \u001b[0mkwargs\u001b[0m\u001b[0;34m)\u001b[0m\u001b[0;34m\u001b[0m\u001b[0;34m\u001b[0m\u001b[0m\n\u001b[0m\u001b[1;32m    217\u001b[0m \u001b[0;34m\u001b[0m\u001b[0m\n\u001b[1;32m    218\u001b[0m     \u001b[0;32mdef\u001b[0m \u001b[0mget_next_color\u001b[0m\u001b[0;34m(\u001b[0m\u001b[0mself\u001b[0m\u001b[0;34m)\u001b[0m\u001b[0;34m:\u001b[0m\u001b[0;34m\u001b[0m\u001b[0;34m\u001b[0m\u001b[0m\n",
            "\u001b[0;32m/usr/local/lib/python3.7/dist-packages/matplotlib/axes/_base.py\u001b[0m in \u001b[0;36m_plot_args\u001b[0;34m(self, tup, kwargs)\u001b[0m\n\u001b[1;32m    340\u001b[0m \u001b[0;34m\u001b[0m\u001b[0m\n\u001b[1;32m    341\u001b[0m         \u001b[0;32mif\u001b[0m \u001b[0mx\u001b[0m\u001b[0;34m.\u001b[0m\u001b[0mshape\u001b[0m\u001b[0;34m[\u001b[0m\u001b[0;36m0\u001b[0m\u001b[0;34m]\u001b[0m \u001b[0;34m!=\u001b[0m \u001b[0my\u001b[0m\u001b[0;34m.\u001b[0m\u001b[0mshape\u001b[0m\u001b[0;34m[\u001b[0m\u001b[0;36m0\u001b[0m\u001b[0;34m]\u001b[0m\u001b[0;34m:\u001b[0m\u001b[0;34m\u001b[0m\u001b[0;34m\u001b[0m\u001b[0m\n\u001b[0;32m--> 342\u001b[0;31m             raise ValueError(f\"x and y must have same first dimension, but \"\n\u001b[0m\u001b[1;32m    343\u001b[0m                              f\"have shapes {x.shape} and {y.shape}\")\n\u001b[1;32m    344\u001b[0m         \u001b[0;32mif\u001b[0m \u001b[0mx\u001b[0m\u001b[0;34m.\u001b[0m\u001b[0mndim\u001b[0m \u001b[0;34m>\u001b[0m \u001b[0;36m2\u001b[0m \u001b[0;32mor\u001b[0m \u001b[0my\u001b[0m\u001b[0;34m.\u001b[0m\u001b[0mndim\u001b[0m \u001b[0;34m>\u001b[0m \u001b[0;36m2\u001b[0m\u001b[0;34m:\u001b[0m\u001b[0;34m\u001b[0m\u001b[0;34m\u001b[0m\u001b[0m\n",
            "\u001b[0;31mValueError\u001b[0m: x and y must have same first dimension, but have shapes (100,) and (99, 1)"
          ]
        },
        {
          "output_type": "display_data",
          "data": {
            "image/png": "[encoded data removed]",
            "text/plain": [
              "<Figure size 432x288 with 1 Axes>"
            ]
          },
          "metadata": {
            "tags": [],
            "needs_background": "light"
          }
        }
      ]
    },
    {
      "cell_type": "code",
      "metadata": {
        "colab": {
          "base_uri": "https://localhost:8080/",
          "height": 198
        },
        "id": "xF-1dszuUwEI",
        "outputId": "ca997269-0542-496f-bdbc-1eb1a76477e2"
      },
      "source": [
        "df3=df1.tolist()\r\n",
        "df3.extend(lst_output)\r\n",
        "plt.plot(df3[1000:])"
      ],
      "execution_count": null,
      "outputs": [
        {
          "output_type": "error",
          "ename": "NameError",
          "evalue": "ignored",
          "traceback": [
            "\u001b[0;31m---------------------------------------------------------------------------\u001b[0m",
            "\u001b[0;31mNameError\u001b[0m                                 Traceback (most recent call last)",
            "\u001b[0;32m<ipython-input-1-bddcaa666377>\u001b[0m in \u001b[0;36m<module>\u001b[0;34m()\u001b[0m\n\u001b[0;32m----> 1\u001b[0;31m \u001b[0mdf3\u001b[0m\u001b[0;34m=\u001b[0m\u001b[0mdf1\u001b[0m\u001b[0;34m.\u001b[0m\u001b[0mtolist\u001b[0m\u001b[0;34m(\u001b[0m\u001b[0;34m)\u001b[0m\u001b[0;34m\u001b[0m\u001b[0;34m\u001b[0m\u001b[0m\n\u001b[0m\u001b[1;32m      2\u001b[0m \u001b[0mdf3\u001b[0m\u001b[0;34m.\u001b[0m\u001b[0mextend\u001b[0m\u001b[0;34m(\u001b[0m\u001b[0mlst_output\u001b[0m\u001b[0;34m)\u001b[0m\u001b[0;34m\u001b[0m\u001b[0;34m\u001b[0m\u001b[0m\n\u001b[1;32m      3\u001b[0m \u001b[0mplt\u001b[0m\u001b[0;34m.\u001b[0m\u001b[0mplot\u001b[0m\u001b[0;34m(\u001b[0m\u001b[0mdf3\u001b[0m\u001b[0;34m[\u001b[0m\u001b[0;36m1000\u001b[0m\u001b[0;34m:\u001b[0m\u001b[0;34m]\u001b[0m\u001b[0;34m)\u001b[0m\u001b[0;34m\u001b[0m\u001b[0;34m\u001b[0m\u001b[0m\n",
            "\u001b[0;31mNameError\u001b[0m: name 'df1' is not defined"
          ]
        }
      ]
    },
    {
      "cell_type": "code",
      "metadata": {
        "id": "XXy85_76UwJS",
        "colab": {
          "base_uri": "https://localhost:8080/",
          "height": 164
        },
        "outputId": "28209d3f-cee3-4dc5-e302-d124ae5146f7"
      },
      "source": [
        "df3=scaler.inverse_transform(df3).tolist()"
      ],
      "execution_count": null,
      "outputs": [
        {
          "output_type": "error",
          "ename": "NameError",
          "evalue": "ignored",
          "traceback": [
            "\u001b[0;31m---------------------------------------------------------------------------\u001b[0m",
            "\u001b[0;31mNameError\u001b[0m                                 Traceback (most recent call last)",
            "\u001b[0;32m<ipython-input-2-142f1a0abc41>\u001b[0m in \u001b[0;36m<module>\u001b[0;34m()\u001b[0m\n\u001b[0;32m----> 1\u001b[0;31m \u001b[0mdf3\u001b[0m\u001b[0;34m=\u001b[0m\u001b[0mscaler\u001b[0m\u001b[0;34m.\u001b[0m\u001b[0minverse_transform\u001b[0m\u001b[0;34m(\u001b[0m\u001b[0mdf3\u001b[0m\u001b[0;34m)\u001b[0m\u001b[0;34m.\u001b[0m\u001b[0mtolist\u001b[0m\u001b[0;34m(\u001b[0m\u001b[0;34m)\u001b[0m\u001b[0;34m\u001b[0m\u001b[0;34m\u001b[0m\u001b[0m\n\u001b[0m",
            "\u001b[0;31mNameError\u001b[0m: name 'scaler' is not defined"
          ]
        }
      ]
    },
    {
      "cell_type": "code",
      "metadata": {
        "colab": {
          "base_uri": "https://localhost:8080/",
          "height": 282
        },
        "id": "EPx07mShU2Xw",
        "outputId": "2bc5ee08-e311-4ac6-83d0-a47815544329"
      },
      "source": [
        "plt.plot(df3)"
      ],
      "execution_count": null,
      "outputs": [
        {
          "output_type": "execute_result",
          "data": {
            "text/plain": [
              "[<matplotlib.lines.Line2D at 0x7f254730c210>]"
            ]
          },
          "metadata": {
            "tags": []
          },
          "execution_count": 46
        },
        {
          "output_type": "display_data",
          "data": {
            "image/png": "[encoded data removed]",
            "text/plain": [
              "<Figure size 432x288 with 1 Axes>"
            ]
          },
          "metadata": {
            "tags": [],
            "needs_background": "light"
          }
        }
      ]
    },
    {
      "cell_type": "code",
      "metadata": {
        "id": "Ozw_VDHFU2aZ"
      },
      "source": [
        ""
      ],
      "execution_count": null,
      "outputs": []
    },
    {
      "cell_type": "code",
      "metadata": {
        "id": "OFF6dgkHU2cq"
      },
      "source": [
        ""
      ],
      "execution_count": null,
      "outputs": []
    },
    {
      "cell_type": "code",
      "metadata": {
        "id": "LmqPGYygUwOd"
      },
      "source": [
        ""
      ],
      "execution_count": null,
      "outputs": []
    }
  ]
}