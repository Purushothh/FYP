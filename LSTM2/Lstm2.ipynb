{
  "nbformat": 4,
  "nbformat_minor": 0,
  "metadata": {
    "colab": {
      "name": "Lstm2.ipynb",
      "provenance": []
    },
    "kernelspec": {
      "name": "python3",
      "display_name": "Python 3"
    }
  },
  "cells": [
    {
      "cell_type": "code",
      "metadata": {
        "id": "MlDXvIPnkgMK"
      },
      "source": [
        "import math\n",
        "import numpy as np\n",
        "import pandas as pd\n",
        "import pandas_datareader as pdd\n",
        "from sklearn.preprocessing import MinMaxScaler\n",
        "from keras.models import Sequential \n",
        "from keras.layers import Dense, LSTM\n",
        "import matplotlib.pyplot as plt"
      ],
      "execution_count": null,
      "outputs": []
    },
    {
      "cell_type": "code",
      "metadata": {
        "colab": {
          "base_uri": "https://localhost:8080/",
          "height": 428
        },
        "id": "HXt6b_vHlkLG",
        "outputId": "791adb2f-3b10-4c65-a5b8-87c5404c6a7c"
      },
      "source": [
        "df = pdd.DataReader('AAPL',data_source='yahoo',start='2013-01-01',end='2019-12-30')\n",
        "df"
      ],
      "execution_count": null,
      "outputs": [
        {
          "output_type": "execute_result",
          "data": {
            "text/html": [
              "<div>\n",
              "<style scoped>\n",
              "    .dataframe tbody tr th:only-of-type {\n",
              "        vertical-align: middle;\n",
              "    }\n",
              "\n",
              "    .dataframe tbody tr th {\n",
              "        vertical-align: top;\n",
              "    }\n",
              "\n",
              "    .dataframe thead th {\n",
              "        text-align: right;\n",
              "    }\n",
              "</style>\n",
              "<table border=\"1\" class=\"dataframe\">\n",
              "  <thead>\n",
              "    <tr style=\"text-align: right;\">\n",
              "      <th></th>\n",
              "      <th>High</th>\n",
              "      <th>Low</th>\n",
              "      <th>Open</th>\n",
              "      <th>Close</th>\n",
              "      <th>Volume</th>\n",
              "      <th>Adj Close</th>\n",
              "    </tr>\n",
              "    <tr>\n",
              "      <th>Date</th>\n",
              "      <th></th>\n",
              "      <th></th>\n",
              "      <th></th>\n",
              "      <th></th>\n",
              "      <th></th>\n",
              "      <th></th>\n",
              "    </tr>\n",
              "  </thead>\n",
              "  <tbody>\n",
              "    <tr>\n",
              "      <th>2013-01-02</th>\n",
              "      <td>19.821428</td>\n",
              "      <td>19.343929</td>\n",
              "      <td>19.779285</td>\n",
              "      <td>19.608213</td>\n",
              "      <td>560518000.0</td>\n",
              "      <td>17.039789</td>\n",
              "    </tr>\n",
              "    <tr>\n",
              "      <th>2013-01-03</th>\n",
              "      <td>19.631071</td>\n",
              "      <td>19.321428</td>\n",
              "      <td>19.567142</td>\n",
              "      <td>19.360714</td>\n",
              "      <td>352965200.0</td>\n",
              "      <td>16.824715</td>\n",
              "    </tr>\n",
              "    <tr>\n",
              "      <th>2013-01-04</th>\n",
              "      <td>19.236786</td>\n",
              "      <td>18.779642</td>\n",
              "      <td>19.177500</td>\n",
              "      <td>18.821428</td>\n",
              "      <td>594333600.0</td>\n",
              "      <td>16.356062</td>\n",
              "    </tr>\n",
              "    <tr>\n",
              "      <th>2013-01-07</th>\n",
              "      <td>18.903570</td>\n",
              "      <td>18.400000</td>\n",
              "      <td>18.642857</td>\n",
              "      <td>18.710714</td>\n",
              "      <td>484156400.0</td>\n",
              "      <td>16.259851</td>\n",
              "    </tr>\n",
              "    <tr>\n",
              "      <th>2013-01-08</th>\n",
              "      <td>18.996071</td>\n",
              "      <td>18.616072</td>\n",
              "      <td>18.900356</td>\n",
              "      <td>18.761070</td>\n",
              "      <td>458707200.0</td>\n",
              "      <td>16.303608</td>\n",
              "    </tr>\n",
              "    <tr>\n",
              "      <th>...</th>\n",
              "      <td>...</td>\n",
              "      <td>...</td>\n",
              "      <td>...</td>\n",
              "      <td>...</td>\n",
              "      <td>...</td>\n",
              "      <td>...</td>\n",
              "    </tr>\n",
              "    <tr>\n",
              "      <th>2019-12-23</th>\n",
              "      <td>71.062500</td>\n",
              "      <td>70.092499</td>\n",
              "      <td>70.132500</td>\n",
              "      <td>71.000000</td>\n",
              "      <td>98572000.0</td>\n",
              "      <td>70.287064</td>\n",
              "    </tr>\n",
              "    <tr>\n",
              "      <th>2019-12-24</th>\n",
              "      <td>71.222504</td>\n",
              "      <td>70.730003</td>\n",
              "      <td>71.172501</td>\n",
              "      <td>71.067497</td>\n",
              "      <td>48478800.0</td>\n",
              "      <td>70.353882</td>\n",
              "    </tr>\n",
              "    <tr>\n",
              "      <th>2019-12-26</th>\n",
              "      <td>72.495003</td>\n",
              "      <td>71.175003</td>\n",
              "      <td>71.205002</td>\n",
              "      <td>72.477501</td>\n",
              "      <td>93121200.0</td>\n",
              "      <td>71.749733</td>\n",
              "    </tr>\n",
              "    <tr>\n",
              "      <th>2019-12-27</th>\n",
              "      <td>73.492500</td>\n",
              "      <td>72.029999</td>\n",
              "      <td>72.779999</td>\n",
              "      <td>72.449997</td>\n",
              "      <td>146266000.0</td>\n",
              "      <td>71.722488</td>\n",
              "    </tr>\n",
              "    <tr>\n",
              "      <th>2019-12-30</th>\n",
              "      <td>73.172501</td>\n",
              "      <td>71.305000</td>\n",
              "      <td>72.364998</td>\n",
              "      <td>72.879997</td>\n",
              "      <td>144114400.0</td>\n",
              "      <td>72.148178</td>\n",
              "    </tr>\n",
              "  </tbody>\n",
              "</table>\n",
              "<p>1761 rows × 6 columns</p>\n",
              "</div>"
            ],
            "text/plain": [
              "                 High        Low       Open      Close       Volume  Adj Close\n",
              "Date                                                                          \n",
              "2013-01-02  19.821428  19.343929  19.779285  19.608213  560518000.0  17.039789\n",
              "2013-01-03  19.631071  19.321428  19.567142  19.360714  352965200.0  16.824715\n",
              "2013-01-04  19.236786  18.779642  19.177500  18.821428  594333600.0  16.356062\n",
              "2013-01-07  18.903570  18.400000  18.642857  18.710714  484156400.0  16.259851\n",
              "2013-01-08  18.996071  18.616072  18.900356  18.761070  458707200.0  16.303608\n",
              "...               ...        ...        ...        ...          ...        ...\n",
              "2019-12-23  71.062500  70.092499  70.132500  71.000000   98572000.0  70.287064\n",
              "2019-12-24  71.222504  70.730003  71.172501  71.067497   48478800.0  70.353882\n",
              "2019-12-26  72.495003  71.175003  71.205002  72.477501   93121200.0  71.749733\n",
              "2019-12-27  73.492500  72.029999  72.779999  72.449997  146266000.0  71.722488\n",
              "2019-12-30  73.172501  71.305000  72.364998  72.879997  144114400.0  72.148178\n",
              "\n",
              "[1761 rows x 6 columns]"
            ]
          },
          "metadata": {
            "tags": []
          },
          "execution_count": 57
        }
      ]
    },
    {
      "cell_type": "code",
      "metadata": {
        "colab": {
          "base_uri": "https://localhost:8080/",
          "height": 538
        },
        "id": "e_kDxSEVlkhc",
        "outputId": "a6f972f7-fed3-48b1-d31b-cb8ad819f6c6"
      },
      "source": [
        "plt.figure(figsize=(16,8))\n",
        "plt.title('close price movement')\n",
        "plt.plot(df['Close'])\n",
        "plt.xlabel('Date',fontsize=18)\n",
        "plt.ylabel('close price in $',fontsize=18)\n",
        "plt.show"
      ],
      "execution_count": null,
      "outputs": [
        {
          "output_type": "execute_result",
          "data": {
            "text/plain": [
              "<function matplotlib.pyplot.show>"
            ]
          },
          "metadata": {
            "tags": []
          },
          "execution_count": 58
        },
        {
          "output_type": "display_data",
          "data": {
            "image/png": "[encoded data removed]",
            "text/plain": [
              "<Figure size 1152x576 with 1 Axes>"
            ]
          },
          "metadata": {
            "tags": [],
            "needs_background": "light"
          }
        }
      ]
    },
    {
      "cell_type": "code",
      "metadata": {
        "colab": {
          "base_uri": "https://localhost:8080/"
        },
        "id": "cY7EWpDdorD3",
        "outputId": "e1b18fa5-ea2a-4ce8-9433-ffe5d5d87770"
      },
      "source": [
        "data = df.filter(['Close'])\n",
        "dataset = data.values\n",
        "len(dataset)"
      ],
      "execution_count": null,
      "outputs": [
        {
          "output_type": "execute_result",
          "data": {
            "text/plain": [
              "1761"
            ]
          },
          "metadata": {
            "tags": []
          },
          "execution_count": 59
        }
      ]
    },
    {
      "cell_type": "code",
      "metadata": {
        "colab": {
          "base_uri": "https://localhost:8080/"
        },
        "id": "Z1osW9LGorHi",
        "outputId": "ea167acd-b577-40ef-aac0-2a5ed11fe826"
      },
      "source": [
        "training_data_size = math.ceil(len(dataset)*.70)\n",
        "training_data_size"
      ],
      "execution_count": null,
      "outputs": [
        {
          "output_type": "execute_result",
          "data": {
            "text/plain": [
              "1233"
            ]
          },
          "metadata": {
            "tags": []
          },
          "execution_count": 60
        }
      ]
    },
    {
      "cell_type": "code",
      "metadata": {
        "colab": {
          "base_uri": "https://localhost:8080/"
        },
        "id": "7fEH6JuOorJt",
        "outputId": "fa547d6a-837e-4d71-cd3e-7d02e0243d5c"
      },
      "source": [
        "scaler = MinMaxScaler(feature_range=(0,1))\n",
        "scaled_data = scaler.fit_transform(dataset)\n",
        "scaled_data"
      ],
      "execution_count": null,
      "outputs": [
        {
          "output_type": "execute_result",
          "data": {
            "text/plain": [
              "array([[0.09605419],\n",
              "       [0.09185448],\n",
              "       [0.08270357],\n",
              "       ...,\n",
              "       [0.99317021],\n",
              "       [0.99270351],\n",
              "       [1.        ]])"
            ]
          },
          "metadata": {
            "tags": []
          },
          "execution_count": 61
        }
      ]
    },
    {
      "cell_type": "code",
      "metadata": {
        "id": "-KNGRdkLorLi",
        "colab": {
          "base_uri": "https://localhost:8080/"
        },
        "outputId": "f2b32996-d7a1-4153-b1b8-89735fd5d438"
      },
      "source": [
        "train_data = scaled_data[0:training_data_size,:]\n",
        "x_train = []\n",
        "y_train = []\n",
        "for i in range(60, len(train_data)):\n",
        "  x_train.append(train_data[i-60:i,0])\n",
        "  y_train.append(train_data[i,0])\n",
        "  if i<=61:\n",
        "    print(x_train)\n",
        "    print(y_train)\n",
        "\n"
      ],
      "execution_count": null,
      "outputs": [
        {
          "output_type": "stream",
          "text": [
            "[array([0.09605419, 0.09185448, 0.08270357, 0.08082492, 0.08167938,\n",
            "       0.07670398, 0.08058859, 0.07864326, 0.06740158, 0.05780827,\n",
            "       0.07003168, 0.06796515, 0.06634104, 0.06923175, 0.07483138,\n",
            "       0.03634305, 0.0299071 , 0.035937  , 0.0410518 , 0.04017914,\n",
            "       0.03936707, 0.03823381, 0.03138579, 0.04079123, 0.04049428,\n",
            "       0.04708171, 0.05117841, 0.05417819, 0.04688778, 0.04634842,\n",
            "       0.0460939 , 0.04219719, 0.04209414, 0.0353431 , 0.03365229,\n",
            "       0.03653089, 0.03167668, 0.03541582, 0.03274932, 0.03082825,\n",
            "       0.02420445, 0.01788972, 0.02461047, 0.02128948, 0.02427111,\n",
            "       0.02496197, 0.02868899, 0.02296816, 0.02291968, 0.02543468,\n",
            "       0.03219786, 0.03950647, 0.03876107, 0.03730053, 0.03769445,\n",
            "       0.04325773, 0.04426978, 0.04279109, 0.03730053, 0.03159184])]\n",
            "[0.023259054966759424]\n",
            "[array([0.09605419, 0.09185448, 0.08270357, 0.08082492, 0.08167938,\n",
            "       0.07670398, 0.08058859, 0.07864326, 0.06740158, 0.05780827,\n",
            "       0.07003168, 0.06796515, 0.06634104, 0.06923175, 0.07483138,\n",
            "       0.03634305, 0.0299071 , 0.035937  , 0.0410518 , 0.04017914,\n",
            "       0.03936707, 0.03823381, 0.03138579, 0.04079123, 0.04049428,\n",
            "       0.04708171, 0.05117841, 0.05417819, 0.04688778, 0.04634842,\n",
            "       0.0460939 , 0.04219719, 0.04209414, 0.0353431 , 0.03365229,\n",
            "       0.03653089, 0.03167668, 0.03541582, 0.03274932, 0.03082825,\n",
            "       0.02420445, 0.01788972, 0.02461047, 0.02128948, 0.02427111,\n",
            "       0.02496197, 0.02868899, 0.02296816, 0.02291968, 0.02543468,\n",
            "       0.03219786, 0.03950647, 0.03876107, 0.03730053, 0.03769445,\n",
            "       0.04325773, 0.04426978, 0.04279109, 0.03730053, 0.03159184]), array([0.09185448, 0.08270357, 0.08082492, 0.08167938, 0.07670398,\n",
            "       0.08058859, 0.07864326, 0.06740158, 0.05780827, 0.07003168,\n",
            "       0.06796515, 0.06634104, 0.06923175, 0.07483138, 0.03634305,\n",
            "       0.0299071 , 0.035937  , 0.0410518 , 0.04017914, 0.03936707,\n",
            "       0.03823381, 0.03138579, 0.04079123, 0.04049428, 0.04708171,\n",
            "       0.05117841, 0.05417819, 0.04688778, 0.04634842, 0.0460939 ,\n",
            "       0.04219719, 0.04209414, 0.0353431 , 0.03365229, 0.03653089,\n",
            "       0.03167668, 0.03541582, 0.03274932, 0.03082825, 0.02420445,\n",
            "       0.01788972, 0.02461047, 0.02128948, 0.02427111, 0.02496197,\n",
            "       0.02868899, 0.02296816, 0.02291968, 0.02543468, 0.03219786,\n",
            "       0.03950647, 0.03876107, 0.03730053, 0.03769445, 0.04325773,\n",
            "       0.04426978, 0.04279109, 0.03730053, 0.03159184, 0.02325905])]\n",
            "[0.023259054966759424, 0.023792348797565227]\n"
          ],
          "name": "stdout"
        }
      ]
    },
    {
      "cell_type": "code",
      "metadata": {
        "colab": {
          "base_uri": "https://localhost:8080/"
        },
        "id": "lcKuIK31orOM",
        "outputId": "6023150a-53b4-499f-f527-e3d5c9764fe6"
      },
      "source": [
        "x_train,y_train = np.array(x_train),np.array(y_train)\n",
        "x_train = np.reshape(x_train, (x_train.shape[0],x_train.shape[1],1))\n",
        "x_train.shape"
      ],
      "execution_count": null,
      "outputs": [
        {
          "output_type": "execute_result",
          "data": {
            "text/plain": [
              "(1173, 60, 1)"
            ]
          },
          "metadata": {
            "tags": []
          },
          "execution_count": 63
        }
      ]
    },
    {
      "cell_type": "code",
      "metadata": {
        "id": "WK6dJPK8tF68"
      },
      "source": [
        "model =Sequential()\n",
        "model.add(LSTM(50, return_sequences=True, input_shape = (x_train.shape[1],1)))\n",
        "model.add(LSTM(50,return_sequences=False))\n",
        "model.add(Dense(25))\n",
        "model.add(Dense(1))"
      ],
      "execution_count": null,
      "outputs": []
    },
    {
      "cell_type": "code",
      "metadata": {
        "id": "Zn7FinO_tGAC"
      },
      "source": [
        "model.compile(optimizer='adam',loss='mean_squared_error')\n"
      ],
      "execution_count": null,
      "outputs": []
    },
    {
      "cell_type": "code",
      "metadata": {
        "colab": {
          "base_uri": "https://localhost:8080/"
        },
        "id": "v7WqcfpYAZR8",
        "outputId": "5aa217aa-8928-4567-9b7d-e3db4c091b60"
      },
      "source": [
        "model.fit(x_train,y_train,batch_size=1,epochs=1)"
      ],
      "execution_count": null,
      "outputs": [
        {
          "output_type": "stream",
          "text": [
            "1173/1173 [==============================] - 24s 20ms/step - loss: 3.1010e-04\n"
          ],
          "name": "stdout"
        },
        {
          "output_type": "execute_result",
          "data": {
            "text/plain": [
              "<tensorflow.python.keras.callbacks.History at 0x7efbedc19490>"
            ]
          },
          "metadata": {
            "tags": []
          },
          "execution_count": 73
        }
      ]
    },
    {
      "cell_type": "code",
      "metadata": {
        "id": "4xFEr7jXytIO"
      },
      "source": [
        "test_data = scaled_data[training_data_size - 60: ,:]\n",
        "x_test = []\n",
        "y_test = dataset[training_data_size:, :]\n",
        "for i in range(60, len(test_data)):\n",
        "  x_test.append(test_data[i-60:i,0])\n"
      ],
      "execution_count": null,
      "outputs": []
    },
    {
      "cell_type": "code",
      "metadata": {
        "id": "isjcc6CyytL8"
      },
      "source": [
        "x_test = np.array(x_test)"
      ],
      "execution_count": null,
      "outputs": []
    },
    {
      "cell_type": "code",
      "metadata": {
        "id": "Dvms-1LDytPI"
      },
      "source": [
        "x_test = np.reshape(x_test, (x_test.shape[0], x_test.shape[1],1))\n"
      ],
      "execution_count": null,
      "outputs": []
    },
    {
      "cell_type": "code",
      "metadata": {
        "id": "EvfONwcPytRq"
      },
      "source": [
        "predictions = model.predict(x_test)\n",
        "predictions = scaler.inverse_transform(predictions)"
      ],
      "execution_count": null,
      "outputs": []
    },
    {
      "cell_type": "code",
      "metadata": {
        "colab": {
          "base_uri": "https://localhost:8080/"
        },
        "id": "VRmd8Q4y5R2G",
        "outputId": "50518993-351c-4363-b4c6-7287c8b6aead"
      },
      "source": [
        "rmse = np.sqrt(np.mean(predictions - y_test)**2)\n",
        "rmse"
      ],
      "execution_count": null,
      "outputs": [
        {
          "output_type": "execute_result",
          "data": {
            "text/plain": [
              "1.6797424735444966"
            ]
          },
          "metadata": {
            "tags": []
          },
          "execution_count": 82
        }
      ]
    },
    {
      "cell_type": "code",
      "metadata": {
        "colab": {
          "base_uri": "https://localhost:8080/",
          "height": 636
        },
        "id": "o36Pmd2D5SAD",
        "outputId": "ac8b140b-d0bd-4b3f-90c1-6e3d9b6c7e11"
      },
      "source": [
        "train = data[:training_data_size]\n",
        "valid = data[training_data_size:]\n",
        "valid['predictions'] = predictions\n",
        "plt.figure(figsize=(16,8))\n",
        "plt.title('Model LSTM')\n",
        "plt.xlabel('Date',fontsize=16)\n",
        "plt.ylabel('close price ($)' ,fontsize=16)\n",
        "plt.plot(train['Close'])\n",
        "plt.plot(valid[['Close','predictions']])\n",
        "plt.legend(['Train','Val','predictions'],loc='lower right')\n",
        "plt.show\n"
      ],
      "execution_count": null,
      "outputs": [
        {
          "output_type": "stream",
          "text": [
            "/usr/local/lib/python3.7/dist-packages/ipykernel_launcher.py:3: SettingWithCopyWarning: \n",
            "A value is trying to be set on a copy of a slice from a DataFrame.\n",
            "Try using .loc[row_indexer,col_indexer] = value instead\n",
            "\n",
            "See the caveats in the documentation: https://pandas.pydata.org/pandas-docs/stable/user_guide/indexing.html#returning-a-view-versus-a-copy\n",
            "  This is separate from the ipykernel package so we can avoid doing imports until\n"
          ],
          "name": "stderr"
        },
        {
          "output_type": "execute_result",
          "data": {
            "text/plain": [
              "<function matplotlib.pyplot.show>"
            ]
          },
          "metadata": {
            "tags": []
          },
          "execution_count": 72
        },
        {
          "output_type": "display_data",
          "data": {
            "image/png": "[encoded data removed]",
            "text/plain": [
              "<Figure size 1152x576 with 1 Axes>"
            ]
          },
          "metadata": {
            "tags": [],
            "needs_background": "light"
          }
        }
      ]
    },
    {
      "cell_type": "code",
      "metadata": {
        "colab": {
          "base_uri": "https://localhost:8080/",
          "height": 428
        },
        "id": "nD5XWss5ytUQ",
        "outputId": "180f34b9-25a6-4376-f011-beec1d2bfcc9"
      },
      "source": [
        "valid"
      ],
      "execution_count": null,
      "outputs": [
        {
          "output_type": "execute_result",
          "data": {
            "text/html": [
              "<div>\n",
              "<style scoped>\n",
              "    .dataframe tbody tr th:only-of-type {\n",
              "        vertical-align: middle;\n",
              "    }\n",
              "\n",
              "    .dataframe tbody tr th {\n",
              "        vertical-align: top;\n",
              "    }\n",
              "\n",
              "    .dataframe thead th {\n",
              "        text-align: right;\n",
              "    }\n",
              "</style>\n",
              "<table border=\"1\" class=\"dataframe\">\n",
              "  <thead>\n",
              "    <tr style=\"text-align: right;\">\n",
              "      <th></th>\n",
              "      <th>Close</th>\n",
              "      <th>predictions</th>\n",
              "    </tr>\n",
              "    <tr>\n",
              "      <th>Date</th>\n",
              "      <th></th>\n",
              "      <th></th>\n",
              "    </tr>\n",
              "  </thead>\n",
              "  <tbody>\n",
              "    <tr>\n",
              "      <th>2018-08-08</th>\n",
              "      <td>51.812500</td>\n",
              "      <td>49.073017</td>\n",
              "    </tr>\n",
              "    <tr>\n",
              "      <th>2018-08-09</th>\n",
              "      <td>52.220001</td>\n",
              "      <td>49.398232</td>\n",
              "    </tr>\n",
              "    <tr>\n",
              "      <th>2018-08-10</th>\n",
              "      <td>51.882500</td>\n",
              "      <td>49.675449</td>\n",
              "    </tr>\n",
              "    <tr>\n",
              "      <th>2018-08-13</th>\n",
              "      <td>52.217499</td>\n",
              "      <td>49.858307</td>\n",
              "    </tr>\n",
              "    <tr>\n",
              "      <th>2018-08-14</th>\n",
              "      <td>52.437500</td>\n",
              "      <td>50.012093</td>\n",
              "    </tr>\n",
              "    <tr>\n",
              "      <th>...</th>\n",
              "      <td>...</td>\n",
              "      <td>...</td>\n",
              "    </tr>\n",
              "    <tr>\n",
              "      <th>2020-12-23</th>\n",
              "      <td>130.960007</td>\n",
              "      <td>113.455971</td>\n",
              "    </tr>\n",
              "    <tr>\n",
              "      <th>2020-12-24</th>\n",
              "      <td>131.970001</td>\n",
              "      <td>114.172729</td>\n",
              "    </tr>\n",
              "    <tr>\n",
              "      <th>2020-12-28</th>\n",
              "      <td>136.690002</td>\n",
              "      <td>114.871353</td>\n",
              "    </tr>\n",
              "    <tr>\n",
              "      <th>2020-12-29</th>\n",
              "      <td>134.869995</td>\n",
              "      <td>115.976967</td>\n",
              "    </tr>\n",
              "    <tr>\n",
              "      <th>2020-12-30</th>\n",
              "      <td>133.720001</td>\n",
              "      <td>116.896713</td>\n",
              "    </tr>\n",
              "  </tbody>\n",
              "</table>\n",
              "<p>604 rows × 2 columns</p>\n",
              "</div>"
            ],
            "text/plain": [
              "                 Close  predictions\n",
              "Date                               \n",
              "2018-08-08   51.812500    49.073017\n",
              "2018-08-09   52.220001    49.398232\n",
              "2018-08-10   51.882500    49.675449\n",
              "2018-08-13   52.217499    49.858307\n",
              "2018-08-14   52.437500    50.012093\n",
              "...                ...          ...\n",
              "2020-12-23  130.960007   113.455971\n",
              "2020-12-24  131.970001   114.172729\n",
              "2020-12-28  136.690002   114.871353\n",
              "2020-12-29  134.869995   115.976967\n",
              "2020-12-30  133.720001   116.896713\n",
              "\n",
              "[604 rows x 2 columns]"
            ]
          },
          "metadata": {
            "tags": []
          },
          "execution_count": 53
        }
      ]
    }
  ]
}