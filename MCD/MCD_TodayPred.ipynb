{
 "cells": [
  {
   "cell_type": "code",
   "execution_count": 1,
   "id": "closed-runner",
   "metadata": {},
   "outputs": [],
   "source": [
    "import pandas as pd\n",
    "import numpy as np\n",
    "from sklearn.model_selection import train_test_split\n",
    "import pickle"
   ]
  },
  {
   "cell_type": "code",
   "execution_count": 21,
   "id": "unexpected-guidance",
   "metadata": {},
   "outputs": [],
   "source": [
    "df=pd.read_csv(\"C:\\\\Users\\\\Purushoth\\\\Desktop\\\\MCD\\\\MCD.csv\")"
   ]
  },
  {
   "cell_type": "code",
   "execution_count": 22,
   "id": "arctic-harmony",
   "metadata": {},
   "outputs": [
    {
     "data": {
      "text/html": [
       "<div>\n",
       "<style scoped>\n",
       "    .dataframe tbody tr th:only-of-type {\n",
       "        vertical-align: middle;\n",
       "    }\n",
       "\n",
       "    .dataframe tbody tr th {\n",
       "        vertical-align: top;\n",
       "    }\n",
       "\n",
       "    .dataframe thead th {\n",
       "        text-align: right;\n",
       "    }\n",
       "</style>\n",
       "<table border=\"1\" class=\"dataframe\">\n",
       "  <thead>\n",
       "    <tr style=\"text-align: right;\">\n",
       "      <th></th>\n",
       "      <th>Date</th>\n",
       "      <th>Open</th>\n",
       "      <th>High</th>\n",
       "      <th>Low</th>\n",
       "      <th>Close</th>\n",
       "      <th>Adj Close</th>\n",
       "      <th>Volume</th>\n",
       "    </tr>\n",
       "  </thead>\n",
       "  <tbody>\n",
       "    <tr>\n",
       "      <th>0</th>\n",
       "      <td>2000-01-14</td>\n",
       "      <td>42.8125</td>\n",
       "      <td>42.8125</td>\n",
       "      <td>41.8750</td>\n",
       "      <td>42.609375</td>\n",
       "      <td>25.207626</td>\n",
       "      <td>3365400</td>\n",
       "    </tr>\n",
       "    <tr>\n",
       "      <th>1</th>\n",
       "      <td>2000-01-18</td>\n",
       "      <td>42.3750</td>\n",
       "      <td>42.5000</td>\n",
       "      <td>41.1875</td>\n",
       "      <td>41.500000</td>\n",
       "      <td>24.551327</td>\n",
       "      <td>3401100</td>\n",
       "    </tr>\n",
       "    <tr>\n",
       "      <th>2</th>\n",
       "      <td>2000-01-19</td>\n",
       "      <td>41.0000</td>\n",
       "      <td>42.6250</td>\n",
       "      <td>41.0000</td>\n",
       "      <td>42.375000</td>\n",
       "      <td>25.068975</td>\n",
       "      <td>3344700</td>\n",
       "    </tr>\n",
       "    <tr>\n",
       "      <th>3</th>\n",
       "      <td>2000-01-20</td>\n",
       "      <td>42.5625</td>\n",
       "      <td>42.5625</td>\n",
       "      <td>41.0000</td>\n",
       "      <td>42.562500</td>\n",
       "      <td>25.179888</td>\n",
       "      <td>3309700</td>\n",
       "    </tr>\n",
       "    <tr>\n",
       "      <th>4</th>\n",
       "      <td>2000-01-21</td>\n",
       "      <td>41.6250</td>\n",
       "      <td>41.8750</td>\n",
       "      <td>40.4375</td>\n",
       "      <td>41.062500</td>\n",
       "      <td>24.292494</td>\n",
       "      <td>3722600</td>\n",
       "    </tr>\n",
       "  </tbody>\n",
       "</table>\n",
       "</div>"
      ],
      "text/plain": [
       "         Date     Open     High      Low      Close  Adj Close   Volume\n",
       "0  2000-01-14  42.8125  42.8125  41.8750  42.609375  25.207626  3365400\n",
       "1  2000-01-18  42.3750  42.5000  41.1875  41.500000  24.551327  3401100\n",
       "2  2000-01-19  41.0000  42.6250  41.0000  42.375000  25.068975  3344700\n",
       "3  2000-01-20  42.5625  42.5625  41.0000  42.562500  25.179888  3309700\n",
       "4  2000-01-21  41.6250  41.8750  40.4375  41.062500  24.292494  3722600"
      ]
     },
     "execution_count": 22,
     "metadata": {},
     "output_type": "execute_result"
    }
   ],
   "source": [
    "df.head()"
   ]
  },
  {
   "cell_type": "code",
   "execution_count": 23,
   "id": "opposite-device",
   "metadata": {},
   "outputs": [
    {
     "data": {
      "text/plain": [
       "(5344, 7)"
      ]
     },
     "execution_count": 23,
     "metadata": {},
     "output_type": "execute_result"
    }
   ],
   "source": [
    "df.shape"
   ]
  },
  {
   "cell_type": "code",
   "execution_count": 24,
   "id": "powerful-aggregate",
   "metadata": {},
   "outputs": [],
   "source": [
    "del df['Date'],\n",
    "del df['Adj Close']"
   ]
  },
  {
   "cell_type": "code",
   "execution_count": 25,
   "id": "located-motorcycle",
   "metadata": {},
   "outputs": [],
   "source": [
    "X=df\n",
    "X=np.array(X.drop(['Close'],1))\n",
    "y=np.array(df['Close'])"
   ]
  },
  {
   "cell_type": "code",
   "execution_count": 26,
   "id": "collaborative-liabilities",
   "metadata": {},
   "outputs": [],
   "source": [
    "xtrain, xtest, ytrain, ytest = train_test_split(X,y,test_size=0.2,random_state=250)"
   ]
  },
  {
   "cell_type": "code",
   "execution_count": 27,
   "id": "quarterly-harmony",
   "metadata": {},
   "outputs": [
    {
     "data": {
      "text/plain": [
       "(4275, 4)"
      ]
     },
     "execution_count": 27,
     "metadata": {},
     "output_type": "execute_result"
    }
   ],
   "source": [
    "xtrain.shape"
   ]
  },
  {
   "cell_type": "code",
   "execution_count": 28,
   "id": "amino-alpha",
   "metadata": {},
   "outputs": [
    {
     "data": {
      "text/plain": [
       "(4275,)"
      ]
     },
     "execution_count": 28,
     "metadata": {},
     "output_type": "execute_result"
    }
   ],
   "source": [
    "ytrain.shape"
   ]
  },
  {
   "cell_type": "code",
   "execution_count": 29,
   "id": "academic-power",
   "metadata": {},
   "outputs": [
    {
     "data": {
      "text/plain": [
       "(1069, 4)"
      ]
     },
     "execution_count": 29,
     "metadata": {},
     "output_type": "execute_result"
    }
   ],
   "source": [
    "xtest.shape\n"
   ]
  },
  {
   "cell_type": "code",
   "execution_count": 30,
   "id": "intelligent-prerequisite",
   "metadata": {},
   "outputs": [
    {
     "data": {
      "text/plain": [
       "(1069,)"
      ]
     },
     "execution_count": 30,
     "metadata": {},
     "output_type": "execute_result"
    }
   ],
   "source": [
    "ytest.shape"
   ]
  },
  {
   "cell_type": "markdown",
   "id": "sharp-limitation",
   "metadata": {},
   "source": [
    "# Random forest"
   ]
  },
  {
   "cell_type": "code",
   "execution_count": 31,
   "id": "comfortable-regulation",
   "metadata": {},
   "outputs": [],
   "source": [
    "from sklearn.ensemble import RandomForestRegressor"
   ]
  },
  {
   "cell_type": "code",
   "execution_count": 32,
   "id": "supposed-better",
   "metadata": {},
   "outputs": [
    {
     "data": {
      "text/plain": [
       "RandomForestRegressor()"
      ]
     },
     "execution_count": 32,
     "metadata": {},
     "output_type": "execute_result"
    }
   ],
   "source": [
    "rf = RandomForestRegressor()\n",
    "rf.fit(xtrain, ytrain)"
   ]
  },
  {
   "cell_type": "code",
   "execution_count": 33,
   "id": "intimate-forty",
   "metadata": {},
   "outputs": [
    {
     "data": {
      "text/plain": [
       "array([112.23099957,  53.77330051,  96.00009983, ...,  58.12770046,\n",
       "        66.7406001 ,  96.71919975])"
      ]
     },
     "execution_count": 33,
     "metadata": {},
     "output_type": "execute_result"
    }
   ],
   "source": [
    "rf_predictions = rf.predict(xtest)\n",
    "rf_predictions"
   ]
  },
  {
   "cell_type": "code",
   "execution_count": 34,
   "id": "adjacent-compromise",
   "metadata": {},
   "outputs": [],
   "source": [
    "def mda(ytest:np.ndarray,predicted:np.ndarray):\n",
    "    \"\"\" Mean Directional Accuracy \"\"\"\n",
    "    return np.mean((np.sign(ytest[1:]-ytest[:-1])== np.sign(predicted[1:]- predicted[:-1])).astype(int))"
   ]
  },
  {
   "cell_type": "code",
   "execution_count": 35,
   "id": "wrong-theorem",
   "metadata": {},
   "outputs": [],
   "source": [
    "def MAPE(ytest:np.ndarray,predicted:np.ndarray):\n",
    "    \"\"\" Mean Absolute Percentage Error \"\"\"\n",
    "    mape = np.mean(np.abs((ytest - predicted)/ytest))*100\n",
    "    return mape"
   ]
  },
  {
   "cell_type": "code",
   "execution_count": 64,
   "id": "brutal-produce",
   "metadata": {},
   "outputs": [
    {
     "name": "stdout",
     "output_type": "stream",
     "text": [
      "Mean Absolute Error: 0.3755647014406012\n",
      "Mean r2 score: 0.9998795484687568\n",
      "Mean Squared Error: 0.3969994663461301\n",
      "Root Mean Squared Error: 0.6300789365993201\n",
      "Mean Directional Accuracy: 0.9962546816479401\n",
      "Mean Absolute Percentage Error: 0.5211655490356882\n",
      "0.38\n",
      "1.00\n",
      "0.40\n",
      "0.63\n",
      "1.00\n",
      "0.52\n"
     ]
    }
   ],
   "source": [
    "from sklearn import metrics\n",
    "\n",
    "\n",
    "print('Mean Absolute Error:', metrics.mean_absolute_error(ytest, rf_predictions))\n",
    "print('Mean r2 score:', metrics.r2_score(ytest, rf_predictions))\n",
    "print('Mean Squared Error:', metrics.mean_squared_error(ytest, rf_predictions))\n",
    "print('Root Mean Squared Error:', np.sqrt(metrics.mean_squared_error(ytest, rf_predictions)))\n",
    "print('Mean Directional Accuracy:', mda(ytest, rf_predictions))\n",
    "print ('Mean Absolute Percentage Error:', MAPE(ytest,rf_predictions))\n",
    "\n",
    "a = metrics.mean_absolute_error(ytest, rf_predictions)\n",
    "b = metrics.mean_squared_error(ytest, rf_predictions)\n",
    "c = np.sqrt(metrics.mean_squared_error(ytest, rf_predictions))\n",
    "d = mda(ytest, rf_predictions)\n",
    "e = MAPE(ytest,rf_predictions)\n",
    "f= metrics.r2_score(ytest, rf_predictions)\n",
    "\n",
    "print('%.2f'%a)\n",
    "print('%.2f'%f)\n",
    "print('%.2f'%b)\n",
    "print('%.2f'%c)\n",
    "print('%.2f'%d)\n",
    "print('%.2f'%e)"
   ]
  },
  {
   "cell_type": "code",
   "execution_count": null,
   "id": "variable-breath",
   "metadata": {},
   "outputs": [],
   "source": []
  },
  {
   "cell_type": "markdown",
   "id": "searching-colors",
   "metadata": {},
   "source": [
    "# Predicting inputs"
   ]
  },
  {
   "cell_type": "code",
   "execution_count": 57,
   "id": "dependent-ireland",
   "metadata": {},
   "outputs": [
    {
     "data": {
      "text/plain": [
       "array([230.98819858])"
      ]
     },
     "execution_count": 57,
     "metadata": {},
     "output_type": "execute_result"
    }
   ],
   "source": [
    "rf.predict([[230.44,231.66,229.69,2570900]])"
   ]
  },
  {
   "cell_type": "markdown",
   "id": "introductory-productivity",
   "metadata": {},
   "source": [
    "# Graph"
   ]
  },
  {
   "cell_type": "code",
   "execution_count": 69,
   "id": "proud-civilian",
   "metadata": {},
   "outputs": [],
   "source": [
    "import matplotlib.pyplot as plt\n"
   ]
  },
  {
   "cell_type": "code",
   "execution_count": 70,
   "id": "emerging-flesh",
   "metadata": {},
   "outputs": [],
   "source": [
    "newdf=pd.read_csv(\"C:\\\\Users\\\\Purushoth\\\\Desktop\\\\MCD\\\\MCD.csv\")"
   ]
  },
  {
   "cell_type": "code",
   "execution_count": 71,
   "id": "aggregate-bargain",
   "metadata": {},
   "outputs": [
    {
     "data": {
      "text/html": [
       "<div>\n",
       "<style scoped>\n",
       "    .dataframe tbody tr th:only-of-type {\n",
       "        vertical-align: middle;\n",
       "    }\n",
       "\n",
       "    .dataframe tbody tr th {\n",
       "        vertical-align: top;\n",
       "    }\n",
       "\n",
       "    .dataframe thead th {\n",
       "        text-align: right;\n",
       "    }\n",
       "</style>\n",
       "<table border=\"1\" class=\"dataframe\">\n",
       "  <thead>\n",
       "    <tr style=\"text-align: right;\">\n",
       "      <th></th>\n",
       "      <th>Date</th>\n",
       "      <th>Open</th>\n",
       "      <th>High</th>\n",
       "      <th>Low</th>\n",
       "      <th>Close</th>\n",
       "      <th>Adj Close</th>\n",
       "      <th>Volume</th>\n",
       "    </tr>\n",
       "  </thead>\n",
       "  <tbody>\n",
       "    <tr>\n",
       "      <th>0</th>\n",
       "      <td>2000-01-14</td>\n",
       "      <td>42.8125</td>\n",
       "      <td>42.8125</td>\n",
       "      <td>41.8750</td>\n",
       "      <td>42.609375</td>\n",
       "      <td>25.207626</td>\n",
       "      <td>3365400</td>\n",
       "    </tr>\n",
       "    <tr>\n",
       "      <th>1</th>\n",
       "      <td>2000-01-18</td>\n",
       "      <td>42.3750</td>\n",
       "      <td>42.5000</td>\n",
       "      <td>41.1875</td>\n",
       "      <td>41.500000</td>\n",
       "      <td>24.551327</td>\n",
       "      <td>3401100</td>\n",
       "    </tr>\n",
       "    <tr>\n",
       "      <th>2</th>\n",
       "      <td>2000-01-19</td>\n",
       "      <td>41.0000</td>\n",
       "      <td>42.6250</td>\n",
       "      <td>41.0000</td>\n",
       "      <td>42.375000</td>\n",
       "      <td>25.068975</td>\n",
       "      <td>3344700</td>\n",
       "    </tr>\n",
       "    <tr>\n",
       "      <th>3</th>\n",
       "      <td>2000-01-20</td>\n",
       "      <td>42.5625</td>\n",
       "      <td>42.5625</td>\n",
       "      <td>41.0000</td>\n",
       "      <td>42.562500</td>\n",
       "      <td>25.179888</td>\n",
       "      <td>3309700</td>\n",
       "    </tr>\n",
       "    <tr>\n",
       "      <th>4</th>\n",
       "      <td>2000-01-21</td>\n",
       "      <td>41.6250</td>\n",
       "      <td>41.8750</td>\n",
       "      <td>40.4375</td>\n",
       "      <td>41.062500</td>\n",
       "      <td>24.292494</td>\n",
       "      <td>3722600</td>\n",
       "    </tr>\n",
       "  </tbody>\n",
       "</table>\n",
       "</div>"
      ],
      "text/plain": [
       "         Date     Open     High      Low      Close  Adj Close   Volume\n",
       "0  2000-01-14  42.8125  42.8125  41.8750  42.609375  25.207626  3365400\n",
       "1  2000-01-18  42.3750  42.5000  41.1875  41.500000  24.551327  3401100\n",
       "2  2000-01-19  41.0000  42.6250  41.0000  42.375000  25.068975  3344700\n",
       "3  2000-01-20  42.5625  42.5625  41.0000  42.562500  25.179888  3309700\n",
       "4  2000-01-21  41.6250  41.8750  40.4375  41.062500  24.292494  3722600"
      ]
     },
     "execution_count": 71,
     "metadata": {},
     "output_type": "execute_result"
    }
   ],
   "source": [
    "newdf.head()"
   ]
  },
  {
   "cell_type": "code",
   "execution_count": 72,
   "id": "confidential-barrier",
   "metadata": {},
   "outputs": [],
   "source": [
    "keep_columns=['Open','High','Low','Volume']\n",
    "newxval=newdf[keep_columns]"
   ]
  },
  {
   "cell_type": "code",
   "execution_count": 73,
   "id": "diverse-compiler",
   "metadata": {},
   "outputs": [
    {
     "data": {
      "text/plain": [
       "array([ 42.54361249,  41.69079386,  42.09669986, ..., 231.0211971 ,\n",
       "       230.98300408, 230.98819858])"
      ]
     },
     "execution_count": 73,
     "metadata": {},
     "output_type": "execute_result"
    }
   ],
   "source": [
    "predictions = rf.predict(newxval)\n",
    "# print(list(newdf['Date']))\n",
    "# print(list(newdf['Close']))\n",
    "predictions"
   ]
  },
  {
   "cell_type": "code",
   "execution_count": 74,
   "id": "bizarre-arcade",
   "metadata": {},
   "outputs": [
    {
     "data": {
      "text/plain": [
       "<matplotlib.legend.Legend at 0x19e17c22488>"
      ]
     },
     "execution_count": 74,
     "metadata": {},
     "output_type": "execute_result"
    },
    {
     "data": {
      "image/png": "[encoded data removed]",
      "text/plain": [
       "<Figure size 720x360 with 1 Axes>"
      ]
     },
     "metadata": {
      "needs_background": "light"
     },
     "output_type": "display_data"
    }
   ],
   "source": [
    "plt.figure(figsize=(10,5))\n",
    "plt.plot(newdf['Date'],newdf['Close'], label ='Actual Value')\n",
    "plt.plot(newdf['Date'],predictions, label ='Predicted Value')\n",
    "plt.xlabel('Date')\n",
    "plt.ylabel('Closing value')\n",
    "plt.title(\"Actual Vs Predicted Values for Apple Today's Closing Value\")\n",
    "plt.legend()"
   ]
  },
  {
   "cell_type": "code",
   "execution_count": 75,
   "id": "usual-debut",
   "metadata": {},
   "outputs": [],
   "source": [
    "from sklearn.metrics import plot_roc_curve"
   ]
  },
  {
   "cell_type": "code",
   "execution_count": 76,
   "id": "exotic-momentum",
   "metadata": {},
   "outputs": [
    {
     "ename": "ValueError",
     "evalue": "RandomForestRegressor should be a binary classifier",
     "output_type": "error",
     "traceback": [
      "\u001b[1;31m---------------------------------------------------------------------------\u001b[0m",
      "\u001b[1;31mValueError\u001b[0m                                Traceback (most recent call last)",
      "\u001b[1;32m<ipython-input-76-d13975550a75>\u001b[0m in \u001b[0;36m<module>\u001b[1;34m\u001b[0m\n\u001b[1;32m----> 1\u001b[1;33m \u001b[0mplot_roc_curve\u001b[0m\u001b[1;33m(\u001b[0m\u001b[0mrf\u001b[0m\u001b[1;33m,\u001b[0m\u001b[0mxtrain\u001b[0m\u001b[1;33m,\u001b[0m\u001b[0mytrain\u001b[0m\u001b[1;33m)\u001b[0m\u001b[1;33m\u001b[0m\u001b[1;33m\u001b[0m\u001b[0m\n\u001b[0m",
      "\u001b[1;32mD:\\Applications\\Softwares\\JupyterN\\envs\\tenserflow\\lib\\site-packages\\sklearn\\utils\\validation.py\u001b[0m in \u001b[0;36minner_f\u001b[1;34m(*args, **kwargs)\u001b[0m\n\u001b[0;32m     70\u001b[0m                           FutureWarning)\n\u001b[0;32m     71\u001b[0m         \u001b[0mkwargs\u001b[0m\u001b[1;33m.\u001b[0m\u001b[0mupdate\u001b[0m\u001b[1;33m(\u001b[0m\u001b[1;33m{\u001b[0m\u001b[0mk\u001b[0m\u001b[1;33m:\u001b[0m \u001b[0marg\u001b[0m \u001b[1;32mfor\u001b[0m \u001b[0mk\u001b[0m\u001b[1;33m,\u001b[0m \u001b[0marg\u001b[0m \u001b[1;32min\u001b[0m \u001b[0mzip\u001b[0m\u001b[1;33m(\u001b[0m\u001b[0msig\u001b[0m\u001b[1;33m.\u001b[0m\u001b[0mparameters\u001b[0m\u001b[1;33m,\u001b[0m \u001b[0margs\u001b[0m\u001b[1;33m)\u001b[0m\u001b[1;33m}\u001b[0m\u001b[1;33m)\u001b[0m\u001b[1;33m\u001b[0m\u001b[1;33m\u001b[0m\u001b[0m\n\u001b[1;32m---> 72\u001b[1;33m         \u001b[1;32mreturn\u001b[0m \u001b[0mf\u001b[0m\u001b[1;33m(\u001b[0m\u001b[1;33m**\u001b[0m\u001b[0mkwargs\u001b[0m\u001b[1;33m)\u001b[0m\u001b[1;33m\u001b[0m\u001b[1;33m\u001b[0m\u001b[0m\n\u001b[0m\u001b[0;32m     73\u001b[0m     \u001b[1;32mreturn\u001b[0m \u001b[0minner_f\u001b[0m\u001b[1;33m\u001b[0m\u001b[1;33m\u001b[0m\u001b[0m\n\u001b[0;32m     74\u001b[0m \u001b[1;33m\u001b[0m\u001b[0m\n",
      "\u001b[1;32mD:\\Applications\\Softwares\\JupyterN\\envs\\tenserflow\\lib\\site-packages\\sklearn\\metrics\\_plot\\roc_curve.py\u001b[0m in \u001b[0;36mplot_roc_curve\u001b[1;34m(estimator, X, y, sample_weight, drop_intermediate, response_method, name, ax, **kwargs)\u001b[0m\n\u001b[0;32m    180\u001b[0m     )\n\u001b[0;32m    181\u001b[0m     \u001b[1;32mif\u001b[0m \u001b[1;32mnot\u001b[0m \u001b[0mis_classifier\u001b[0m\u001b[1;33m(\u001b[0m\u001b[0mestimator\u001b[0m\u001b[1;33m)\u001b[0m\u001b[1;33m:\u001b[0m\u001b[1;33m\u001b[0m\u001b[1;33m\u001b[0m\u001b[0m\n\u001b[1;32m--> 182\u001b[1;33m         \u001b[1;32mraise\u001b[0m \u001b[0mValueError\u001b[0m\u001b[1;33m(\u001b[0m\u001b[0mclassification_error\u001b[0m\u001b[1;33m)\u001b[0m\u001b[1;33m\u001b[0m\u001b[1;33m\u001b[0m\u001b[0m\n\u001b[0m\u001b[0;32m    183\u001b[0m \u001b[1;33m\u001b[0m\u001b[0m\n\u001b[0;32m    184\u001b[0m     prediction_method = _check_classifer_response_method(estimator,\n",
      "\u001b[1;31mValueError\u001b[0m: RandomForestRegressor should be a binary classifier"
     ]
    }
   ],
   "source": [
    "plot_roc_curve(rf,xtrain,ytrain)"
   ]
  },
  {
   "cell_type": "markdown",
   "id": "worthy-geometry",
   "metadata": {},
   "source": [
    "\n",
    "# XGBoost"
   ]
  },
  {
   "cell_type": "code",
   "execution_count": 51,
   "id": "asian-westminster",
   "metadata": {},
   "outputs": [],
   "source": [
    "from xgboost import XGBRegressor"
   ]
  },
  {
   "cell_type": "code",
   "execution_count": 52,
   "id": "qualified-avenue",
   "metadata": {},
   "outputs": [
    {
     "name": "stdout",
     "output_type": "stream",
     "text": [
      "[10:42:12] WARNING: src/objective/regression_obj.cu:152: reg:linear is now deprecated in favor of reg:squarederror.\n"
     ]
    },
    {
     "data": {
      "text/plain": [
       "XGBRegressor()"
      ]
     },
     "execution_count": 52,
     "metadata": {},
     "output_type": "execute_result"
    }
   ],
   "source": [
    "xgb = XGBRegressor()\n",
    "xgb.fit(xtrain,ytrain)"
   ]
  },
  {
   "cell_type": "code",
   "execution_count": 53,
   "id": "generic-commander",
   "metadata": {},
   "outputs": [
    {
     "data": {
      "text/plain": [
       "array([113.78432 ,  53.197014,  96.082275, ...,  57.7536  ,  66.61371 ,\n",
       "        96.48894 ], dtype=float32)"
      ]
     },
     "execution_count": 53,
     "metadata": {},
     "output_type": "execute_result"
    }
   ],
   "source": [
    "xgb_predictions = xgb.predict(xtest)\n",
    "xgb_predictions"
   ]
  },
  {
   "cell_type": "code",
   "execution_count": 54,
   "id": "encouraging-thing",
   "metadata": {},
   "outputs": [
    {
     "name": "stdout",
     "output_type": "stream",
     "text": [
      "Mean Absolute Error: 0.5195850390100293\n",
      "Mean Squared Error: 0.5865780304352233\n",
      "Root Mean Squared Error: 0.7658838230666732\n",
      "Mean Directional Accuracy: 0.9943820224719101\n",
      "Mean r2 score: 0.9998220294283772\n"
     ]
    }
   ],
   "source": [
    "print('Mean Absolute Error:', metrics.mean_absolute_error(ytest, xgb_predictions))\n",
    "print('Mean Squared Error:', metrics.mean_squared_error(ytest, xgb_predictions))\n",
    "print('Root Mean Squared Error:', np.sqrt(metrics.mean_squared_error(ytest, xgb_predictions)))\n",
    "print('Mean Directional Accuracy:', mda(ytest, xgb_predictions))\n",
    "print('Mean r2 score:', metrics.r2_score(ytest, xgb_predictions))"
   ]
  },
  {
   "cell_type": "code",
   "execution_count": null,
   "id": "dried-platinum",
   "metadata": {},
   "outputs": [],
   "source": []
  },
  {
   "cell_type": "markdown",
   "id": "gross-neutral",
   "metadata": {},
   "source": [
    "# SVM"
   ]
  },
  {
   "cell_type": "code",
   "execution_count": 47,
   "id": "annual-richards",
   "metadata": {},
   "outputs": [],
   "source": [
    "from sklearn.svm import SVR"
   ]
  },
  {
   "cell_type": "code",
   "execution_count": 48,
   "id": "thrown-mayor",
   "metadata": {},
   "outputs": [
    {
     "data": {
      "text/plain": [
       "SVR()"
      ]
     },
     "execution_count": 48,
     "metadata": {},
     "output_type": "execute_result"
    }
   ],
   "source": [
    "svm = SVR()\n",
    "svm.fit(xtrain,ytrain)"
   ]
  },
  {
   "cell_type": "code",
   "execution_count": 49,
   "id": "jewish-profit",
   "metadata": {},
   "outputs": [
    {
     "data": {
      "text/plain": [
       "array([90.0591807 , 60.33405718, 57.54815616, ..., 56.12025978,\n",
       "       71.67972183, 68.5929779 ])"
      ]
     },
     "execution_count": 49,
     "metadata": {},
     "output_type": "execute_result"
    }
   ],
   "source": [
    "svm_predictions = svm.predict(xtest)\n",
    "svm_predictions\n"
   ]
  },
  {
   "cell_type": "code",
   "execution_count": 50,
   "id": "blank-voltage",
   "metadata": {},
   "outputs": [
    {
     "name": "stdout",
     "output_type": "stream",
     "text": [
      "Mean Absolute Error: 40.81216396677321\n",
      "Mean Squared Error: 2661.0306186703633\n",
      "Root Mean Squared Error: 51.58517828475892\n",
      "Mean Directional Accuracy: 0.6217228464419475\n",
      "Mean r2 score: 0.1926306207562537\n"
     ]
    }
   ],
   "source": [
    "print('Mean Absolute Error:', metrics.mean_absolute_error(ytest, svm_predictions))\n",
    "print('Mean Squared Error:', metrics.mean_squared_error(ytest, svm_predictions))\n",
    "print('Root Mean Squared Error:', np.sqrt(metrics.mean_squared_error(ytest, svm_predictions)))\n",
    "print('Mean Directional Accuracy:', mda(ytest, svm_predictions))\n",
    "print('Mean r2 score:', metrics.r2_score(ytest, svm_predictions))"
   ]
  },
  {
   "cell_type": "code",
   "execution_count": null,
   "id": "sublime-vegetation",
   "metadata": {},
   "outputs": [],
   "source": []
  }
 ],
 "metadata": {
  "kernelspec": {
   "display_name": "Python 3",
   "language": "python",
   "name": "python3"
  },
  "language_info": {
   "codemirror_mode": {
    "name": "ipython",
    "version": 3
   },
   "file_extension": ".py",
   "mimetype": "text/x-python",
   "name": "python",
   "nbconvert_exporter": "python",
   "pygments_lexer": "ipython3",
   "version": "3.7.9"
  }
 },
 "nbformat": 4,
 "nbformat_minor": 5
}
