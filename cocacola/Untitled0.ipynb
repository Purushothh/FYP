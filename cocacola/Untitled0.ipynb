{
  "nbformat": 4,
  "nbformat_minor": 0,
  "metadata": {
    "colab": {
      "name": "Untitled0.ipynb",
      "provenance": [],
      "collapsed_sections": []
    },
    "kernelspec": {
      "name": "python3",
      "display_name": "Python 3"
    }
  },
  "cells": [
    {
      "cell_type": "code",
      "metadata": {
        "id": "VfHZMW2zxzUP"
      },
      "source": [
        "from sklearn.svm import SVR\r\n",
        "import numpy as np\r\n",
        "import pandas as pd\r\n",
        "import matplotlib.pyplot as plt\r\n",
        "plt.style.use('fivethirtyeight')"
      ],
      "execution_count": 2,
      "outputs": []
    },
    {
      "cell_type": "code",
      "metadata": {
        "colab": {
          "resources": {
            "http://localhost:8080/nbextensions/google.colab/files.js": {
              "data": "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",
              "ok": true,
              "headers": [
                [
                  "content-type",
                  "application/javascript"
                ]
              ],
              "status": 200,
              "status_text": ""
            }
          },
          "base_uri": "https://localhost:8080/",
          "height": 109
        },
        "id": "CUyii7z90bfO",
        "outputId": "b712c66b-26f0-4911-d231-12abd8d9cadd"
      },
      "source": [
        "from google.colab import files\r\n",
        "files.upload()"
      ],
      "execution_count": 58,
      "outputs": [
        {
          "output_type": "display_data",
          "data": {
            "text/html": [
              "\n",
              "     <input type=\"file\" id=\"files-8812cfb7-de0e-4493-9a07-b3bf6f4de084\" name=\"files[]\" multiple disabled\n",
              "        style=\"border:none\" />\n",
              "     <output id=\"result-8812cfb7-de0e-4493-9a07-b3bf6f4de084\">\n",
              "      Upload widget is only available when the cell has been executed in the\n",
              "      current browser session. Please rerun this cell to enable.\n",
              "      </output>\n",
              "      <script src=\"/nbextensions/google.colab/files.js\"></script> "
            ],
            "text/plain": [
              "<IPython.core.display.HTML object>"
            ]
          },
          "metadata": {
            "tags": []
          }
        },
        {
          "output_type": "stream",
          "text": [
            "Saving KO.csv to KO (2).csv\n"
          ],
          "name": "stdout"
        },
        {
          "output_type": "execute_result",
          "data": {
            "text/plain": [
              "{'KO.csv': b'Date,Open,High,Low,Close,Adj Close,Volume\\r\\n2/24/2020,59.110001,59.799999,58.57,58.650002,56.70937,14415500\\r\\n2/25/2020,58.700001,59.200001,57.619999,57.82,55.906826,15915100\\r\\n2/26/2020,57.98,58.470001,57.48,57.599998,55.694111,15837800\\r\\n2/27/2020,57.150002,57.889999,54.880001,54.93,53.112457,23754000\\r\\n2/28/2020,53.830002,53.889999,51.580002,53.490002,51.720104,40891800\\r\\n3/2/2020,53.93,55.959999,53.700001,55.919998,54.069698,25698600\\r\\n3/3/2020,56.759998,57.490002,55.639999,56.060001,54.205067,27099200\\r\\n3/4/2020,56.41,59,56.41,58.919998,56.970428,20526100\\r\\n3/5/2020,57.799999,58.169998,56.189999,56.740002,54.862564,17948500\\r\\n3/6/2020,54.939999,55.91,53.98,55.259998,53.431538,22353900\\r\\n3/9/2020,52.049999,53.580002,51.48,51.860001,50.144035,27898300\\r\\n3/10/2020,53.220001,53.799999,51.169998,53.66,51.884476,27457400\\r\\n3/11/2020,52.349998,52.650002,51.139999,52.209999,50.482456,22653900\\r\\n3/12/2020,48.540001,49.93,46.689999,47.16,45.599552,31913100\\r\\n3/13/2020,49.509998,49.560001,46.610001,48.470001,47.277225,33697200\\r\\n3/16/2020,42.240002,47.880001,41.169998,45.259998,44.146214,28682300\\r\\n3/17/2020,45.880001,47.5,45.369999,47.18,46.01897,32106700\\r\\n3/18/2020,44.740002,45.150002,41.59,44.849998,43.746311,35408300\\r\\n3/19/2020,44.360001,44.66,41.040001,41.830002,40.800629,41956900\\r\\n3/20/2020,41.950001,42.07,37.509998,38.299999,37.357494,51513500\\r\\n3/23/2020,38.759998,38.889999,36.27,37.560001,36.635704,44978500\\r\\n3/24/2020,41.220001,41.400002,38.830002,39.450001,38.479195,49096200\\r\\n3/25/2020,40.630001,43.450001,39.91,41.610001,40.58604,42511700\\r\\n3/26/2020,42.84,45.27,42.450001,44.290001,43.200092,37821700\\r\\n3/27/2020,43.66,44.029999,42.400002,42.810001,41.756512,23297900\\r\\n3/30/2020,43.040001,45.560001,43.040001,45,43.892616,23446000\\r\\n3/31/2020,45.07,45.509998,44.060001,44.25,43.161076,25373900\\r\\n4/1/2020,42.48,43.650002,41.799999,42.119999,41.083488,21936400\\r\\n4/2/2020,42.220001,44.189999,41.860001,43.950001,42.868454,17621900\\r\\n4/3/2020,43.580002,44.34,43.310001,43.830002,42.751411,14207100\\r\\n'}"
            ]
          },
          "metadata": {
            "tags": []
          },
          "execution_count": 58
        }
      ]
    },
    {
      "cell_type": "code",
      "metadata": {
        "colab": {
          "base_uri": "https://localhost:8080/",
          "height": 419
        },
        "id": "RiNYzoON03fd",
        "outputId": "330f8d8b-e270-4e9f-de93-4640bd73bcc4"
      },
      "source": [
        "df = pd.read_csv('KO.csv')\r\n",
        "df\r\n",
        "\r\n"
      ],
      "execution_count": 57,
      "outputs": [
        {
          "output_type": "execute_result",
          "data": {
            "text/html": [
              "<div>\n",
              "<style scoped>\n",
              "    .dataframe tbody tr th:only-of-type {\n",
              "        vertical-align: middle;\n",
              "    }\n",
              "\n",
              "    .dataframe tbody tr th {\n",
              "        vertical-align: top;\n",
              "    }\n",
              "\n",
              "    .dataframe thead th {\n",
              "        text-align: right;\n",
              "    }\n",
              "</style>\n",
              "<table border=\"1\" class=\"dataframe\">\n",
              "  <thead>\n",
              "    <tr style=\"text-align: right;\">\n",
              "      <th></th>\n",
              "      <th>Date</th>\n",
              "      <th>Open</th>\n",
              "      <th>High</th>\n",
              "      <th>Low</th>\n",
              "      <th>Close</th>\n",
              "      <th>Adj Close</th>\n",
              "      <th>Volume</th>\n",
              "    </tr>\n",
              "  </thead>\n",
              "  <tbody>\n",
              "    <tr>\n",
              "      <th>0</th>\n",
              "      <td>2020-02-24</td>\n",
              "      <td>59.110001</td>\n",
              "      <td>59.799999</td>\n",
              "      <td>58.570000</td>\n",
              "      <td>58.650002</td>\n",
              "      <td>56.709370</td>\n",
              "      <td>14415500</td>\n",
              "    </tr>\n",
              "    <tr>\n",
              "      <th>1</th>\n",
              "      <td>2020-02-25</td>\n",
              "      <td>58.700001</td>\n",
              "      <td>59.200001</td>\n",
              "      <td>57.619999</td>\n",
              "      <td>57.820000</td>\n",
              "      <td>55.906826</td>\n",
              "      <td>15915100</td>\n",
              "    </tr>\n",
              "    <tr>\n",
              "      <th>2</th>\n",
              "      <td>2020-02-26</td>\n",
              "      <td>57.980000</td>\n",
              "      <td>58.470001</td>\n",
              "      <td>57.480000</td>\n",
              "      <td>57.599998</td>\n",
              "      <td>55.694111</td>\n",
              "      <td>15837800</td>\n",
              "    </tr>\n",
              "    <tr>\n",
              "      <th>3</th>\n",
              "      <td>2020-02-27</td>\n",
              "      <td>57.150002</td>\n",
              "      <td>57.889999</td>\n",
              "      <td>54.880001</td>\n",
              "      <td>54.930000</td>\n",
              "      <td>53.112457</td>\n",
              "      <td>23754000</td>\n",
              "    </tr>\n",
              "    <tr>\n",
              "      <th>4</th>\n",
              "      <td>2020-02-28</td>\n",
              "      <td>53.830002</td>\n",
              "      <td>53.889999</td>\n",
              "      <td>51.580002</td>\n",
              "      <td>53.490002</td>\n",
              "      <td>51.720104</td>\n",
              "      <td>40891800</td>\n",
              "    </tr>\n",
              "    <tr>\n",
              "      <th>...</th>\n",
              "      <td>...</td>\n",
              "      <td>...</td>\n",
              "      <td>...</td>\n",
              "      <td>...</td>\n",
              "      <td>...</td>\n",
              "      <td>...</td>\n",
              "      <td>...</td>\n",
              "    </tr>\n",
              "    <tr>\n",
              "      <th>248</th>\n",
              "      <td>2021-02-17</td>\n",
              "      <td>50.000000</td>\n",
              "      <td>50.490002</td>\n",
              "      <td>49.889999</td>\n",
              "      <td>50.130001</td>\n",
              "      <td>50.130001</td>\n",
              "      <td>12794300</td>\n",
              "    </tr>\n",
              "    <tr>\n",
              "      <th>249</th>\n",
              "      <td>2021-02-18</td>\n",
              "      <td>50.160000</td>\n",
              "      <td>50.849998</td>\n",
              "      <td>50.029999</td>\n",
              "      <td>50.770000</td>\n",
              "      <td>50.770000</td>\n",
              "      <td>12747100</td>\n",
              "    </tr>\n",
              "    <tr>\n",
              "      <th>250</th>\n",
              "      <td>2021-02-19</td>\n",
              "      <td>50.790001</td>\n",
              "      <td>50.830002</td>\n",
              "      <td>49.970001</td>\n",
              "      <td>50.110001</td>\n",
              "      <td>50.110001</td>\n",
              "      <td>15966700</td>\n",
              "    </tr>\n",
              "    <tr>\n",
              "      <th>251</th>\n",
              "      <td>2021-02-22</td>\n",
              "      <td>49.849998</td>\n",
              "      <td>50.880001</td>\n",
              "      <td>49.669998</td>\n",
              "      <td>50.630001</td>\n",
              "      <td>50.630001</td>\n",
              "      <td>14365500</td>\n",
              "    </tr>\n",
              "    <tr>\n",
              "      <th>252</th>\n",
              "      <td>2021-02-23</td>\n",
              "      <td>51.000000</td>\n",
              "      <td>51.509998</td>\n",
              "      <td>50.480000</td>\n",
              "      <td>50.588402</td>\n",
              "      <td>50.588402</td>\n",
              "      <td>5214825</td>\n",
              "    </tr>\n",
              "  </tbody>\n",
              "</table>\n",
              "<p>253 rows × 7 columns</p>\n",
              "</div>"
            ],
            "text/plain": [
              "           Date       Open       High  ...      Close  Adj Close    Volume\n",
              "0    2020-02-24  59.110001  59.799999  ...  58.650002  56.709370  14415500\n",
              "1    2020-02-25  58.700001  59.200001  ...  57.820000  55.906826  15915100\n",
              "2    2020-02-26  57.980000  58.470001  ...  57.599998  55.694111  15837800\n",
              "3    2020-02-27  57.150002  57.889999  ...  54.930000  53.112457  23754000\n",
              "4    2020-02-28  53.830002  53.889999  ...  53.490002  51.720104  40891800\n",
              "..          ...        ...        ...  ...        ...        ...       ...\n",
              "248  2021-02-17  50.000000  50.490002  ...  50.130001  50.130001  12794300\n",
              "249  2021-02-18  50.160000  50.849998  ...  50.770000  50.770000  12747100\n",
              "250  2021-02-19  50.790001  50.830002  ...  50.110001  50.110001  15966700\n",
              "251  2021-02-22  49.849998  50.880001  ...  50.630001  50.630001  14365500\n",
              "252  2021-02-23  51.000000  51.509998  ...  50.588402  50.588402   5214825\n",
              "\n",
              "[253 rows x 7 columns]"
            ]
          },
          "metadata": {
            "tags": []
          },
          "execution_count": 57
        }
      ]
    },
    {
      "cell_type": "code",
      "metadata": {
        "colab": {
          "base_uri": "https://localhost:8080/",
          "height": 80
        },
        "id": "0Iaaxml11IHY",
        "outputId": "69037d4d-4396-44f7-860d-111a16a33c43"
      },
      "source": [
        "actual_price = df.tail(1)\r\n",
        "actual_price"
      ],
      "execution_count": 87,
      "outputs": [
        {
          "output_type": "execute_result",
          "data": {
            "text/html": [
              "<div>\n",
              "<style scoped>\n",
              "    .dataframe tbody tr th:only-of-type {\n",
              "        vertical-align: middle;\n",
              "    }\n",
              "\n",
              "    .dataframe tbody tr th {\n",
              "        vertical-align: top;\n",
              "    }\n",
              "\n",
              "    .dataframe thead th {\n",
              "        text-align: right;\n",
              "    }\n",
              "</style>\n",
              "<table border=\"1\" class=\"dataframe\">\n",
              "  <thead>\n",
              "    <tr style=\"text-align: right;\">\n",
              "      <th></th>\n",
              "      <th>Date</th>\n",
              "      <th>Open</th>\n",
              "      <th>High</th>\n",
              "      <th>Low</th>\n",
              "      <th>Close</th>\n",
              "      <th>Adj Close</th>\n",
              "      <th>Volume</th>\n",
              "    </tr>\n",
              "  </thead>\n",
              "  <tbody>\n",
              "    <tr>\n",
              "      <th>251</th>\n",
              "      <td>2021-02-22</td>\n",
              "      <td>49.849998</td>\n",
              "      <td>50.880001</td>\n",
              "      <td>49.669998</td>\n",
              "      <td>50.630001</td>\n",
              "      <td>50.630001</td>\n",
              "      <td>14365500</td>\n",
              "    </tr>\n",
              "  </tbody>\n",
              "</table>\n",
              "</div>"
            ],
            "text/plain": [
              "           Date       Open       High  ...      Close  Adj Close    Volume\n",
              "251  2021-02-22  49.849998  50.880001  ...  50.630001  50.630001  14365500\n",
              "\n",
              "[1 rows x 7 columns]"
            ]
          },
          "metadata": {
            "tags": []
          },
          "execution_count": 87
        }
      ]
    },
    {
      "cell_type": "code",
      "metadata": {
        "colab": {
          "base_uri": "https://localhost:8080/",
          "height": 419
        },
        "id": "j0-CTNqn1IMW",
        "outputId": "a6b3b1be-e5da-4014-b1c5-76ece37f7867"
      },
      "source": [
        "df = df.head(len(df)-1)\r\n",
        "df"
      ],
      "execution_count": 60,
      "outputs": [
        {
          "output_type": "execute_result",
          "data": {
            "text/html": [
              "<div>\n",
              "<style scoped>\n",
              "    .dataframe tbody tr th:only-of-type {\n",
              "        vertical-align: middle;\n",
              "    }\n",
              "\n",
              "    .dataframe tbody tr th {\n",
              "        vertical-align: top;\n",
              "    }\n",
              "\n",
              "    .dataframe thead th {\n",
              "        text-align: right;\n",
              "    }\n",
              "</style>\n",
              "<table border=\"1\" class=\"dataframe\">\n",
              "  <thead>\n",
              "    <tr style=\"text-align: right;\">\n",
              "      <th></th>\n",
              "      <th>Date</th>\n",
              "      <th>Open</th>\n",
              "      <th>High</th>\n",
              "      <th>Low</th>\n",
              "      <th>Close</th>\n",
              "      <th>Adj Close</th>\n",
              "      <th>Volume</th>\n",
              "    </tr>\n",
              "  </thead>\n",
              "  <tbody>\n",
              "    <tr>\n",
              "      <th>0</th>\n",
              "      <td>2020-02-24</td>\n",
              "      <td>59.110001</td>\n",
              "      <td>59.799999</td>\n",
              "      <td>58.570000</td>\n",
              "      <td>58.650002</td>\n",
              "      <td>56.709370</td>\n",
              "      <td>14415500</td>\n",
              "    </tr>\n",
              "    <tr>\n",
              "      <th>1</th>\n",
              "      <td>2020-02-25</td>\n",
              "      <td>58.700001</td>\n",
              "      <td>59.200001</td>\n",
              "      <td>57.619999</td>\n",
              "      <td>57.820000</td>\n",
              "      <td>55.906826</td>\n",
              "      <td>15915100</td>\n",
              "    </tr>\n",
              "    <tr>\n",
              "      <th>2</th>\n",
              "      <td>2020-02-26</td>\n",
              "      <td>57.980000</td>\n",
              "      <td>58.470001</td>\n",
              "      <td>57.480000</td>\n",
              "      <td>57.599998</td>\n",
              "      <td>55.694111</td>\n",
              "      <td>15837800</td>\n",
              "    </tr>\n",
              "    <tr>\n",
              "      <th>3</th>\n",
              "      <td>2020-02-27</td>\n",
              "      <td>57.150002</td>\n",
              "      <td>57.889999</td>\n",
              "      <td>54.880001</td>\n",
              "      <td>54.930000</td>\n",
              "      <td>53.112457</td>\n",
              "      <td>23754000</td>\n",
              "    </tr>\n",
              "    <tr>\n",
              "      <th>4</th>\n",
              "      <td>2020-02-28</td>\n",
              "      <td>53.830002</td>\n",
              "      <td>53.889999</td>\n",
              "      <td>51.580002</td>\n",
              "      <td>53.490002</td>\n",
              "      <td>51.720104</td>\n",
              "      <td>40891800</td>\n",
              "    </tr>\n",
              "    <tr>\n",
              "      <th>...</th>\n",
              "      <td>...</td>\n",
              "      <td>...</td>\n",
              "      <td>...</td>\n",
              "      <td>...</td>\n",
              "      <td>...</td>\n",
              "      <td>...</td>\n",
              "      <td>...</td>\n",
              "    </tr>\n",
              "    <tr>\n",
              "      <th>247</th>\n",
              "      <td>2021-02-16</td>\n",
              "      <td>50.619999</td>\n",
              "      <td>50.720001</td>\n",
              "      <td>50.160000</td>\n",
              "      <td>50.270000</td>\n",
              "      <td>50.270000</td>\n",
              "      <td>15089500</td>\n",
              "    </tr>\n",
              "    <tr>\n",
              "      <th>248</th>\n",
              "      <td>2021-02-17</td>\n",
              "      <td>50.000000</td>\n",
              "      <td>50.490002</td>\n",
              "      <td>49.889999</td>\n",
              "      <td>50.130001</td>\n",
              "      <td>50.130001</td>\n",
              "      <td>12794300</td>\n",
              "    </tr>\n",
              "    <tr>\n",
              "      <th>249</th>\n",
              "      <td>2021-02-18</td>\n",
              "      <td>50.160000</td>\n",
              "      <td>50.849998</td>\n",
              "      <td>50.029999</td>\n",
              "      <td>50.770000</td>\n",
              "      <td>50.770000</td>\n",
              "      <td>12747100</td>\n",
              "    </tr>\n",
              "    <tr>\n",
              "      <th>250</th>\n",
              "      <td>2021-02-19</td>\n",
              "      <td>50.790001</td>\n",
              "      <td>50.830002</td>\n",
              "      <td>49.970001</td>\n",
              "      <td>50.110001</td>\n",
              "      <td>50.110001</td>\n",
              "      <td>15966700</td>\n",
              "    </tr>\n",
              "    <tr>\n",
              "      <th>251</th>\n",
              "      <td>2021-02-22</td>\n",
              "      <td>49.849998</td>\n",
              "      <td>50.880001</td>\n",
              "      <td>49.669998</td>\n",
              "      <td>50.630001</td>\n",
              "      <td>50.630001</td>\n",
              "      <td>14365500</td>\n",
              "    </tr>\n",
              "  </tbody>\n",
              "</table>\n",
              "<p>252 rows × 7 columns</p>\n",
              "</div>"
            ],
            "text/plain": [
              "           Date       Open       High  ...      Close  Adj Close    Volume\n",
              "0    2020-02-24  59.110001  59.799999  ...  58.650002  56.709370  14415500\n",
              "1    2020-02-25  58.700001  59.200001  ...  57.820000  55.906826  15915100\n",
              "2    2020-02-26  57.980000  58.470001  ...  57.599998  55.694111  15837800\n",
              "3    2020-02-27  57.150002  57.889999  ...  54.930000  53.112457  23754000\n",
              "4    2020-02-28  53.830002  53.889999  ...  53.490002  51.720104  40891800\n",
              "..          ...        ...        ...  ...        ...        ...       ...\n",
              "247  2021-02-16  50.619999  50.720001  ...  50.270000  50.270000  15089500\n",
              "248  2021-02-17  50.000000  50.490002  ...  50.130001  50.130001  12794300\n",
              "249  2021-02-18  50.160000  50.849998  ...  50.770000  50.770000  12747100\n",
              "250  2021-02-19  50.790001  50.830002  ...  50.110001  50.110001  15966700\n",
              "251  2021-02-22  49.849998  50.880001  ...  50.630001  50.630001  14365500\n",
              "\n",
              "[252 rows x 7 columns]"
            ]
          },
          "metadata": {
            "tags": []
          },
          "execution_count": 60
        }
      ]
    },
    {
      "cell_type": "code",
      "metadata": {
        "id": "ILQ32udu1IOb"
      },
      "source": [
        "days = list()\r\n",
        "adj_close_prices = list()\r\n"
      ],
      "execution_count": 61,
      "outputs": []
    },
    {
      "cell_type": "code",
      "metadata": {
        "id": "6Wai5T9w1IQz"
      },
      "source": [
        "df_days = df.loc[:, 'Date']\r\n",
        "df_adj_close = df.loc[:, 'Adj Close']"
      ],
      "execution_count": 62,
      "outputs": []
    },
    {
      "cell_type": "code",
      "metadata": {
        "id": "1xHevaDy1ITG"
      },
      "source": [
        "for day in df_days:\r\n",
        "  days.append([int(day.split('-')[2])])\r\n",
        "#depenedent data sets\r\n",
        "for adj_close_price in df_adj_close:\r\n",
        "  adj_close_prices.append(float(adj_close_price))"
      ],
      "execution_count": 63,
      "outputs": []
    },
    {
      "cell_type": "code",
      "metadata": {
        "colab": {
          "base_uri": "https://localhost:8080/"
        },
        "id": "vBU6Gg691IXT",
        "outputId": "86952991-0842-4a6b-ee5d-da557247734d"
      },
      "source": [
        "days \r\n",
        "adj_close_prices"
      ],
      "execution_count": 79,
      "outputs": [
        {
          "output_type": "execute_result",
          "data": {
            "text/plain": [
              "[56.70936999999999,\n",
              " 55.906826,\n",
              " 55.694111,\n",
              " 53.11245699999999,\n",
              " 51.720104,\n",
              " 54.069697999999995,\n",
              " 54.20506700000001,\n",
              " 56.970428000000005,\n",
              " 54.862564,\n",
              " 53.431538,\n",
              " 50.144034999999995,\n",
              " 51.884476,\n",
              " 50.482456,\n",
              " 45.599552,\n",
              " 47.277225,\n",
              " 44.146214,\n",
              " 46.01897,\n",
              " 43.746311,\n",
              " 40.800629,\n",
              " 37.357494,\n",
              " 36.635704,\n",
              " 38.479195000000004,\n",
              " 40.586040000000004,\n",
              " 43.200092,\n",
              " 41.756512,\n",
              " 43.892616,\n",
              " 43.161076,\n",
              " 41.083488,\n",
              " 42.868454,\n",
              " 42.751411,\n",
              " 45.521522999999995,\n",
              " 45.365456,\n",
              " 46.643219,\n",
              " 47.794182,\n",
              " 45.775124,\n",
              " 47.716152,\n",
              " 46.438389,\n",
              " 45.940940999999995,\n",
              " 46.877319,\n",
              " 45.38496,\n",
              " 44.263268,\n",
              " 44.555884999999996,\n",
              " 43.960892,\n",
              " 44.312034999999995,\n",
              " 45.628811,\n",
              " 45.589802,\n",
              " 45.960445,\n",
              " 44.760712,\n",
              " 44.477848,\n",
              " 44.029167,\n",
              " 44.282776,\n",
              " 43.648769,\n",
              " 43.502457,\n",
              " 44.975304,\n",
              " 44.419331,\n",
              " 43.717048999999996,\n",
              " 42.8587,\n",
              " 42.624611,\n",
              " 42.195434999999996,\n",
              " 43.863358000000005,\n",
              " 43.443939,\n",
              " 44.760712,\n",
              " 44.05843,\n",
              " 43.921875,\n",
              " 44.955795,\n",
              " 45.580044,\n",
              " 45.931183000000004,\n",
              " 45.531273,\n",
              " 45.833645000000004,\n",
              " 45.745865,\n",
              " 46.721252,\n",
              " 46.740753000000005,\n",
              " 47.881969,\n",
              " 48.623264,\n",
              " 47.794182,\n",
              " 47.423534000000004,\n",
              " 44.419331,\n",
              " 44.881927000000005,\n",
              " 45.570904,\n",
              " 46.033504,\n",
              " 45.846497,\n",
              " 46.250042,\n",
              " 45.295315,\n",
              " 45.019721999999994,\n",
              " 44.921295,\n",
              " 43.946888,\n",
              " 44.222477000000005,\n",
              " 42.883896,\n",
              " 43.661457,\n",
              " 43.976414,\n",
              " 44.114212,\n",
              " 44.173266999999996,\n",
              " 44.517757,\n",
              " 44.498065999999994,\n",
              " 44.360275,\n",
              " 43.218544,\n",
              " 44.439018,\n",
              " 44.537440999999994,\n",
              " 45.147675,\n",
              " 45.669331,\n",
              " 45.423266999999996,\n",
              " 46.082718,\n",
              " 45.393738,\n",
              " 46.456734000000004,\n",
              " 47.716576,\n",
              " 47.519726,\n",
              " 47.726421,\n",
              " 47.716576,\n",
              " 47.421299,\n",
              " 47.263821,\n",
              " 46.939014,\n",
              " 46.496105,\n",
              " 45.570904,\n",
              " 45.954762,\n",
              " 46.476418,\n",
              " 46.732323,\n",
              " 47.047283,\n",
              " 46.968544,\n",
              " 47.17524,\n",
              " 47.667362,\n",
              " 47.618153,\n",
              " 47.687046,\n",
              " 47.450829,\n",
              " 47.65752,\n",
              " 46.624054,\n",
              " 46.60437,\n",
              " 46.535472999999996,\n",
              " 47.214607,\n",
              " 47.155552,\n",
              " 47.401615,\n",
              " 47.470512,\n",
              " 49.045319,\n",
              " 48.750042,\n",
              " 48.346497,\n",
              " 50.3839,\n",
              " 49.685081,\n",
              " 50.236263,\n",
              " 49.025635,\n",
              " 49.399646999999995,\n",
              " 49.212639,\n",
              " 50.255951,\n",
              " 50.315478999999996,\n",
              " 50.652836,\n",
              " 50.394859000000004,\n",
              " 50.156727000000004,\n",
              " 50.057507,\n",
              " 48.708084,\n",
              " 49.273651,\n",
              " 47.83493,\n",
              " 48.321121000000005,\n",
              " 48.340965000000004,\n",
              " 48.896606,\n",
              " 48.539406,\n",
              " 48.985904999999995,\n",
              " 48.797385999999996,\n",
              " 48.975986,\n",
              " 48.995831,\n",
              " 48.55925,\n",
              " 49.174431,\n",
              " 50.067425,\n",
              " 50.414703,\n",
              " 50.692524,\n",
              " 49.829296,\n",
              " 49.730072,\n",
              " 49.601085999999995,\n",
              " 49.64077,\n",
              " 49.233959000000006,\n",
              " 49.859058000000005,\n",
              " 49.601085999999995,\n",
              " 50.285717,\n",
              " 50.126961,\n",
              " 49.41256,\n",
              " 49.511784000000006,\n",
              " 47.586876000000004,\n",
              " 47.646408,\n",
              " 47.6861,\n",
              " 48.241741,\n",
              " 48.966060999999996,\n",
              " 48.787459999999996,\n",
              " 49.055359,\n",
              " 49.065284999999996,\n",
              " 52.161011,\n",
              " 53.56004,\n",
              " 53.163155,\n",
              " 52.597588,\n",
              " 53.034164000000004,\n",
              " 53.431049,\n",
              " 53.262375,\n",
              " 52.200699,\n",
              " 52.71665600000001,\n",
              " 52.260231,\n",
              " 52.270157,\n",
              " 52.80595400000001,\n",
              " 52.518211,\n",
              " 52.290001000000004,\n",
              " 51.599998,\n",
              " 52.040001000000004,\n",
              " 52.110001000000004,\n",
              " 52.779999,\n",
              " 53.849998,\n",
              " 52.990002000000004,\n",
              " 53.18,\n",
              " 53.330002,\n",
              " 53.049999,\n",
              " 53.349998,\n",
              " 53.27,\n",
              " 53.84,\n",
              " 53.060001,\n",
              " 53.27,\n",
              " 53.740002000000004,\n",
              " 52.810001,\n",
              " 52.759997999999996,\n",
              " 53.080002,\n",
              " 53.439999,\n",
              " 54.16,\n",
              " 54.130001,\n",
              " 54.439999,\n",
              " 54.84,\n",
              " 52.759997999999996,\n",
              " 52.18,\n",
              " 50.52,\n",
              " 49.959998999999996,\n",
              " 51.080002,\n",
              " 50.200001,\n",
              " 50.110001000000004,\n",
              " 50.16,\n",
              " 49.23,\n",
              " 48.700001,\n",
              " 48.509997999999996,\n",
              " 48.68,\n",
              " 48.950001,\n",
              " 48.490002000000004,\n",
              " 48.779999,\n",
              " 49.290001000000004,\n",
              " 48.529999,\n",
              " 49.150002,\n",
              " 48.150002,\n",
              " 48.48,\n",
              " 48.959998999999996,\n",
              " 48.77,\n",
              " 49.009997999999996,\n",
              " 49.650002,\n",
              " 49.919998,\n",
              " 49.700001,\n",
              " 49.599998,\n",
              " 50.299999,\n",
              " 50.689999,\n",
              " 50.27,\n",
              " 50.130001,\n",
              " 50.77,\n",
              " 50.110001000000004,\n",
              " 50.630001]"
            ]
          },
          "metadata": {
            "tags": []
          },
          "execution_count": 79
        }
      ]
    },
    {
      "cell_type": "code",
      "metadata": {
        "colab": {
          "base_uri": "https://localhost:8080/"
        },
        "id": "cN-vwPMA6Zf8",
        "outputId": "ef67e084-a349-41b2-e160-a71b50c799b0"
      },
      "source": [
        "#creating 3 models\r\n",
        "lin_svr = SVR(kernel='linear', C=1000.0)\r\n",
        "lin_svr.fit(days, adj_close_prices)\r\n",
        "\r\n",
        "poly_svr = SVR(kernel='poly', C=1000.0, degree=2) \r\n",
        "poly_svr.fit(days, adj_close_prices)\r\n",
        "\r\n",
        "rbf_svr = SVR(kernel='rbf', C=1000.0 ,gamma=0.85)\r\n",
        "rbf_svr.fit(days, adj_close_prices)\r\n",
        "\r\n"
      ],
      "execution_count": 80,
      "outputs": [
        {
          "output_type": "execute_result",
          "data": {
            "text/plain": [
              "SVR(C=1000.0, cache_size=200, coef0=0.0, degree=3, epsilon=0.1, gamma=0.85,\n",
              "    kernel='rbf', max_iter=-1, shrinking=True, tol=0.001, verbose=False)"
            ]
          },
          "metadata": {
            "tags": []
          },
          "execution_count": 80
        }
      ]
    },
    {
      "cell_type": "code",
      "metadata": {
        "colab": {
          "base_uri": "https://localhost:8080/",
          "height": 747
        },
        "id": "fYIxVZHp6Ziu",
        "outputId": "746598cf-73d8-4a18-f8a6-355be3851ede"
      },
      "source": [
        "#plot the models\r\n",
        "plt.figure(figsize=(32,16))\r\n",
        "plt.scatter(days, adj_close_prices, color = 'black', label = 'Data')\r\n",
        "plt.plot(days, rbf_svr.predict(days), color = 'green', label= 'RBF Model')\r\n",
        "plt.plot(days, poly_svr.predict(days), color = 'orange', label= 'polynomial Model')\r\n",
        "plt.plot(days, lin_svr.predict(days), color = 'blue', label= 'Linear Model')\r\n",
        "plt.xlabel('Days')\r\n",
        "plt.ylabel('Adj Close Price ($)')\r\n",
        "plt.legend\r\n",
        "plt.show\r\n"
      ],
      "execution_count": 81,
      "outputs": [
        {
          "output_type": "execute_result",
          "data": {
            "text/plain": [
              "<function matplotlib.pyplot.show>"
            ]
          },
          "metadata": {
            "tags": []
          },
          "execution_count": 81
        },
        {
          "output_type": "display_data",
          "data": {
            "image/png": "[encoded data removed]",
            "text/plain": [
              "<Figure size 2304x1152 with 1 Axes>"
            ]
          },
          "metadata": {
            "tags": []
          }
        }
      ]
    },
    {
      "cell_type": "code",
      "metadata": {
        "colab": {
          "base_uri": "https://localhost:8080/"
        },
        "id": "NZHnAnC66ZlT",
        "outputId": "c6539818-a3af-4bdc-e62e-6a4a719bc378"
      },
      "source": [
        "day = [[22]]\r\n",
        "\r\n",
        "print ('The RBF SVR Predicted price: ', rbf_svr.predict(day))\r\n",
        "print ('The Linear SVR Predicted price: ', lin_svr.predict(day))\r\n",
        "print ('The Polyomial SVR Predicted price: ', poly_svr.predict(day))"
      ],
      "execution_count": 92,
      "outputs": [
        {
          "output_type": "stream",
          "text": [
            "The RBF SVR Predicted price:  [48.39005007]\n",
            "The Linear SVR Predicted price:  [47.9653477]\n",
            "The Polyomial SVR Predicted price:  [48.11459115]\n"
          ],
          "name": "stdout"
        }
      ]
    },
    {
      "cell_type": "code",
      "metadata": {
        "colab": {
          "base_uri": "https://localhost:8080/"
        },
        "id": "RDS9L1D31IZW",
        "outputId": "d9d655e8-5f35-450a-cc38-fd4f731fc4f4"
      },
      "source": [
        "print('The actual price ', actual_price['Adj Close'])"
      ],
      "execution_count": 89,
      "outputs": [
        {
          "output_type": "stream",
          "text": [
            "The actual price  251    50.630001\n",
            "Name: Adj Close, dtype: float64\n"
          ],
          "name": "stdout"
        }
      ]
    }
  ]
}